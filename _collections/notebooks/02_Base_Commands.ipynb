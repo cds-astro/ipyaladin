{
 "cells": [
  {
   "attachments": {},
   "cell_type": "markdown",
   "metadata": {},
   "source": [
    "# Aladin commands"
   ]
  },
  {
   "cell_type": "code",
   "execution_count": 1,
   "metadata": {
    "execution": {
     "iopub.execute_input": "2024-07-23T12:27:42.023558Z",
     "iopub.status.busy": "2024-07-23T12:27:42.023105Z",
     "iopub.status.idle": "2024-07-23T12:27:42.712676Z",
     "shell.execute_reply": "2024-07-23T12:27:42.712141Z"
    }
   },
   "outputs": [],
   "source": [
    "from ipyaladin import Aladin\n",
    "from pathlib import Path"
   ]
  },
  {
   "attachments": {},
   "cell_type": "markdown",
   "metadata": {},
   "source": [
    "A list of all available commands can be displayed as such."
   ]
  },
  {
   "cell_type": "code",
   "execution_count": 2,
   "metadata": {
    "execution": {
     "iopub.execute_input": "2024-07-23T12:27:42.715647Z",
     "iopub.status.busy": "2024-07-23T12:27:42.715023Z",
     "iopub.status.idle": "2024-07-23T12:27:42.718584Z",
     "shell.execute_reply": "2024-07-23T12:27:42.718008Z"
    }
   },
   "outputs": [
    {
     "name": "stdout",
     "output_type": "stream",
     "text": [
      "['__annotations__', '__class__', '__copy__', '__deepcopy__', '__del__', '__delattr__', '__dict__', '__dir__', '__doc__', '__eq__', '__format__', '__ge__', '__getattribute__', '__getstate__', '__gt__', '__hash__', '__init__', '__init_subclass__', '__le__', '__lt__', '__module__', '__ne__', '__new__', '__reduce__', '__reduce_ex__', '__repr__', '__setattr__', '__setstate__', '__sizeof__', '__str__', '__subclasshook__', '__weakref__', '_active_widgets', '_add_notifiers', '_all_trait_default_generators', '_anywidget_commands', '_call_widget_constructed', '_comm_changed', '_compare', '_control_comm', '_css', '_default_keys', '_descriptors', '_dom_classes', '_esm', '_fov', '_fov_xy', '_gen_repr_from_keys', '_get_embed_state', '_get_trait_default_generator', '_handle_control_comm_msg', '_handle_custom_message', '_handle_custom_msg', '_handle_msg', '_height', '_holding_sync', '_init_options', '_instance_inits', '_is_numpy', '_lock_property', '_log_default', '_model_module', '_model_module_version', '_model_name', '_msg_callbacks', '_notify_observers', '_notify_trait', '_property_lock', '_register_validator', '_remove_notifiers', '_repr_keys', '_repr_mimebundle_', '_send', '_should_send_property', '_states_to_send', '_static_immutable_initial_values', '_target', '_trait_default_generators', '_trait_from_json', '_trait_to_json', '_traits', '_view_count', '_view_module', '_view_module_version', '_view_name', '_wcs', '_widget_construction_callback', '_widget_types', 'add_catalog_from_URL', 'add_class', 'add_fits', 'add_graphic_overlay_from_region', 'add_graphic_overlay_from_stcs', 'add_listener', 'add_moc', 'add_moc_from_URL', 'add_moc_from_dict', 'add_overlay_from_stcs', 'add_table', 'add_traits', 'background_color', 'blur', 'class_own_trait_events', 'class_own_traits', 'class_trait_names', 'class_traits', 'clicked_object', 'close', 'close_all', 'comm', 'coo_frame', 'cross_validation_lock', 'focus', 'fov', 'fov_xy', 'full_screen', 'get_JPEG_thumbnail', 'get_manager_state', 'get_state', 'get_view_spec', 'grid_color', 'grid_opacity', 'grid_options', 'handle_comm_opened', 'handle_control_comm_opened', 'has_trait', 'height', 'hold_sync', 'hold_trait_notifications', 'init_options', 'keys', 'layout', 'listener_callback', 'log', 'model_id', 'notify_change', 'observe', 'on_msg', 'on_trait_change', 'on_widget_constructed', 'open', 'overlay_survey', 'overlay_survey_opacity', 'projection', 'rectangular_selection', 'remove_class', 'reticle_color', 'reticle_size', 'samp', 'send', 'send_state', 'set_color_map', 'set_listener', 'set_state', 'set_trait', 'setup_instance', 'show_catalog', 'show_context_menu', 'show_coo_grid', 'show_coo_grid_control', 'show_coo_location', 'show_fov', 'show_frame', 'show_fullscreen_control', 'show_layers_control', 'show_projection_control', 'show_reticle', 'show_settings_control', 'show_share_control', 'show_simbad_pointer_control', 'show_status_bar', 'show_zoom_control', 'survey', 'tabbable', 'target', 'tooltip', 'trait_defaults', 'trait_events', 'trait_has_value', 'trait_metadata', 'trait_names', 'trait_values', 'traits', 'unobserve', 'unobserve_all', 'wcs', 'widget_types', 'widgets']\n"
     ]
    }
   ],
   "source": [
    "print(dir(Aladin))"
   ]
  },
  {
   "attachments": {},
   "cell_type": "markdown",
   "metadata": {},
   "source": [
    "A few of them are illustrated in the next cells. Let's first, create the widget with a few initial parameters:"
   ]
  },
  {
   "cell_type": "code",
   "execution_count": 3,
   "metadata": {
    "execution": {
     "iopub.execute_input": "2024-07-23T12:27:42.752551Z",
     "iopub.status.busy": "2024-07-23T12:27:42.752124Z",
     "iopub.status.idle": "2024-07-23T12:27:42.778576Z",
     "shell.execute_reply": "2024-07-23T12:27:42.777966Z"
    }
   },
   "outputs": [
    {
     "data": {
      "application/vnd.jupyter.widget-view+json": {
       "model_id": "a161738893584f3580abadfa645747ef",
       "version_major": 2,
       "version_minor": 1
      },
      "text/plain": [
       "Aladin(init_options=['_fov', '_height', '_target', 'background_color', 'coo_frame', 'full_screen', 'grid_color…"
      ]
     },
     "execution_count": 3,
     "metadata": {},
     "output_type": "execute_result"
    }
   ],
   "source": [
    "aladin = Aladin(fov=20, reticle_size=64, reticle_color=\"#ff89ff\")\n",
    "aladin"
   ]
  },
  {
   "attachments": {},
   "cell_type": "markdown",
   "metadata": {},
   "source": [
    "They can also be modified in the next cells with an interactive effect on the generated view."
   ]
  },
  {
   "cell_type": "code",
   "execution_count": 4,
   "metadata": {
    "execution": {
     "iopub.execute_input": "2024-07-23T12:27:42.780847Z",
     "iopub.status.busy": "2024-07-23T12:27:42.780500Z",
     "iopub.status.idle": "2024-07-23T12:27:43.783006Z",
     "shell.execute_reply": "2024-07-23T12:27:43.782407Z"
    },
    "tags": []
   },
   "outputs": [],
   "source": [
    "aladin.target = \"sgr a*\""
   ]
  },
  {
   "cell_type": "code",
   "execution_count": 5,
   "metadata": {
    "execution": {
     "iopub.execute_input": "2024-07-23T12:27:43.785327Z",
     "iopub.status.busy": "2024-07-23T12:27:43.784947Z",
     "iopub.status.idle": "2024-07-23T12:27:43.790182Z",
     "shell.execute_reply": "2024-07-23T12:27:43.789693Z"
    }
   },
   "outputs": [
    {
     "data": {
      "text/plain": [
       "<SkyCoord (ICRS): (ra, dec) in deg\n",
       "    (266.41681663, -29.00782497)>"
      ]
     },
     "execution_count": 5,
     "metadata": {},
     "output_type": "execute_result"
    }
   ],
   "source": [
    "aladin.target"
   ]
  },
  {
   "cell_type": "markdown",
   "metadata": {},
   "source": [
    "The x-axis field of view (fov) can be set"
   ]
  },
  {
   "cell_type": "code",
   "execution_count": 6,
   "metadata": {
    "execution": {
     "iopub.execute_input": "2024-07-23T12:27:43.792345Z",
     "iopub.status.busy": "2024-07-23T12:27:43.791991Z",
     "iopub.status.idle": "2024-07-23T12:27:43.795021Z",
     "shell.execute_reply": "2024-07-23T12:27:43.794463Z"
    },
    "tags": []
   },
   "outputs": [],
   "source": [
    "aladin.fov = 2"
   ]
  },
  {
   "cell_type": "code",
   "execution_count": 7,
   "metadata": {
    "execution": {
     "iopub.execute_input": "2024-07-23T12:27:43.797248Z",
     "iopub.status.busy": "2024-07-23T12:27:43.796892Z",
     "iopub.status.idle": "2024-07-23T12:27:43.800874Z",
     "shell.execute_reply": "2024-07-23T12:27:43.800321Z"
    }
   },
   "outputs": [
    {
     "data": {
      "text/latex": [
       "$2^\\circ00{}^\\prime00{}^{\\prime\\prime}$"
      ],
      "text/plain": [
       "<Angle 2. deg>"
      ]
     },
     "execution_count": 7,
     "metadata": {},
     "output_type": "execute_result"
    }
   ],
   "source": [
    "aladin.fov"
   ]
  },
  {
   "cell_type": "markdown",
   "metadata": {},
   "source": [
    "The overlay survey is always on top of the base layer"
   ]
  },
  {
   "cell_type": "code",
   "execution_count": 8,
   "metadata": {
    "execution": {
     "iopub.execute_input": "2024-07-23T12:27:43.803125Z",
     "iopub.status.busy": "2024-07-23T12:27:43.802777Z",
     "iopub.status.idle": "2024-07-23T12:27:43.805761Z",
     "shell.execute_reply": "2024-07-23T12:27:43.805188Z"
    },
    "tags": []
   },
   "outputs": [],
   "source": [
    "aladin.overlay_survey = \"P/allWISE/color\"\n",
    "aladin.overlay_survey_opacity = 0.5"
   ]
  },
  {
   "cell_type": "markdown",
   "metadata": {},
   "source": [
    "We can change the coordinate frame (the choices are `ICRS`, `ICRSd` or `Galactic`)."
   ]
  },
  {
   "cell_type": "code",
   "execution_count": 9,
   "metadata": {
    "execution": {
     "iopub.execute_input": "2024-07-23T12:27:43.808007Z",
     "iopub.status.busy": "2024-07-23T12:27:43.807654Z",
     "iopub.status.idle": "2024-07-23T12:27:43.810686Z",
     "shell.execute_reply": "2024-07-23T12:27:43.810134Z"
    },
    "tags": []
   },
   "outputs": [],
   "source": [
    "aladin.coo_frame = \"ICRSd\"  # ICRS, and angles expressed in degrees"
   ]
  },
  {
   "cell_type": "code",
   "execution_count": 10,
   "metadata": {
    "execution": {
     "iopub.execute_input": "2024-07-23T12:27:43.812930Z",
     "iopub.status.busy": "2024-07-23T12:27:43.812417Z",
     "iopub.status.idle": "2024-07-23T12:27:43.816362Z",
     "shell.execute_reply": "2024-07-23T12:27:43.815884Z"
    }
   },
   "outputs": [
    {
     "data": {
      "text/plain": [
       "'ICRSd'"
      ]
     },
     "execution_count": 10,
     "metadata": {},
     "output_type": "execute_result"
    }
   ],
   "source": [
    "aladin.coo_frame"
   ]
  },
  {
   "cell_type": "markdown",
   "metadata": {},
   "source": [
    "The target and field of view can be set with astropy objects"
   ]
  },
  {
   "cell_type": "code",
   "execution_count": 11,
   "metadata": {
    "execution": {
     "iopub.execute_input": "2024-07-23T12:27:43.818537Z",
     "iopub.status.busy": "2024-07-23T12:27:43.818177Z",
     "iopub.status.idle": "2024-07-23T12:27:43.820927Z",
     "shell.execute_reply": "2024-07-23T12:27:43.820453Z"
    }
   },
   "outputs": [],
   "source": [
    "from astropy.coordinates import Angle, SkyCoord"
   ]
  },
  {
   "cell_type": "code",
   "execution_count": 12,
   "metadata": {
    "execution": {
     "iopub.execute_input": "2024-07-23T12:27:43.823064Z",
     "iopub.status.busy": "2024-07-23T12:27:43.822699Z",
     "iopub.status.idle": "2024-07-23T12:27:43.827415Z",
     "shell.execute_reply": "2024-07-23T12:27:43.826822Z"
    }
   },
   "outputs": [],
   "source": [
    "aladin.target = SkyCoord(\"12h00m00s\", \"-30d00m00s\", frame=\"icrs\")"
   ]
  },
  {
   "cell_type": "code",
   "execution_count": 13,
   "metadata": {
    "execution": {
     "iopub.execute_input": "2024-07-23T12:27:43.829673Z",
     "iopub.status.busy": "2024-07-23T12:27:43.829313Z",
     "iopub.status.idle": "2024-07-23T12:27:43.832904Z",
     "shell.execute_reply": "2024-07-23T12:27:43.832281Z"
    }
   },
   "outputs": [],
   "source": [
    "aladin.fov = Angle(5, \"deg\")"
   ]
  },
  {
   "cell_type": "markdown",
   "metadata": {},
   "source": [
    "You can also add a FITS image to the view of the widget, either as a path (string of pathlib.Path object) or as an\n",
    "astropy HDU object."
   ]
  },
  {
   "cell_type": "code",
   "execution_count": 14,
   "metadata": {
    "execution": {
     "iopub.execute_input": "2024-07-23T12:27:43.835062Z",
     "iopub.status.busy": "2024-07-23T12:27:43.834703Z",
     "iopub.status.idle": "2024-07-23T12:27:43.844967Z",
     "shell.execute_reply": "2024-07-23T12:27:43.844147Z"
    }
   },
   "outputs": [],
   "source": [
    "aladin.add_fits(Path(\"images/m31.fits\"), name=\"M31\", opacity=0.5)"
   ]
  }
 ],
 "metadata": {
  "kernelspec": {
   "display_name": "Python 3",
   "language": "python",
   "name": "python3"
  },
  "language_info": {
   "codemirror_mode": {
    "name": "ipython",
    "version": 3
   },
   "file_extension": ".py",
   "mimetype": "text/x-python",
   "name": "python",
   "nbconvert_exporter": "python",
   "pygments_lexer": "ipython3",
   "version": "3.12.4"
  },
  "vscode": {
   "interpreter": {
    "hash": "916dbcbb3f70747c44a77c7bcd40155683ae19c65e1c03b4aa3499c5328201f1"
   }
  },
  "widgets": {
   "application/vnd.jupyter.widget-state+json": {
    "state": {
     "a161738893584f3580abadfa645747ef": {
      "model_module": "anywidget",
      "model_module_version": "~0.9.*",
      "model_name": "AnyModel",
      "state": {
       "_anywidget_id": "ipyaladin.widget.Aladin",
       "_css": ".cell-output-ipywidget-background{background:transparent}.jp-OutputArea-output,.aladin-widget{background-color:transparent}.aladin-widget .aladin-measurement-div{max-height:100px}\n",
       "_dom_classes": [],
       "_esm": "function f(n){n.charAt(0)===\"_\"&&(n=n.slice(1));let e=n.split(\"_\");for(let a=1;a<e.length;a++)e[a]=e[a].charAt(0).toUpperCase()+e[a].slice(1);return e.join(\"\")}function h(n){let e={};for(let a in n)e[f(a)]=n[a];return e}var c=class{locked=!1;unlock(){this.locked=!1}lock(){this.locked=!0}},m=-1;function u(n){m=n}import _ from\"https://esm.sh/aladin-lite@3.4.5-beta\";var l=_;var y=0,g=class{constructor(e,a){this.aladin=e,this.model=a}handleChangeFoV(e){this.aladin.setFoV(e.fov)}handleGotoRaDec(e){this.aladin.gotoRaDec(e.ra,e.dec)}handleAddFits(e,a){let i=h(e.options||{});i.name||(i.name=`image_${String(++y).padStart(3,\"0\")}`);let s=a[0],t=new Blob([s],{type:\"application/octet-stream\"}),o=URL.createObjectURL(t),d=this.aladin.createImageFITS(o,i,(r,v)=>{this.aladin.gotoRaDec(r,v),console.info(`FITS located at ra: ${r}, dec: ${v}`),URL.revokeObjectURL(o)});this.aladin.setOverlayImageLayer(d,i.name)}handleAddCatalogFromURL(e){let a=h(e.options||{});this.aladin.addCatalog(l.catalogFromURL(e.votable_URL,a))}handleAddMOCFromURL(e){let a=h(e.options||{});this.aladin.addMOC(l.MOCFromURL(e.moc_URL,a))}handleAddMOCFromDict(e){let a=h(e.options||{});this.aladin.addMOC(l.MOCFromJSON(e.moc_dict,a))}handleAddOverlay(e){let a=e.regions_infos,i=h(e.graphic_options||{});i.color||(i.color=\"red\");let s=l.graphicOverlay(i);this.aladin.addOverlay(s);for(let t of a){let o=t.infos;switch(t.region_type){case\"stcs\":s.addFootprints(l.footprintsFromSTCS(o.stcs,t.options));break;case\"circle\":s.add(l.circle(o.ra,o.dec,o.radius,t.options));break;case\"ellipse\":s.add(l.ellipse(o.ra,o.dec,o.a,o.b,o.theta,t.options));break;case\"line\":t.options.lineWidth=t.options.lineWidth||3,s.add(l.vector(o.ra1,o.dec1,o.ra2,o.dec2,t.options));break;case\"polygon\":s.add(l.polygon(o.vertices,t.options));break}}}handleChangeColormap(e){this.aladin.getBaseImageLayer().setColormap(e.colormap)}handleGetJPGThumbnail(){this.aladin.exportAsPNG()}handleTriggerRectangularSelection(){this.aladin.select()}handleAddTable(e,a){let i=h(e.options||{}),s=a[0].buffer,t=new TextDecoder(\"utf-8\"),o=new Blob([t.decode(s)]),d=URL.createObjectURL(o);l.catalogFromURL(d,Object.assign(i,{onClick:\"showTable\"}),r=>{this.aladin.addCatalog(r)},!1),URL.revokeObjectURL(d)}};var p=class{constructor(e,a,i){this.aladin=e,this.aladinDiv=a,this.model=i,this.messageHandler=new g(e,i),this.currentDivNumber=parseInt(a.id.split(\"-\").pop())}isLastDiv(){if(this.currentDivNumber===m)return!0;let e=m;for(let a=e;a>=0;a--){let i=document.getElementById(`aladin-lite-div-${a}`);if(i&&i.style.display!==\"none\"){e=a;break}}return u(e),this.currentDivNumber===e}updateWCS(){this.isLastDiv()&&this.model.set(\"_wcs\",this.aladin.getViewWCS())}update2AxisFoV(){if(!this.isLastDiv())return;let e=this.aladin.getFov();this.model.set(\"_fov_xy\",{x:e[0],y:e[1]})}subscribeAll(){let e=new c,a=new c;this.aladin.on(\"positionChanged\",t=>{if(a.locked){a.unlock();return}e.lock();let o=[t.ra,t.dec];this.updateWCS(),this.model.set(\"_target\",`${o[0]} ${o[1]}`),this.model.save_changes()}),this.model.on(\"change:_target\",()=>{if(e.locked){e.unlock();return}a.lock();let t=this.model.get(\"_target\"),[o,d]=t.split(\" \");this.aladin.gotoRaDec(o,d)});let i=new c,s=new c;this.aladin.on(\"zoomChanged\",t=>{if(s.locked){s.unlock();return}i.lock(),this.updateWCS(),this.update2AxisFoV(),this.model.set(\"_fov\",parseFloat(t.toFixed(5))),this.model.save_changes()}),this.model.on(\"change:_fov\",()=>{if(i.locked){i.unlock();return}s.lock();let t=this.model.get(\"_fov\");this.aladin.setFoV(t)}),this.model.on(\"change:_height\",()=>{let t=this.model.get(\"_height\");this.aladinDiv.style.height=`${t}px`,this.updateWCS(),this.update2AxisFoV(),this.model.save_changes()}),this.aladin.on(\"cooFrameChanged\",()=>{this.updateWCS(),this.model.save_changes()}),this.aladin.on(\"projectionChanged\",()=>{this.updateWCS(),this.model.save_changes()}),this.aladin.on(\"layerChanged\",(t,o,d)=>{o!==\"base\"||d!==\"ADDED\"||(this.updateWCS(),this.model.save_changes())}),this.aladin.on(\"resizeChanged\",()=>{this.updateWCS(),this.update2AxisFoV(),this.model.save_changes()}),this.aladin.on(\"objectHovered\",t=>{t.data!==void 0&&this.model.send({event_type:\"object_hovered\",content:{ra:t.ra,dec:t.dec}})}),this.aladin.on(\"objectClicked\",t=>{if(t){let o={ra:t.ra,dec:t.dec};t.data!==void 0&&(o.data=t.data),this.model.set(\"clicked_object\",o),this.model.send({event_type:\"object_clicked\",content:o}),this.model.save_changes()}}),this.aladin.on(\"click\",t=>{this.model.send({event_type:\"click\",content:t})}),this.aladin.on(\"select\",t=>{let o=[];t.forEach(d=>{d.forEach(r=>{o.push({ra:r.ra,dec:r.dec,data:r.data,x:r.x,y:r.y})})}),this.model.send({event_type:\"select\",content:o})}),this.model.on(\"change:coo_frame\",()=>{this.aladin.setFrame(this.model.get(\"coo_frame\"))}),this.model.on(\"change:survey\",()=>{this.aladin.setImageSurvey(this.model.get(\"survey\"))}),this.model.on(\"change:overlay_survey\",()=>{this.aladin.setOverlayImageLayer(this.model.get(\"overlay_survey\"))}),this.model.on(\"change:overlay_survey_opacity\",()=>{this.aladin.getOverlayImageLayer().setAlpha(this.model.get(\"overlay_survey_opacity\"))}),this.eventHandlers={change_fov:this.messageHandler.handleChangeFoV,goto_ra_dec:this.messageHandler.handleGotoRaDec,add_fits:this.messageHandler.handleAddFits,add_catalog_from_URL:this.messageHandler.handleAddCatalogFromURL,add_MOC_from_URL:this.messageHandler.handleAddMOCFromURL,add_MOC_from_dict:this.messageHandler.handleAddMOCFromDict,add_overlay:this.messageHandler.handleAddOverlay,change_colormap:this.messageHandler.handleChangeColormap,get_JPG_thumbnail:this.messageHandler.handleGetJPGThumbnail,trigger_rectangular_selection:this.messageHandler.handleTriggerRectangularSelection,add_table:this.messageHandler.handleAddTable},this.model.on(\"msg:custom\",(t,o)=>{let d=t.event_name,r=this.eventHandlers[d];if(r)r.call(this,t,o);else throw new Error(`Unknown event name: ${d}`)})}unsubscribeAll(){this.model.off(\"change:_target\"),this.model.off(\"change:_fov\"),this.model.off(\"change:_height\"),this.model.off(\"change:coo_frame\"),this.model.off(\"change:survey\"),this.model.off(\"change:overlay_survey\"),this.model.off(\"change:overlay_survey_opacity\"),this.model.off(\"change:trigger_event\"),this.model.off(\"msg:custom\")}};function b(n,e){u(m+1);let a={};n.get(\"init_options\").forEach(d=>{a[f(d)]=n.get(d)});let i=document.createElement(\"div\");i.classList.add(\"aladin-widget\"),i.style.height=`${a.height}px`,i.id=`aladin-lite-div-${m}`;let s=new l.aladin(i,a),t=a.target.split(\" \");s.gotoRaDec(t[0],t[1]);let o=s.getFov();return n.set(\"_fov_xy\",{x:o[0],y:o[1]}),n.set(\"_wcs\",s.getViewWCS()),n.save_changes(),e.appendChild(i),{aladin:s,aladinDiv:i}}async function C({model:n}){await l.init}function k({model:n,el:e}){let{aladin:a,aladinDiv:i}=b(n,e),s=new p(a,i,n);return s.subscribeAll(),()=>{s.unsubscribeAll()}}var j={initialize:C,render:k};export{j as default};\n",
       "_fov": 5.0,
       "_fov_xy": {},
       "_height": 400,
       "_model_module": "anywidget",
       "_model_module_version": "~0.9.*",
       "_model_name": "AnyModel",
       "_target": "179.99999999999997 -30.0",
       "_view_count": null,
       "_view_module": "anywidget",
       "_view_module_version": "~0.9.*",
       "_view_name": "AnyView",
       "_wcs": {},
       "background_color": "rgb(60, 60, 60)",
       "clicked_object": {},
       "coo_frame": "ICRSd",
       "full_screen": false,
       "grid_color": "rgb(178, 50, 178)",
       "grid_opacity": 0.5,
       "grid_options": {},
       "init_options": [
        "_fov",
        "_height",
        "_target",
        "background_color",
        "coo_frame",
        "full_screen",
        "grid_color",
        "grid_opacity",
        "grid_options",
        "overlay_survey",
        "overlay_survey_opacity",
        "projection",
        "reticle_color",
        "reticle_size",
        "samp",
        "show_catalog",
        "show_context_menu",
        "show_coo_grid",
        "show_coo_grid_control",
        "show_coo_location",
        "show_fov",
        "show_frame",
        "show_fullscreen_control",
        "show_layers_control",
        "show_projection_control",
        "show_reticle",
        "show_settings_control",
        "show_share_control",
        "show_simbad_pointer_control",
        "show_status_bar",
        "show_zoom_control",
        "survey"
       ],
       "layout": "IPY_MODEL_e7407e68c5c4441785ef7f5e46d21c27",
       "overlay_survey": "P/allWISE/color",
       "overlay_survey_opacity": 0.5,
       "projection": "SIN",
       "reticle_color": "#ff89ff",
       "reticle_size": 64,
       "samp": false,
       "show_catalog": true,
       "show_context_menu": true,
       "show_coo_grid": false,
       "show_coo_grid_control": true,
       "show_coo_location": true,
       "show_fov": true,
       "show_frame": true,
       "show_fullscreen_control": true,
       "show_layers_control": true,
       "show_projection_control": true,
       "show_reticle": true,
       "show_settings_control": true,
       "show_share_control": false,
       "show_simbad_pointer_control": true,
       "show_status_bar": true,
       "show_zoom_control": false,
       "survey": "https://alaskybis.unistra.fr/DSS/DSSColor",
       "tabbable": null,
       "tooltip": null
      }
     },
     "e7407e68c5c4441785ef7f5e46d21c27": {
      "model_module": "@jupyter-widgets/base",
      "model_module_version": "2.0.0",
      "model_name": "LayoutModel",
      "state": {
       "_model_module": "@jupyter-widgets/base",
       "_model_module_version": "2.0.0",
       "_model_name": "LayoutModel",
       "_view_count": null,
       "_view_module": "@jupyter-widgets/base",
       "_view_module_version": "2.0.0",
       "_view_name": "LayoutView",
       "align_content": null,
       "align_items": null,
       "align_self": null,
       "border_bottom": null,
       "border_left": null,
       "border_right": null,
       "border_top": null,
       "bottom": null,
       "display": null,
       "flex": null,
       "flex_flow": null,
       "grid_area": null,
       "grid_auto_columns": null,
       "grid_auto_flow": null,
       "grid_auto_rows": null,
       "grid_column": null,
       "grid_gap": null,
       "grid_row": null,
       "grid_template_areas": null,
       "grid_template_columns": null,
       "grid_template_rows": null,
       "height": null,
       "justify_content": null,
       "justify_items": null,
       "left": null,
       "margin": null,
       "max_height": null,
       "max_width": null,
       "min_height": null,
       "min_width": null,
       "object_fit": null,
       "object_position": null,
       "order": null,
       "overflow": null,
       "padding": null,
       "right": null,
       "top": null,
       "visibility": null,
       "width": null
      }
     }
    },
    "version_major": 2,
    "version_minor": 0
   }
  }
 },
 "nbformat": 4,
 "nbformat_minor": 4
}
