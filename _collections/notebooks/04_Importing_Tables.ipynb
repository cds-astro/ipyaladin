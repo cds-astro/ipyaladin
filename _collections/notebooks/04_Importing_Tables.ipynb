{
 "cells": [
  {
   "attachments": {},
   "cell_type": "markdown",
   "metadata": {},
   "source": [
    "# Display tables resulting from an astroquery request\n",
    "\n",
    "This example implements the addition of two tables :\n",
    "- one resulting from an astroquery request on the [Simbad](https://simbad.cds.unistra.fr/simbad/ \"https://simbad.cds.unistra.fr/simbad/\") database\n",
    "- the other is a table created locally"
   ]
  },
  {
   "cell_type": "code",
   "execution_count": 1,
   "metadata": {
    "execution": {
     "iopub.execute_input": "2024-09-19T15:51:26.279379Z",
     "iopub.status.busy": "2024-09-19T15:51:26.278936Z",
     "iopub.status.idle": "2024-09-19T15:51:27.063171Z",
     "shell.execute_reply": "2024-09-19T15:51:27.062567Z"
    }
   },
   "outputs": [],
   "source": [
    "from ipyaladin import Aladin\n",
    "from astropy.table import QTable\n",
    "import astropy.units as u\n",
    "from astroquery.simbad import Simbad"
   ]
  },
  {
   "attachments": {},
   "cell_type": "markdown",
   "metadata": {},
   "source": [
    "## From a query"
   ]
  },
  {
   "cell_type": "code",
   "execution_count": 2,
   "metadata": {
    "execution": {
     "iopub.execute_input": "2024-09-19T15:51:27.065518Z",
     "iopub.status.busy": "2024-09-19T15:51:27.065119Z",
     "iopub.status.idle": "2024-09-19T15:51:29.828259Z",
     "shell.execute_reply": "2024-09-19T15:51:29.827579Z"
    }
   },
   "outputs": [
    {
     "data": {
      "text/html": [
       "<div><i>Table length=64</i>\n",
       "<table id=\"table140078239415808\" class=\"table-striped table-bordered table-condensed\">\n",
       "<thead><tr><th>MAIN_ID</th><th>RA</th><th>DEC</th><th>RA_PREC</th><th>DEC_PREC</th><th>COO_ERR_MAJA</th><th>COO_ERR_MINA</th><th>COO_ERR_ANGLE</th><th>COO_QUAL</th><th>COO_WAVELENGTH</th><th>COO_BIBCODE</th><th>SCRIPT_NUMBER_ID</th></tr></thead>\n",
       "<thead><tr><th></th><th>&quot;h:m:s&quot;</th><th>&quot;d:m:s&quot;</th><th></th><th></th><th>mas</th><th>mas</th><th>deg</th><th></th><th></th><th></th><th></th></tr></thead>\n",
       "<thead><tr><th>object</th><th>str13</th><th>str13</th><th>int16</th><th>int16</th><th>float32</th><th>float32</th><th>int16</th><th>str1</th><th>str1</th><th>object</th><th>int32</th></tr></thead>\n",
       "<tr><td>M   1</td><td>05 34 30.9</td><td>+22 00 53</td><td>5</td><td>5</td><td>18500.000</td><td>18500.000</td><td>0</td><td>E</td><td>R</td><td>1995AuJPh..48..143S</td><td>1</td></tr>\n",
       "<tr><td>SCOPE G184.56-05.79</td><td>05 34 31</td><td>+22 00.7</td><td>4</td><td>4</td><td>--</td><td>--</td><td>0</td><td>D</td><td>s</td><td>2019MNRAS.485.2895E</td><td>1</td></tr>\n",
       "<tr><td>JCMTSF J053431.3+220045</td><td>05 34 31.3</td><td>+22 00 45</td><td>5</td><td>5</td><td>10000.000</td><td>10000.000</td><td>90</td><td>E</td><td>m</td><td>2008ApJS..175..277D</td><td>1</td></tr>\n",
       "<tr><td>PLCKERC -070 G184.55-05.78</td><td>05 34 30</td><td>+22 01.0</td><td>4</td><td>4</td><td>--</td><td>--</td><td>0</td><td>E</td><td>F</td><td>2016MNRAS.458.3619C</td><td>1</td></tr>\n",
       "<tr><td>FL8Y J0534.5+2201i</td><td>05 34.5</td><td>+22 01</td><td>3</td><td>3</td><td>--</td><td>--</td><td>0</td><td>E</td><td>G</td><td>2019ApJ...875..123Y</td><td>1</td></tr>\n",
       "<tr><td>V* CM Tau</td><td>05 34 31.9474</td><td>+22 00 52.153</td><td>14</td><td>14</td><td>0.073</td><td>0.061</td><td>90</td><td>A</td><td>O</td><td>2020yCat.1350....0G</td><td>1</td></tr>\n",
       "<tr><td>Trimble 28</td><td>05 34 32.1</td><td>+22 00 56</td><td>5</td><td>5</td><td>--</td><td>--</td><td>0</td><td>D</td><td></td><td></td><td>1</td></tr>\n",
       "<tr><td>2MASS J05343217+2200560</td><td>05 34 32.1831</td><td>+22 00 56.008</td><td>14</td><td>14</td><td>0.149</td><td>0.124</td><td>90</td><td>A</td><td>O</td><td>2020yCat.1350....0G</td><td>1</td></tr>\n",
       "<tr><td>3FGL J0534.5+2201s</td><td>05 34 31.1993</td><td>+22 01 12.001</td><td>11</td><td>11</td><td>--</td><td>--</td><td>0</td><td>E</td><td></td><td>2022ApJS..260...53A</td><td>1</td></tr>\n",
       "<tr><td>...</td><td>...</td><td>...</td><td>...</td><td>...</td><td>...</td><td>...</td><td>...</td><td>...</td><td>...</td><td>...</td><td>...</td></tr>\n",
       "<tr><td>[LBC2011] 2</td><td>05 34 34.220</td><td>+21 59 38.17</td><td>7</td><td>7</td><td>--</td><td>--</td><td>0</td><td>D</td><td>I</td><td>2011ApJS..194...30L</td><td>1</td></tr>\n",
       "<tr><td>[LBC2011] 49</td><td>05 34 28.140</td><td>+22 02 12.48</td><td>7</td><td>7</td><td>--</td><td>--</td><td>0</td><td>D</td><td>I</td><td>2011ApJS..194...30L</td><td>1</td></tr>\n",
       "<tr><td>SCOPE G184.54-05.77</td><td>05 34 32</td><td>+22 02.3</td><td>4</td><td>4</td><td>--</td><td>--</td><td>0</td><td>D</td><td>s</td><td>2019MNRAS.485.2895E</td><td>1</td></tr>\n",
       "<tr><td>[LBC2011] 38</td><td>05 34 34.100</td><td>+22 02 12.11</td><td>7</td><td>7</td><td>--</td><td>--</td><td>0</td><td>D</td><td>I</td><td>2011ApJS..194...30L</td><td>1</td></tr>\n",
       "<tr><td>NVSS J053434+220207</td><td>05 34 34.90</td><td>+22 02 07.2</td><td>6</td><td>6</td><td>9000.000</td><td>9000.000</td><td>90</td><td>D</td><td>R</td><td>1998AJ....115.1693C</td><td>1</td></tr>\n",
       "<tr><td>SCOPE G184.55-05.76</td><td>05 34 36</td><td>+22 01.9</td><td>4</td><td>4</td><td>--</td><td>--</td><td>0</td><td>D</td><td>s</td><td>2019MNRAS.485.2895E</td><td>1</td></tr>\n",
       "<tr><td>2MASS J05343759+2201222</td><td>05 34 37.5955</td><td>+22 01 22.244</td><td>14</td><td>14</td><td>0.079</td><td>0.064</td><td>90</td><td>A</td><td>O</td><td>2020yCat.1350....0G</td><td>1</td></tr>\n",
       "<tr><td>2MASS J05343821+2200486</td><td>05 34 38.2195</td><td>+22 00 48.692</td><td>14</td><td>14</td><td>0.038</td><td>0.029</td><td>90</td><td>A</td><td>O</td><td>2020yCat.1350....0G</td><td>1</td></tr>\n",
       "<tr><td>2MASS J05343755+2200010</td><td>05 34 37.55</td><td>+22 00 01.0</td><td>6</td><td>6</td><td>60.000</td><td>60.000</td><td>90</td><td>C</td><td>I</td><td>2003yCat.2246....0C</td><td>1</td></tr>\n",
       "</table></div>"
      ],
      "text/plain": [
       "<Table length=64>\n",
       "         MAIN_ID                 RA      ... SCRIPT_NUMBER_ID\n",
       "                              \"h:m:s\"    ...                 \n",
       "          object               str13     ...      int32      \n",
       "-------------------------- ------------- ... ----------------\n",
       "                     M   1    05 34 30.9 ...                1\n",
       "       SCOPE G184.56-05.79      05 34 31 ...                1\n",
       "   JCMTSF J053431.3+220045    05 34 31.3 ...                1\n",
       "PLCKERC -070 G184.55-05.78      05 34 30 ...                1\n",
       "        FL8Y J0534.5+2201i       05 34.5 ...                1\n",
       "                 V* CM Tau 05 34 31.9474 ...                1\n",
       "                Trimble 28    05 34 32.1 ...                1\n",
       "   2MASS J05343217+2200560 05 34 32.1831 ...                1\n",
       "        3FGL J0534.5+2201s 05 34 31.1993 ...                1\n",
       "                       ...           ... ...              ...\n",
       "               [LBC2011] 2  05 34 34.220 ...                1\n",
       "              [LBC2011] 49  05 34 28.140 ...                1\n",
       "       SCOPE G184.54-05.77      05 34 32 ...                1\n",
       "              [LBC2011] 38  05 34 34.100 ...                1\n",
       "       NVSS J053434+220207   05 34 34.90 ...                1\n",
       "       SCOPE G184.55-05.76      05 34 36 ...                1\n",
       "   2MASS J05343759+2201222 05 34 37.5955 ...                1\n",
       "   2MASS J05343821+2200486 05 34 38.2195 ...                1\n",
       "   2MASS J05343755+2200010   05 34 37.55 ...                1"
      ]
     },
     "execution_count": 2,
     "metadata": {},
     "output_type": "execute_result"
    }
   ],
   "source": [
    "table = Simbad.query_region(\"Messier 1\", radius=0.03 * u.deg)\n",
    "table"
   ]
  },
  {
   "cell_type": "code",
   "execution_count": 3,
   "metadata": {
    "execution": {
     "iopub.execute_input": "2024-09-19T15:51:29.830157Z",
     "iopub.status.busy": "2024-09-19T15:51:29.829777Z",
     "iopub.status.idle": "2024-09-19T15:51:29.839606Z",
     "shell.execute_reply": "2024-09-19T15:51:29.839102Z"
    }
   },
   "outputs": [
    {
     "data": {
      "application/vnd.jupyter.widget-view+json": {
       "model_id": "7a426b1107bb4687bebb7458b4648da8",
       "version_major": 2,
       "version_minor": 1
      },
      "text/plain": [
       "Aladin()"
      ]
     },
     "execution_count": 3,
     "metadata": {},
     "output_type": "execute_result"
    }
   ],
   "source": [
    "aladin = Aladin(fov=0.4, target=\"Messier 1\")\n",
    "aladin"
   ]
  },
  {
   "cell_type": "code",
   "execution_count": 4,
   "metadata": {
    "execution": {
     "iopub.execute_input": "2024-09-19T15:51:29.841305Z",
     "iopub.status.busy": "2024-09-19T15:51:29.841116Z",
     "iopub.status.idle": "2024-09-19T15:51:29.955165Z",
     "shell.execute_reply": "2024-09-19T15:51:29.954670Z"
    }
   },
   "outputs": [],
   "source": [
    "aladin.add_table(table, shape=\"rhomb\", color=\"lightskyblue\", source_size=20)\n",
    "# This line also works with camelCase instead of snake_case: sourceSize=20"
   ]
  },
  {
   "cell_type": "markdown",
   "metadata": {},
   "source": [
    "## Display Astropy table created from scratch"
   ]
  },
  {
   "cell_type": "code",
   "execution_count": 5,
   "metadata": {
    "execution": {
     "iopub.execute_input": "2024-09-19T15:51:29.957024Z",
     "iopub.status.busy": "2024-09-19T15:51:29.956805Z",
     "iopub.status.idle": "2024-09-19T15:51:29.960846Z",
     "shell.execute_reply": "2024-09-19T15:51:29.960373Z"
    }
   },
   "outputs": [],
   "source": [
    "ra = [83.63451584700, 83.61368056017, 83.58780251600]\n",
    "dec = [22.05652591227, 21.97517807639, 21.99277764451]\n",
    "name = [\n",
    "    \"Gaia EDR3 3403818589184411648\",\n",
    "    \"Gaia EDR3 3403817661471500416\",\n",
    "    \"Gaia EDR3 3403817936349408000\",\n",
    "]\n",
    "parallax = [1.7703, 0.5112, 0.3735] * u.mas\n",
    "\n",
    "t = QTable(\n",
    "    [ra, dec, name, parallax],\n",
    "    names=(\"ra\", \"dec\", \"name\", \"parallax\"),\n",
    "    meta={\"name\": \"my_sample_table\"},\n",
    ")"
   ]
  },
  {
   "cell_type": "code",
   "execution_count": 6,
   "metadata": {
    "execution": {
     "iopub.execute_input": "2024-09-19T15:51:29.962661Z",
     "iopub.status.busy": "2024-09-19T15:51:29.962298Z",
     "iopub.status.idle": "2024-09-19T15:51:29.966683Z",
     "shell.execute_reply": "2024-09-19T15:51:29.966206Z"
    }
   },
   "outputs": [],
   "source": [
    "aladin.add_table(t)"
   ]
  }
 ],
 "metadata": {
  "language_info": {
   "codemirror_mode": {
    "name": "ipython",
    "version": 3
   },
   "file_extension": ".py",
   "mimetype": "text/x-python",
   "name": "python",
   "nbconvert_exporter": "python",
   "pygments_lexer": "ipython3",
   "version": "3.12.6"
  },
  "widgets": {
   "application/vnd.jupyter.widget-state+json": {
    "state": {
     "1fd32ff82f654aa894b44b1c7b5921b8": {
      "model_module": "@jupyter-widgets/base",
      "model_module_version": "2.0.0",
      "model_name": "LayoutModel",
      "state": {
       "_model_module": "@jupyter-widgets/base",
       "_model_module_version": "2.0.0",
       "_model_name": "LayoutModel",
       "_view_count": null,
       "_view_module": "@jupyter-widgets/base",
       "_view_module_version": "2.0.0",
       "_view_name": "LayoutView",
       "align_content": null,
       "align_items": null,
       "align_self": null,
       "border_bottom": null,
       "border_left": null,
       "border_right": null,
       "border_top": null,
       "bottom": null,
       "display": null,
       "flex": null,
       "flex_flow": null,
       "grid_area": null,
       "grid_auto_columns": null,
       "grid_auto_flow": null,
       "grid_auto_rows": null,
       "grid_column": null,
       "grid_gap": null,
       "grid_row": null,
       "grid_template_areas": null,
       "grid_template_columns": null,
       "grid_template_rows": null,
       "height": null,
       "justify_content": null,
       "justify_items": null,
       "left": null,
       "margin": null,
       "max_height": null,
       "max_width": null,
       "min_height": null,
       "min_width": null,
       "object_fit": null,
       "object_position": null,
       "order": null,
       "overflow": null,
       "padding": null,
       "right": null,
       "top": null,
       "visibility": null,
       "width": null
      }
     },
     "7a426b1107bb4687bebb7458b4648da8": {
      "model_module": "anywidget",
      "model_module_version": "~0.9.*",
      "model_name": "AnyModel",
      "state": {
       "_anywidget_id": "ipyaladin.widget.Aladin",
       "_base_layer_last_view": "https://alaskybis.unistra.fr/DSS/DSSColor",
       "_css": ".cell-output-ipywidget-background{background:transparent}.jp-OutputArea-output,.aladin-widget{background-color:transparent}.aladin-widget .aladin-measurement-div{max-height:100px}\n",
       "_dom_classes": [],
       "_esm": "function _(n){n.charAt(0)===\"_\"&&(n=n.slice(1));let e=n.split(\"_\");for(let a=1;a<e.length;a++)e[a]=e[a].charAt(0).toUpperCase()+e[a].slice(1);return e.join(\"\")}function h(n){let e={};for(let a in n)e[_(a)]=n[a];return e}var m=class{locked=!1;unlock(){this.locked=!1}lock(){this.locked=!0}},g=-1;function f(n){g=n}import v from\"https://esm.sh/aladin-lite@3.5.1-beta\";var r=v;var y=0,p=class{constructor(e,a){this.aladin=e,this.model=a}handleAddMarker(e){let a=h(e.options||{});a.name||(a.name=\"markers\");let s=r.catalog(a);this.aladin.addCatalog(s);let i=e.markers,t=[];for(let o of i)t.push(r.marker(o.lon,o.lat,{popupTitle:o.title,popupDesc:o.description}));s.addSources(t)}handleChangeFoV(e){this.aladin.setFoV(e.fov)}handleGotoRaDec(e){this.aladin.gotoRaDec(e.ra,e.dec)}async handleSaveViewAsImage(e){let a=e.path,s=e.format,i=e.with_logo,t=await this.aladin.getViewData(\"arraybuffer\",`image/${s}`,i);this.model.send({event_type:\"save_view_as_image\",path:a},null,[t])}handleAddFits(e,a){let s=h(e.options||{});s.name||(s.name=`image_${String(++y).padStart(3,\"0\")}`);let i=a[0],t=new Blob([i],{type:\"application/octet-stream\"}),o=URL.createObjectURL(t),d=this.aladin.createImageFITS(o,s,(c,l)=>{this.aladin.gotoRaDec(c,l),console.info(`FITS located at ra: ${c}, dec: ${l}`),URL.revokeObjectURL(o)});this.aladin.setOverlayImageLayer(d,s.name)}handleAddCatalogFromURL(e){let a=h(e.options||{});this.aladin.addCatalog(r.catalogFromURL(e.votable_URL,a))}handleAddMOCFromURL(e){let a=h(e.options||{});this.aladin.addMOC(r.MOCFromURL(e.moc_URL,a))}handleAddMOCFromDict(e){let a=h(e.options||{});this.aladin.addMOC(r.MOCFromJSON(e.moc_dict,a))}handleAddOverlay(e){let a=e.regions_infos,s=h(e.graphic_options||{});s.color||(s.color=\"red\");let i=r.graphicOverlay(s);this.aladin.addOverlay(i);for(let t of a){let o=t.infos;switch(t.region_type){case\"stcs\":i.addFootprints(r.footprintsFromSTCS(o.stcs,t.options));break;case\"circle\":i.add(r.circle(o.ra,o.dec,o.radius,t.options));break;case\"ellipse\":i.add(r.ellipse(o.ra,o.dec,o.a,o.b,o.theta,t.options));break;case\"line\":t.options.lineWidth=t.options.lineWidth||3,i.add(r.vector(o.ra1,o.dec1,o.ra2,o.dec2,t.options));break;case\"polygon\":i.add(r.polygon(o.vertices,t.options));break}}}handleChangeColormap(e){this.aladin.getBaseImageLayer().setColormap(e.colormap)}handleGetJPGThumbnail(){this.aladin.exportAsPNG()}handleTriggerSelection(e){let a=e.selection_type;a===\"rectangle\"?a=\"rect\":a===\"polygon\"&&(a=\"poly\"),this.aladin.select(a)}handleAddTable(e,a){let s=h(e.options||{}),i=a[0].buffer,t=new TextDecoder(\"utf-8\"),o=new Blob([t.decode(i)]),d=URL.createObjectURL(o);r.catalogFromURL(d,Object.assign(s,{onClick:\"showTable\"}),c=>{this.aladin.addCatalog(c)},!1),URL.revokeObjectURL(d)}};var u=class{constructor(e,a,s){this.aladin=e,this.aladinDiv=a,this.model=s,this.messageHandler=new p(e,s),this.currentDivNumber=parseInt(a.id.split(\"-\").pop())}isLastDiv(){if(this.currentDivNumber===g)return!0;let e=g;for(let a=e;a>=0;a--){let s=document.getElementById(`aladin-lite-div-${a}`);if(s&&s.style.display!==\"none\"){e=a;break}}return f(e),this.currentDivNumber===e}updateWCS(){this.isLastDiv()&&this.model.set(\"_wcs\",this.aladin.getViewWCS())}update2AxisFoV(){if(!this.isLastDiv())return;let e=this.aladin.getFov();this.model.set(\"_fov_xy\",{x:e[0],y:e[1]})}subscribeAll(){let e=new m,a=new m;this.aladin.on(\"positionChanged\",t=>{if(a.locked){a.unlock();return}e.lock();let o=[t.ra,t.dec];this.updateWCS(),this.model.set(\"_target\",`${o[0]} ${o[1]}`),this.model.save_changes()}),this.model.on(\"change:_target\",()=>{if(e.locked){e.unlock();return}a.lock();let t=this.model.get(\"_target\"),[o,d]=t.split(\" \");this.aladin.gotoRaDec(o,d)});let s=new m,i=new m;this.aladin.on(\"zoomChanged\",t=>{if(i.locked){i.unlock();return}s.lock(),this.updateWCS(),this.update2AxisFoV(),this.model.set(\"_fov\",parseFloat(t.toFixed(5))),this.model.save_changes()}),this.model.on(\"change:_fov\",()=>{if(s.locked){s.unlock();return}i.lock();let t=this.model.get(\"_fov\");this.aladin.setFoV(t)}),this.model.on(\"change:_height\",()=>{let t=this.model.get(\"_height\");this.aladinDiv.style.height=`${t}px`,this.updateWCS(),this.update2AxisFoV(),this.model.save_changes()}),this.aladin.on(\"cooFrameChanged\",()=>{this.updateWCS(),this.model.save_changes()}),this.aladin.on(\"projectionChanged\",()=>{this.updateWCS(),this.model.save_changes()}),this.aladin.on(\"layerChanged\",(t,o,d)=>{o===\"base\"&&this.model.set(\"_survey_body\",t.hipsBody||\"sky\"),!(o!==\"base\"||d!==\"ADDED\")&&(this.updateWCS(),this.model.set(\"_base_layer_last_view\",t.id),this.model.save_changes())}),this.aladin.on(\"resizeChanged\",(t,o)=>{if(t===1&&o===1){this.model.set(\"_is_reduced\",!0),this.model.save_changes();return}else this.model.set(\"_is_reduced\",!1);this.updateWCS(),this.update2AxisFoV(),this.model.set(\"_height\",o),this.model.save_changes()}),this.aladin.on(\"objectHovered\",t=>{t.data!==void 0&&this.model.send({event_type:\"object_hovered\",content:{ra:t.ra,dec:t.dec}})}),this.aladin.on(\"objectClicked\",t=>{if(t){let o={ra:t.ra,dec:t.dec};t.data!==void 0&&(o.data=t.data),this.model.set(\"clicked_object\",o),this.model.send({event_type:\"object_clicked\",content:o}),this.model.save_changes()}}),this.aladin.on(\"click\",t=>{this.model.send({event_type:\"click\",content:t})}),this.aladin.on(\"select\",t=>{let o=t.map(c=>c.map(l=>({ra:l.ra,dec:l.dec,data:l.data,x:l.x,y:l.y})));this.model.set(\"_selected_objects\",o),this.model.save_changes();let d=[];t.forEach(c=>{c.forEach(l=>{d.push({ra:l.ra,dec:l.dec,data:l.data,x:l.x,y:l.y})})}),this.model.send({event_type:\"select\",content:d})}),this.model.on(\"change:coo_frame\",()=>{this.aladin.setFrame(this.model.get(\"coo_frame\"))}),this.model.on(\"change:survey\",()=>{this.aladin.setImageSurvey(this.model.get(\"survey\"))}),this.model.on(\"change:overlay_survey\",()=>{this.aladin.setOverlayImageLayer(this.model.get(\"overlay_survey\"))}),this.model.on(\"change:overlay_survey_opacity\",()=>{this.aladin.getOverlayImageLayer().setAlpha(this.model.get(\"overlay_survey_opacity\"))}),this.eventHandlers={add_marker:this.messageHandler.handleAddMarker,change_fov:this.messageHandler.handleChangeFoV,goto_ra_dec:this.messageHandler.handleGotoRaDec,save_view_as_image:this.messageHandler.handleSaveViewAsImage,add_fits:this.messageHandler.handleAddFits,add_catalog_from_URL:this.messageHandler.handleAddCatalogFromURL,add_MOC_from_URL:this.messageHandler.handleAddMOCFromURL,add_MOC_from_dict:this.messageHandler.handleAddMOCFromDict,add_overlay:this.messageHandler.handleAddOverlay,change_colormap:this.messageHandler.handleChangeColormap,get_JPG_thumbnail:this.messageHandler.handleGetJPGThumbnail,trigger_selection:this.messageHandler.handleTriggerSelection,add_table:this.messageHandler.handleAddTable},this.model.on(\"msg:custom\",(t,o)=>{let d=t.event_name,c=this.eventHandlers[d];if(c)c.call(this,t,o);else throw new Error(`Unknown event name: ${d}`)})}unsubscribeAll(){this.model.off(\"change:_target\"),this.model.off(\"change:_fov\"),this.model.off(\"change:_height\"),this.model.off(\"change:coo_frame\"),this.model.off(\"change:survey\"),this.model.off(\"change:overlay_survey\"),this.model.off(\"change:overlay_survey_opacity\"),this.model.off(\"change:trigger_event\"),this.model.off(\"msg:custom\")}};function b(n,e){f(g+1);let a=n.get(\"_init_options\"),s={};for(let l in a)s[_(l)]=a[l];let i=document.createElement(\"div\");i.classList.add(\"aladin-widget\"),i.style.height=`${n.get(\"_height\")}px`,i.id=`aladin-lite-div-${g}`;let t=new r.aladin(i,s);e.appendChild(i);let o=n.get(\"_target\").split(\" \");t.gotoRaDec(o[0],o[1]);let d={...t.getFov()};n.set(\"_fov_xy\",{x:d[0],y:d[1]});let c={...t.getViewWCS()};return n.set(\"_wcs\",c),n.set(\"_is_loaded\",!0),n.save_changes(),{aladin:t,aladinDiv:i}}async function C({model:n}){await r.init}function k({model:n,el:e}){let{aladin:a,aladinDiv:s}=b(n,e),i=new u(a,s,n);return i.subscribeAll(),()=>{i.unsubscribeAll()}}var I={initialize:C,render:k};export{I as default};\n",
       "_fov": 0.4,
       "_fov_xy": {},
       "_height": 400,
       "_init_options": {
        "fov": 0.4,
        "show_context_menu": true,
        "show_coo_grid_control": true,
        "show_settings_control": true,
        "show_simbad_pointer_control": true,
        "target": "Messier 1"
       },
       "_is_loaded": true,
       "_is_reduced": false,
       "_model_module": "anywidget",
       "_model_module_version": "~0.9.*",
       "_model_name": "AnyModel",
       "_ready": false,
       "_selected_objects": [],
       "_survey_body": "sky",
       "_target": "83.6287 22.0147",
       "_view_count": null,
       "_view_module": "anywidget",
       "_view_module_version": "~0.9.*",
       "_view_name": "AnyView",
       "_wcs": {},
       "clicked_object": {},
       "coo_frame": "ICRS",
       "layout": "IPY_MODEL_1fd32ff82f654aa894b44b1c7b5921b8",
       "overlay_survey": "",
       "overlay_survey_opacity": 0.0,
       "projection": "SIN",
       "survey": "https://alaskybis.unistra.fr/DSS/DSSColor",
       "tabbable": null,
       "tooltip": null
      }
     }
    },
    "version_major": 2,
    "version_minor": 0
   }
  }
 },
 "nbformat": 4,
 "nbformat_minor": 4
}
