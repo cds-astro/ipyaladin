{
 "cells": [
  {
   "attachments": {},
   "cell_type": "markdown",
   "metadata": {},
   "source": [
    "# Display tables resulting from an astroquery request\n",
    "\n",
    "This example implements the addition of two tables :\n",
    "- one resulting from an astroquery request on the [Simbad](https://simbad.cds.unistra.fr/simbad/ \"https://simbad.cds.unistra.fr/simbad/\") database\n",
    "- the other is a table created locally"
   ]
  },
  {
   "cell_type": "code",
   "execution_count": 1,
   "metadata": {
    "execution": {
     "iopub.execute_input": "2025-03-04T10:57:09.316695Z",
     "iopub.status.busy": "2025-03-04T10:57:09.316523Z",
     "iopub.status.idle": "2025-03-04T10:57:10.060255Z",
     "shell.execute_reply": "2025-03-04T10:57:10.059691Z"
    }
   },
   "outputs": [],
   "source": [
    "from ipyaladin import Aladin\n",
    "from astropy.table import QTable\n",
    "import astropy.units as u\n",
    "from astroquery.simbad import Simbad"
   ]
  },
  {
   "attachments": {},
   "cell_type": "markdown",
   "metadata": {},
   "source": [
    "## From a query"
   ]
  },
  {
   "cell_type": "code",
   "execution_count": 2,
   "metadata": {
    "execution": {
     "iopub.execute_input": "2025-03-04T10:57:10.062478Z",
     "iopub.status.busy": "2025-03-04T10:57:10.062090Z",
     "iopub.status.idle": "2025-03-04T10:57:11.865743Z",
     "shell.execute_reply": "2025-03-04T10:57:11.865223Z"
    }
   },
   "outputs": [
    {
     "data": {
      "text/html": [
       "<div><i>Table length=65</i>\n",
       "<table id=\"table139958423479040\" class=\"table-striped table-bordered table-condensed\">\n",
       "<thead><tr><th>main_id</th><th>ra</th><th>dec</th><th>coo_err_maj</th><th>coo_err_min</th><th>coo_err_angle</th><th>coo_wavelength</th><th>coo_bibcode</th></tr></thead>\n",
       "<thead><tr><th></th><th>deg</th><th>deg</th><th>mas</th><th>mas</th><th>deg</th><th></th><th></th></tr></thead>\n",
       "<thead><tr><th>object</th><th>float64</th><th>float64</th><th>float32</th><th>float32</th><th>int16</th><th>str1</th><th>object</th></tr></thead>\n",
       "<tr><td>FHES J0534.5+2201</td><td>83.6327596</td><td>22.0203278</td><td>--</td><td>--</td><td>--</td><td>G</td><td>2018ApJS..237...32A</td></tr>\n",
       "<tr><td>PLCKERC -070 G184.55-05.78</td><td>83.625</td><td>22.016666666666666</td><td>--</td><td>--</td><td>--</td><td>F</td><td>2016MNRAS.458.3619C</td></tr>\n",
       "<tr><td>SCOPE G184.56-05.78</td><td>83.635</td><td>22.009999999999998</td><td>--</td><td>--</td><td>--</td><td>S</td><td>2019MNRAS.485.2895E</td></tr>\n",
       "<tr><td>SCOPE G184.56-05.79</td><td>83.629</td><td>22.012</td><td>--</td><td>--</td><td>--</td><td>S</td><td>2019MNRAS.485.2895E</td></tr>\n",
       "<tr><td>JCMTSF J053427.4+220227</td><td>83.614</td><td>22.042000000000005</td><td>--</td><td>--</td><td>--</td><td>S</td><td>2019MNRAS.485.2895E</td></tr>\n",
       "<tr><td>JCMTSF J053430.4+220151</td><td>83.628</td><td>22.034</td><td>--</td><td>--</td><td>--</td><td>S</td><td>2019MNRAS.485.2895E</td></tr>\n",
       "<tr><td>SCOPE G184.54-05.77</td><td>83.634</td><td>22.039</td><td>--</td><td>--</td><td>--</td><td>S</td><td>2019MNRAS.485.2895E</td></tr>\n",
       "<tr><td>SCOPE G184.55-05.76</td><td>83.65</td><td>22.032</td><td>--</td><td>--</td><td>--</td><td>S</td><td>2019MNRAS.485.2895E</td></tr>\n",
       "<tr><td>M   1</td><td>83.6324</td><td>22.0174</td><td>5000.0</td><td>5000.0</td><td>90</td><td>X</td><td>2022A&amp;A...661A..38P</td></tr>\n",
       "<tr><td>...</td><td>...</td><td>...</td><td>...</td><td>...</td><td>...</td><td>...</td><td>...</td></tr>\n",
       "<tr><td>[LBC2011] 40</td><td>83.63491666666665</td><td>22.037533333333336</td><td>--</td><td>--</td><td>--</td><td>I</td><td>2011ApJS..194...30L</td></tr>\n",
       "<tr><td>[LBC2011] 36</td><td>83.64504166666666</td><td>22.033147222222222</td><td>--</td><td>--</td><td>--</td><td>I</td><td>2011ApJS..194...30L</td></tr>\n",
       "<tr><td>[LBC2011] 49</td><td>83.61725</td><td>22.036800000000003</td><td>--</td><td>--</td><td>--</td><td>I</td><td>2011ApJS..194...30L</td></tr>\n",
       "<tr><td>[LBC2011] 27</td><td>83.65312499999999</td><td>22.01733611111111</td><td>--</td><td>--</td><td>--</td><td>I</td><td>2011ApJS..194...30L</td></tr>\n",
       "<tr><td>[LBC2011] 33</td><td>83.64791666666665</td><td>22.031108333333332</td><td>--</td><td>--</td><td>--</td><td>I</td><td>2011ApJS..194...30L</td></tr>\n",
       "<tr><td>[LBC2011] 51</td><td>83.61500000000001</td><td>22.03098888888889</td><td>--</td><td>--</td><td>--</td><td>I</td><td>2011ApJS..194...30L</td></tr>\n",
       "<tr><td>[LBC2011] 55</td><td>83.63699999999999</td><td>22.01075</td><td>--</td><td>--</td><td>--</td><td>I</td><td>2011ApJS..194...30L</td></tr>\n",
       "<tr><td>[LBC2011] 45</td><td>83.629875</td><td>22.029730555555556</td><td>--</td><td>--</td><td>--</td><td>I</td><td>2011ApJS..194...30L</td></tr>\n",
       "<tr><td>V* CM Tau</td><td>83.63311445609</td><td>22.01448713834</td><td>0.0732</td><td>0.0606</td><td>90</td><td>O</td><td>2020yCat.1350....0G</td></tr>\n",
       "</table></div>"
      ],
      "text/plain": [
       "<Table length=65>\n",
       "         main_id                   ra        ...     coo_bibcode    \n",
       "                                  deg        ...                    \n",
       "          object                float64      ...        object      \n",
       "-------------------------- ----------------- ... -------------------\n",
       "         FHES J0534.5+2201        83.6327596 ... 2018ApJS..237...32A\n",
       "PLCKERC -070 G184.55-05.78            83.625 ... 2016MNRAS.458.3619C\n",
       "       SCOPE G184.56-05.78            83.635 ... 2019MNRAS.485.2895E\n",
       "       SCOPE G184.56-05.79            83.629 ... 2019MNRAS.485.2895E\n",
       "   JCMTSF J053427.4+220227            83.614 ... 2019MNRAS.485.2895E\n",
       "   JCMTSF J053430.4+220151            83.628 ... 2019MNRAS.485.2895E\n",
       "       SCOPE G184.54-05.77            83.634 ... 2019MNRAS.485.2895E\n",
       "       SCOPE G184.55-05.76             83.65 ... 2019MNRAS.485.2895E\n",
       "                     M   1           83.6324 ... 2022A&A...661A..38P\n",
       "                       ...               ... ...                 ...\n",
       "              [LBC2011] 40 83.63491666666665 ... 2011ApJS..194...30L\n",
       "              [LBC2011] 36 83.64504166666666 ... 2011ApJS..194...30L\n",
       "              [LBC2011] 49          83.61725 ... 2011ApJS..194...30L\n",
       "              [LBC2011] 27 83.65312499999999 ... 2011ApJS..194...30L\n",
       "              [LBC2011] 33 83.64791666666665 ... 2011ApJS..194...30L\n",
       "              [LBC2011] 51 83.61500000000001 ... 2011ApJS..194...30L\n",
       "              [LBC2011] 55 83.63699999999999 ... 2011ApJS..194...30L\n",
       "              [LBC2011] 45         83.629875 ... 2011ApJS..194...30L\n",
       "                 V* CM Tau    83.63311445609 ... 2020yCat.1350....0G"
      ]
     },
     "execution_count": 2,
     "metadata": {},
     "output_type": "execute_result"
    }
   ],
   "source": [
    "table = Simbad.query_region(\"Messier 1\", radius=0.03 * u.deg)\n",
    "table"
   ]
  },
  {
   "cell_type": "code",
   "execution_count": 3,
   "metadata": {
    "execution": {
     "iopub.execute_input": "2025-03-04T10:57:11.867618Z",
     "iopub.status.busy": "2025-03-04T10:57:11.867242Z",
     "iopub.status.idle": "2025-03-04T10:57:11.875977Z",
     "shell.execute_reply": "2025-03-04T10:57:11.875475Z"
    }
   },
   "outputs": [
    {
     "data": {
      "application/vnd.jupyter.widget-view+json": {
       "model_id": "c474a3abaf7743359b6d3f28dc3ede37",
       "version_major": 2,
       "version_minor": 1
      },
      "text/plain": [
       "Aladin()"
      ]
     },
     "execution_count": 3,
     "metadata": {},
     "output_type": "execute_result"
    }
   ],
   "source": [
    "aladin = Aladin(fov=0.4, target=\"Messier 1\")\n",
    "aladin"
   ]
  },
  {
   "cell_type": "code",
   "execution_count": 4,
   "metadata": {
    "execution": {
     "iopub.execute_input": "2025-03-04T10:57:11.877640Z",
     "iopub.status.busy": "2025-03-04T10:57:11.877297Z",
     "iopub.status.idle": "2025-03-04T10:57:11.987283Z",
     "shell.execute_reply": "2025-03-04T10:57:11.986803Z"
    }
   },
   "outputs": [],
   "source": [
    "aladin.add_table(table, shape=\"rhomb\", color=\"lightskyblue\", source_size=20)\n",
    "# This line also works with camelCase instead of snake_case: sourceSize=20"
   ]
  },
  {
   "cell_type": "markdown",
   "metadata": {},
   "source": [
    "## Display Astropy table created from scratch"
   ]
  },
  {
   "cell_type": "code",
   "execution_count": 5,
   "metadata": {
    "execution": {
     "iopub.execute_input": "2025-03-04T10:57:11.989135Z",
     "iopub.status.busy": "2025-03-04T10:57:11.988785Z",
     "iopub.status.idle": "2025-03-04T10:57:11.992375Z",
     "shell.execute_reply": "2025-03-04T10:57:11.991943Z"
    }
   },
   "outputs": [],
   "source": [
    "ra = [83.63451584700, 83.61368056017, 83.58780251600]\n",
    "dec = [22.05652591227, 21.97517807639, 21.99277764451]\n",
    "name = [\n",
    "    \"Gaia EDR3 3403818589184411648\",\n",
    "    \"Gaia EDR3 3403817661471500416\",\n",
    "    \"Gaia EDR3 3403817936349408000\",\n",
    "]\n",
    "parallax = [1.7703, 0.5112, 0.3735] * u.mas\n",
    "\n",
    "t = QTable(\n",
    "    [ra, dec, name, parallax],\n",
    "    names=(\"ra\", \"dec\", \"name\", \"parallax\"),\n",
    "    meta={\"name\": \"my_sample_table\"},\n",
    ")"
   ]
  },
  {
   "cell_type": "code",
   "execution_count": 6,
   "metadata": {
    "execution": {
     "iopub.execute_input": "2025-03-04T10:57:11.994129Z",
     "iopub.status.busy": "2025-03-04T10:57:11.993795Z",
     "iopub.status.idle": "2025-03-04T10:57:11.997851Z",
     "shell.execute_reply": "2025-03-04T10:57:11.997402Z"
    }
   },
   "outputs": [],
   "source": [
    "aladin.add_table(t)"
   ]
  }
 ],
 "metadata": {
  "language_info": {
   "codemirror_mode": {
    "name": "ipython",
    "version": 3
   },
   "file_extension": ".py",
   "mimetype": "text/x-python",
   "name": "python",
   "nbconvert_exporter": "python",
   "pygments_lexer": "ipython3",
   "version": "3.12.9"
  },
  "widgets": {
   "application/vnd.jupyter.widget-state+json": {
    "state": {
     "bb4cfb5d54404605b10f2e07d2cad836": {
      "model_module": "@jupyter-widgets/base",
      "model_module_version": "2.0.0",
      "model_name": "LayoutModel",
      "state": {
       "_model_module": "@jupyter-widgets/base",
       "_model_module_version": "2.0.0",
       "_model_name": "LayoutModel",
       "_view_count": null,
       "_view_module": "@jupyter-widgets/base",
       "_view_module_version": "2.0.0",
       "_view_name": "LayoutView",
       "align_content": null,
       "align_items": null,
       "align_self": null,
       "border_bottom": null,
       "border_left": null,
       "border_right": null,
       "border_top": null,
       "bottom": null,
       "display": null,
       "flex": null,
       "flex_flow": null,
       "grid_area": null,
       "grid_auto_columns": null,
       "grid_auto_flow": null,
       "grid_auto_rows": null,
       "grid_column": null,
       "grid_gap": null,
       "grid_row": null,
       "grid_template_areas": null,
       "grid_template_columns": null,
       "grid_template_rows": null,
       "height": null,
       "justify_content": null,
       "justify_items": null,
       "left": null,
       "margin": null,
       "max_height": null,
       "max_width": null,
       "min_height": null,
       "min_width": null,
       "object_fit": null,
       "object_position": null,
       "order": null,
       "overflow": null,
       "padding": null,
       "right": null,
       "top": null,
       "visibility": null,
       "width": null
      }
     },
     "c474a3abaf7743359b6d3f28dc3ede37": {
      "model_module": "anywidget",
      "model_module_version": "~0.9.*",
      "model_name": "AnyModel",
      "state": {
       "_anywidget_id": "ipyaladin.widget.Aladin",
       "_base_layer_last_view": "https://alaskybis.unistra.fr/DSS/DSSColor",
       "_css": ".cell-output-ipywidget-background{background:transparent}.jp-OutputArea-output,.aladin-widget{background-color:transparent}.aladin-widget .aladin-measurement-div{max-height:100px}\n",
       "_dom_classes": [],
       "_esm": "function v(n){n.charAt(0)===\"_\"&&(n=n.slice(1));let e=n.split(\"_\");for(let a=1;a<e.length;a++)e[a]=e[a].charAt(0).toUpperCase()+e[a].slice(1);return e.join(\"\")}function h(n){let e={};for(let a in n)e[v(a)]=n[a];return e}var m=class{locked=!1;unlock(){this.locked=!1}lock(){this.locked=!0}},g=-1;function f(n){g=n}function _(n,e){n==-1?e.style.height=\"100%\":e.style.height=`${n}px`}import y from\"https://esm.sh/aladin-lite@3.5.1-beta\";var r=y;var b=0,p=class{constructor(e,a){this.aladin=e,this.model=a}handleAddMarker(e){let a=h(e.options||{});a.name||(a.name=\"markers\");let s=r.catalog(a);this.aladin.addCatalog(s);let i=e.markers,t=[];for(let o of i)t.push(r.marker(o.lon,o.lat,{useMarkerDefaultIcon:a.useMarkerDefaultIcon|!1,popupTitle:o.title,popupDesc:o.description}));s.addSources(t)}handleChangeFoV(e){this.aladin.setFoV(e.fov)}handleGotoRaDec(e){this.aladin.gotoRaDec(e.ra,e.dec)}async handleSaveViewAsImage(e){let a=e.path,s=e.format,i=e.with_logo,t=await this.aladin.getViewData(\"arraybuffer\",`image/${s}`,i);this.model.send({event_type:\"save_view_as_image\",path:a},null,[t])}handleAddFits(e,a){let s=h(e.options||{});s.name||(s.name=`image_${String(++b).padStart(3,\"0\")}`);let i=a[0],t=new Blob([i],{type:\"application/octet-stream\"}),o=URL.createObjectURL(t),d=this.aladin.createImageFITS(o,s,(c,l)=>{this.aladin.gotoRaDec(c,l),console.info(`FITS located at ra: ${c}, dec: ${l}`),URL.revokeObjectURL(o)});this.aladin.setOverlayImageLayer(d,s.name)}handleAddCatalogFromURL(e){let a=h(e.options||{});this.aladin.addCatalog(r.catalogFromURL(e.votable_URL,a))}handleAddMOCFromURL(e){let a=h(e.options||{});this.aladin.addMOC(r.MOCFromURL(e.moc_URL,a))}handleAddMOCFromDict(e){let a=h(e.options||{});this.aladin.addMOC(r.MOCFromJSON(e.moc_dict,a))}handleAddOverlay(e){let a=e.regions_infos,s=h(e.graphic_options||{});s.color||(s.color=\"red\");let i=r.graphicOverlay(s);this.aladin.addOverlay(i);for(let t of a){let o=t.infos;switch(t.region_type){case\"stcs\":i.addFootprints(r.footprintsFromSTCS(o.stcs,t.options));break;case\"circle\":i.add(r.circle(o.ra,o.dec,o.radius,t.options));break;case\"ellipse\":i.add(r.ellipse(o.ra,o.dec,o.a,o.b,o.theta,t.options));break;case\"line\":t.options.lineWidth=t.options.lineWidth||3,i.add(r.vector(o.ra1,o.dec1,o.ra2,o.dec2,t.options));break;case\"polygon\":i.add(r.polygon(o.vertices,t.options));break}}}handleChangeColormap(e){this.aladin.getBaseImageLayer().setColormap(e.colormap)}handleGetJPGThumbnail(){this.aladin.exportAsPNG()}handleTriggerSelection(e){let a=e.selection_type;a===\"rectangle\"?a=\"rect\":a===\"polygon\"&&(a=\"poly\"),this.aladin.select(a)}handleAddTable(e,a){let s=h(e.options||{}),i=a[0].buffer,t=new TextDecoder(\"utf-8\"),o=new Blob([t.decode(i)]),d=URL.createObjectURL(o);r.catalogFromURL(d,Object.assign(s,{onClick:\"showTable\"}),c=>{this.aladin.addCatalog(c)},!1),URL.revokeObjectURL(d)}};var u=class{constructor(e,a,s){this.aladin=e,this.aladinDiv=a,this.model=s,this.messageHandler=new p(e,s),this.currentDivNumber=parseInt(a.id.split(\"-\").pop())}isLastDiv(){if(this.currentDivNumber===g)return!0;let e=g;for(let a=e;a>=0;a--){let s=document.getElementById(`aladin-lite-div-${a}`);if(s&&s.style.display!==\"none\"){e=a;break}}return f(e),this.currentDivNumber===e}updateWCS(){this.isLastDiv()&&this.model.set(\"_wcs\",this.aladin.getViewWCS())}update2AxisFoV(){if(!this.isLastDiv())return;let e=this.aladin.getFov();this.model.set(\"_fov_xy\",{x:e[0],y:e[1]})}subscribeAll(){let e=new m,a=new m;this.aladin.on(\"positionChanged\",t=>{if(a.locked){a.unlock();return}e.lock();let o=[t.ra,t.dec];this.updateWCS(),this.model.set(\"_target\",`${o[0]} ${o[1]}`),this.model.save_changes()}),this.model.on(\"change:_target\",()=>{if(e.locked){e.unlock();return}a.lock();let t=this.model.get(\"_target\"),[o,d]=t.split(\" \");this.aladin.gotoRaDec(o,d)});let s=new m,i=new m;this.aladin.on(\"zoomChanged\",t=>{if(i.locked){i.unlock();return}s.lock(),this.updateWCS(),this.update2AxisFoV(),this.model.set(\"_fov\",parseFloat(t.toFixed(5))),this.model.save_changes()}),this.model.on(\"change:_fov\",()=>{if(s.locked){s.unlock();return}i.lock();let t=this.model.get(\"_fov\");this.aladin.setFoV(t)}),this.model.on(\"change:_height\",()=>{_(this.model.get(\"_height\"),this.aladinDiv),this.updateWCS(),this.update2AxisFoV(),this.model.save_changes()}),this.aladin.on(\"cooFrameChanged\",()=>{this.updateWCS(),this.model.save_changes()}),this.aladin.on(\"projectionChanged\",()=>{this.updateWCS(),this.model.save_changes()}),this.aladin.on(\"layerChanged\",(t,o,d)=>{o===\"base\"&&this.model.set(\"_survey_body\",t.hipsBody||\"sky\"),!(o!==\"base\"||d!==\"ADDED\")&&(this.updateWCS(),this.model.set(\"_base_layer_last_view\",t.id),this.model.save_changes())}),this.aladin.on(\"resizeChanged\",(t,o)=>{if(t===1&&o===1){this.model.set(\"_is_reduced\",!0),this.model.save_changes();return}else this.model.set(\"_is_reduced\",!1);this.updateWCS(),this.update2AxisFoV(),this.model.set(\"_height\",o),this.model.save_changes()}),this.aladin.on(\"objectHovered\",t=>{t.data!==void 0&&this.model.send({event_type:\"object_hovered\",content:{ra:t.ra,dec:t.dec}})}),this.aladin.on(\"objectClicked\",t=>{if(t){let o={ra:t.ra,dec:t.dec};t.data!==void 0&&(o.data=t.data),this.model.set(\"clicked_object\",o),this.model.send({event_type:\"object_clicked\",content:o}),this.model.save_changes()}}),this.aladin.on(\"click\",t=>{this.model.send({event_type:\"click\",content:t})}),this.aladin.on(\"select\",t=>{let o=t.map(c=>c.map(l=>({ra:l.ra,dec:l.dec,data:l.data,x:l.x,y:l.y})));this.model.set(\"_selected_objects\",o),this.model.save_changes();let d=[];t.forEach(c=>{c.forEach(l=>{d.push({ra:l.ra,dec:l.dec,data:l.data,x:l.x,y:l.y})})}),this.model.send({event_type:\"select\",content:d})}),this.model.on(\"change:coo_frame\",()=>{this.aladin.setFrame(this.model.get(\"coo_frame\"))}),this.model.on(\"change:survey\",()=>{this.aladin.setImageSurvey(this.model.get(\"survey\"))}),this.model.on(\"change:overlay_survey\",()=>{this.aladin.setOverlayImageLayer(this.model.get(\"overlay_survey\"))}),this.model.on(\"change:overlay_survey_opacity\",()=>{this.aladin.getOverlayImageLayer().setAlpha(this.model.get(\"overlay_survey_opacity\"))}),this.eventHandlers={add_marker:this.messageHandler.handleAddMarker,change_fov:this.messageHandler.handleChangeFoV,goto_ra_dec:this.messageHandler.handleGotoRaDec,save_view_as_image:this.messageHandler.handleSaveViewAsImage,add_fits:this.messageHandler.handleAddFits,add_catalog_from_URL:this.messageHandler.handleAddCatalogFromURL,add_MOC_from_URL:this.messageHandler.handleAddMOCFromURL,add_MOC_from_dict:this.messageHandler.handleAddMOCFromDict,add_overlay:this.messageHandler.handleAddOverlay,change_colormap:this.messageHandler.handleChangeColormap,get_JPG_thumbnail:this.messageHandler.handleGetJPGThumbnail,trigger_selection:this.messageHandler.handleTriggerSelection,add_table:this.messageHandler.handleAddTable},this.model.on(\"msg:custom\",(t,o)=>{let d=t.event_name,c=this.eventHandlers[d];if(c)c.call(this,t,o);else throw new Error(`Unknown event name: ${d}`)})}unsubscribeAll(){this.model.off(\"change:_target\"),this.model.off(\"change:_fov\"),this.model.off(\"change:_height\"),this.model.off(\"change:coo_frame\"),this.model.off(\"change:survey\"),this.model.off(\"change:overlay_survey\"),this.model.off(\"change:overlay_survey_opacity\"),this.model.off(\"change:trigger_event\"),this.model.off(\"msg:custom\")}};function C(n,e){f(g+1);let a=n.get(\"_init_options\"),s={};for(let l in a)s[v(l)]=a[l];let i=document.createElement(\"div\");i.classList.add(\"aladin-widget\"),_(n.get(\"_height\"),i),i.id=`aladin-lite-div-${g}`;let t=new r.aladin(i,s);e.appendChild(i);let o=n.get(\"_target\").split(\" \");t.gotoRaDec(o[0],o[1]);let d={...t.getFov()};n.set(\"_fov_xy\",{x:d[0],y:d[1]});let c={...t.getViewWCS()};return n.set(\"_wcs\",c),n.set(\"_is_loaded\",!0),n.save_changes(),{aladin:t,aladinDiv:i}}async function k({model:n}){await r.init}function w({model:n,el:e}){let{aladin:a,aladinDiv:s}=C(n,e),i=new u(a,s,n);return i.subscribeAll(),()=>{i.unsubscribeAll()}}var W={initialize:k,render:w};export{W as default};\n",
       "_fov": 0.4,
       "_fov_xy": {},
       "_height": 400,
       "_init_options": {
        "fov": 0.4,
        "show_context_menu": true,
        "show_coo_grid_control": true,
        "show_settings_control": true,
        "show_simbad_pointer_control": true,
        "target": "Messier 1"
       },
       "_is_loaded": true,
       "_is_reduced": false,
       "_model_module": "anywidget",
       "_model_module_version": "~0.9.*",
       "_model_name": "AnyModel",
       "_ready": false,
       "_selected_objects": [],
       "_survey_body": "sky",
       "_target": "83.6324 22.0174",
       "_view_count": null,
       "_view_module": "anywidget",
       "_view_module_version": "~0.9.*",
       "_view_name": "AnyView",
       "_wcs": {},
       "clicked_object": {},
       "coo_frame": "ICRS",
       "layout": "IPY_MODEL_bb4cfb5d54404605b10f2e07d2cad836",
       "overlay_survey": "",
       "overlay_survey_opacity": 0.0,
       "projection": "SIN",
       "survey": "https://alaskybis.unistra.fr/DSS/DSSColor",
       "tabbable": null,
       "tooltip": null
      }
     }
    },
    "version_major": 2,
    "version_minor": 0
   }
  }
 },
 "nbformat": 4,
 "nbformat_minor": 4
}
