{
 "cells": [
  {
   "attachments": {},
   "cell_type": "markdown",
   "metadata": {},
   "source": [
    "# Linked widgets\n",
    "\n",
    "Widgets can be linked to compare between different surveys. Try moving one of the views and the others will follow!"
   ]
  },
  {
   "cell_type": "code",
   "execution_count": 1,
   "metadata": {
    "execution": {
     "iopub.execute_input": "2024-09-30T16:02:55.395839Z",
     "iopub.status.busy": "2024-09-30T16:02:55.395635Z",
     "iopub.status.idle": "2024-09-30T16:02:56.627803Z",
     "shell.execute_reply": "2024-09-30T16:02:56.627060Z"
    }
   },
   "outputs": [
    {
     "data": {
      "application/vnd.jupyter.widget-view+json": {
       "model_id": "3a2343b33ad141aa94802bc974f18396",
       "version_major": 2,
       "version_minor": 0
      },
      "text/plain": [
       "Box(children=(Aladin(layout=Layout(width='33.33%')), Aladin(layout=Layout(width='33.33%'), survey='P/DSS2/red'…"
      ]
     },
     "execution_count": 1,
     "metadata": {},
     "output_type": "execute_result"
    }
   ],
   "source": [
    "from ipyaladin import Aladin\n",
    "\n",
    "from ipywidgets import Layout, Box, widgets\n",
    "\n",
    "cosmetic_options = {\"show_projection_control\": False, \"show_fullscreen_control\": False}\n",
    "\n",
    "a = Aladin(layout=Layout(width=\"33.33%\"), target=\"M 81\", fov=0.3, **cosmetic_options)\n",
    "b = Aladin(layout=Layout(width=\"33.33%\"), survey=\"P/DSS2/red\", **cosmetic_options)\n",
    "c = Aladin(layout=Layout(width=\"33.33%\"), survey=\"P/2MASS/color\", **cosmetic_options)\n",
    "\n",
    "# synchronize target between 3 widgets\n",
    "widgets.jslink((a, \"_target\"), (b, \"_target\"))\n",
    "widgets.jslink((b, \"_target\"), (c, \"_target\"))\n",
    "\n",
    "# synchronize FoV (zoom level) between 3 widgets\n",
    "widgets.jslink((a, \"_fov\"), (b, \"_fov\"))\n",
    "widgets.jslink((b, \"_fov\"), (c, \"_fov\"))\n",
    "\n",
    "items = [a, b, c]\n",
    "\n",
    "box_layout = Layout(\n",
    "    display=\"flex\", flex_flow=\"row\", align_items=\"stretch\", border=\"solid\", width=\"100%\"\n",
    ")\n",
    "box = Box(children=items, layout=box_layout)\n",
    "box"
   ]
  },
  {
   "cell_type": "code",
   "execution_count": null,
   "metadata": {},
   "outputs": [],
   "source": []
  }
 ],
 "metadata": {
  "kernelspec": {
   "display_name": "Python 3 (ipykernel)",
   "language": "python",
   "name": "python3"
  },
  "language_info": {
   "codemirror_mode": {
    "name": "ipython",
    "version": 3
   },
   "file_extension": ".py",
   "mimetype": "text/x-python",
   "name": "python",
   "nbconvert_exporter": "python",
   "pygments_lexer": "ipython3",
   "version": "3.12.6"
  },
  "widgets": {
   "application/vnd.jupyter.widget-state+json": {
    "state": {
     "1116292fd47e481db28247613d7c9648": {
      "model_module": "@jupyter-widgets/base",
      "model_module_version": "2.0.0",
      "model_name": "LayoutModel",
      "state": {
       "_model_module": "@jupyter-widgets/base",
       "_model_module_version": "2.0.0",
       "_model_name": "LayoutModel",
       "_view_count": null,
       "_view_module": "@jupyter-widgets/base",
       "_view_module_version": "2.0.0",
       "_view_name": "LayoutView",
       "align_content": null,
       "align_items": null,
       "align_self": null,
       "border_bottom": null,
       "border_left": null,
       "border_right": null,
       "border_top": null,
       "bottom": null,
       "display": null,
       "flex": null,
       "flex_flow": null,
       "grid_area": null,
       "grid_auto_columns": null,
       "grid_auto_flow": null,
       "grid_auto_rows": null,
       "grid_column": null,
       "grid_gap": null,
       "grid_row": null,
       "grid_template_areas": null,
       "grid_template_columns": null,
       "grid_template_rows": null,
       "height": null,
       "justify_content": null,
       "justify_items": null,
       "left": null,
       "margin": null,
       "max_height": null,
       "max_width": null,
       "min_height": null,
       "min_width": null,
       "object_fit": null,
       "object_position": null,
       "order": null,
       "overflow": null,
       "padding": null,
       "right": null,
       "top": null,
       "visibility": null,
       "width": "33.33%"
      }
     },
     "3a2343b33ad141aa94802bc974f18396": {
      "model_module": "@jupyter-widgets/controls",
      "model_module_version": "2.0.0",
      "model_name": "BoxModel",
      "state": {
       "_dom_classes": [],
       "_model_module": "@jupyter-widgets/controls",
       "_model_module_version": "2.0.0",
       "_model_name": "BoxModel",
       "_view_count": null,
       "_view_module": "@jupyter-widgets/controls",
       "_view_module_version": "2.0.0",
       "_view_name": "BoxView",
       "box_style": "",
       "children": [
        "IPY_MODEL_3d3957aa58ba494f99437da5ad324a3d",
        "IPY_MODEL_de804b6b9e594457a8fb6627a43046ec",
        "IPY_MODEL_bab5a38fe9db44e184ba52e6813aab23"
       ],
       "layout": "IPY_MODEL_6db7d6343b734236820ec5154ef03628",
       "tabbable": null,
       "tooltip": null
      }
     },
     "3d3957aa58ba494f99437da5ad324a3d": {
      "model_module": "anywidget",
      "model_module_version": "~0.9.*",
      "model_name": "AnyModel",
      "state": {
       "_anywidget_id": "ipyaladin.widget.Aladin",
       "_base_layer_last_view": "https://alaskybis.unistra.fr/DSS/DSSColor",
       "_css": ".cell-output-ipywidget-background{background:transparent}.jp-OutputArea-output,.aladin-widget{background-color:transparent}.aladin-widget .aladin-measurement-div{max-height:100px}\n",
       "_dom_classes": [],
       "_esm": "function v(n){n.charAt(0)===\"_\"&&(n=n.slice(1));let e=n.split(\"_\");for(let a=1;a<e.length;a++)e[a]=e[a].charAt(0).toUpperCase()+e[a].slice(1);return e.join(\"\")}function h(n){let e={};for(let a in n)e[v(a)]=n[a];return e}var m=class{locked=!1;unlock(){this.locked=!1}lock(){this.locked=!0}},g=-1;function f(n){g=n}function _(n,e){n==-1?e.style.height=\"100%\":e.style.height=`${n}px`}import y from\"https://esm.sh/aladin-lite@3.5.1-beta\";var r=y;var b=0,p=class{constructor(e,a){this.aladin=e,this.model=a}handleAddMarker(e){let a=h(e.options||{});a.name||(a.name=\"markers\");let s=r.catalog(a);this.aladin.addCatalog(s);let i=e.markers,t=[];for(let o of i)t.push(r.marker(o.lon,o.lat,{popupTitle:o.title,popupDesc:o.description}));s.addSources(t)}handleChangeFoV(e){this.aladin.setFoV(e.fov)}handleGotoRaDec(e){this.aladin.gotoRaDec(e.ra,e.dec)}async handleSaveViewAsImage(e){let a=e.path,s=e.format,i=e.with_logo,t=await this.aladin.getViewData(\"arraybuffer\",`image/${s}`,i);this.model.send({event_type:\"save_view_as_image\",path:a},null,[t])}handleAddFits(e,a){let s=h(e.options||{});s.name||(s.name=`image_${String(++b).padStart(3,\"0\")}`);let i=a[0],t=new Blob([i],{type:\"application/octet-stream\"}),o=URL.createObjectURL(t),d=this.aladin.createImageFITS(o,s,(c,l)=>{this.aladin.gotoRaDec(c,l),console.info(`FITS located at ra: ${c}, dec: ${l}`),URL.revokeObjectURL(o)});this.aladin.setOverlayImageLayer(d,s.name)}handleAddCatalogFromURL(e){let a=h(e.options||{});this.aladin.addCatalog(r.catalogFromURL(e.votable_URL,a))}handleAddMOCFromURL(e){let a=h(e.options||{});this.aladin.addMOC(r.MOCFromURL(e.moc_URL,a))}handleAddMOCFromDict(e){let a=h(e.options||{});this.aladin.addMOC(r.MOCFromJSON(e.moc_dict,a))}handleAddOverlay(e){let a=e.regions_infos,s=h(e.graphic_options||{});s.color||(s.color=\"red\");let i=r.graphicOverlay(s);this.aladin.addOverlay(i);for(let t of a){let o=t.infos;switch(t.region_type){case\"stcs\":i.addFootprints(r.footprintsFromSTCS(o.stcs,t.options));break;case\"circle\":i.add(r.circle(o.ra,o.dec,o.radius,t.options));break;case\"ellipse\":i.add(r.ellipse(o.ra,o.dec,o.a,o.b,o.theta,t.options));break;case\"line\":t.options.lineWidth=t.options.lineWidth||3,i.add(r.vector(o.ra1,o.dec1,o.ra2,o.dec2,t.options));break;case\"polygon\":i.add(r.polygon(o.vertices,t.options));break}}}handleChangeColormap(e){this.aladin.getBaseImageLayer().setColormap(e.colormap)}handleGetJPGThumbnail(){this.aladin.exportAsPNG()}handleTriggerSelection(e){let a=e.selection_type;a===\"rectangle\"?a=\"rect\":a===\"polygon\"&&(a=\"poly\"),this.aladin.select(a)}handleAddTable(e,a){let s=h(e.options||{}),i=a[0].buffer,t=new TextDecoder(\"utf-8\"),o=new Blob([t.decode(i)]),d=URL.createObjectURL(o);r.catalogFromURL(d,Object.assign(s,{onClick:\"showTable\"}),c=>{this.aladin.addCatalog(c)},!1),URL.revokeObjectURL(d)}};var u=class{constructor(e,a,s){this.aladin=e,this.aladinDiv=a,this.model=s,this.messageHandler=new p(e,s),this.currentDivNumber=parseInt(a.id.split(\"-\").pop())}isLastDiv(){if(this.currentDivNumber===g)return!0;let e=g;for(let a=e;a>=0;a--){let s=document.getElementById(`aladin-lite-div-${a}`);if(s&&s.style.display!==\"none\"){e=a;break}}return f(e),this.currentDivNumber===e}updateWCS(){this.isLastDiv()&&this.model.set(\"_wcs\",this.aladin.getViewWCS())}update2AxisFoV(){if(!this.isLastDiv())return;let e=this.aladin.getFov();this.model.set(\"_fov_xy\",{x:e[0],y:e[1]})}subscribeAll(){let e=new m,a=new m;this.aladin.on(\"positionChanged\",t=>{if(a.locked){a.unlock();return}e.lock();let o=[t.ra,t.dec];this.updateWCS(),this.model.set(\"_target\",`${o[0]} ${o[1]}`),this.model.save_changes()}),this.model.on(\"change:_target\",()=>{if(e.locked){e.unlock();return}a.lock();let t=this.model.get(\"_target\"),[o,d]=t.split(\" \");this.aladin.gotoRaDec(o,d)});let s=new m,i=new m;this.aladin.on(\"zoomChanged\",t=>{if(i.locked){i.unlock();return}s.lock(),this.updateWCS(),this.update2AxisFoV(),this.model.set(\"_fov\",parseFloat(t.toFixed(5))),this.model.save_changes()}),this.model.on(\"change:_fov\",()=>{if(s.locked){s.unlock();return}i.lock();let t=this.model.get(\"_fov\");this.aladin.setFoV(t)}),this.model.on(\"change:_height\",()=>{_(this.model.get(\"_height\"),this.aladinDiv),this.updateWCS(),this.update2AxisFoV(),this.model.save_changes()}),this.aladin.on(\"cooFrameChanged\",()=>{this.updateWCS(),this.model.save_changes()}),this.aladin.on(\"projectionChanged\",()=>{this.updateWCS(),this.model.save_changes()}),this.aladin.on(\"layerChanged\",(t,o,d)=>{o===\"base\"&&this.model.set(\"_survey_body\",t.hipsBody||\"sky\"),!(o!==\"base\"||d!==\"ADDED\")&&(this.updateWCS(),this.model.set(\"_base_layer_last_view\",t.id),this.model.save_changes())}),this.aladin.on(\"resizeChanged\",(t,o)=>{if(t===1&&o===1){this.model.set(\"_is_reduced\",!0),this.model.save_changes();return}else this.model.set(\"_is_reduced\",!1);this.updateWCS(),this.update2AxisFoV(),this.model.set(\"_height\",o),this.model.save_changes()}),this.aladin.on(\"objectHovered\",t=>{t.data!==void 0&&this.model.send({event_type:\"object_hovered\",content:{ra:t.ra,dec:t.dec}})}),this.aladin.on(\"objectClicked\",t=>{if(t){let o={ra:t.ra,dec:t.dec};t.data!==void 0&&(o.data=t.data),this.model.set(\"clicked_object\",o),this.model.send({event_type:\"object_clicked\",content:o}),this.model.save_changes()}}),this.aladin.on(\"click\",t=>{this.model.send({event_type:\"click\",content:t})}),this.aladin.on(\"select\",t=>{let o=t.map(c=>c.map(l=>({ra:l.ra,dec:l.dec,data:l.data,x:l.x,y:l.y})));this.model.set(\"_selected_objects\",o),this.model.save_changes();let d=[];t.forEach(c=>{c.forEach(l=>{d.push({ra:l.ra,dec:l.dec,data:l.data,x:l.x,y:l.y})})}),this.model.send({event_type:\"select\",content:d})}),this.model.on(\"change:coo_frame\",()=>{this.aladin.setFrame(this.model.get(\"coo_frame\"))}),this.model.on(\"change:survey\",()=>{this.aladin.setImageSurvey(this.model.get(\"survey\"))}),this.model.on(\"change:overlay_survey\",()=>{this.aladin.setOverlayImageLayer(this.model.get(\"overlay_survey\"))}),this.model.on(\"change:overlay_survey_opacity\",()=>{this.aladin.getOverlayImageLayer().setAlpha(this.model.get(\"overlay_survey_opacity\"))}),this.eventHandlers={add_marker:this.messageHandler.handleAddMarker,change_fov:this.messageHandler.handleChangeFoV,goto_ra_dec:this.messageHandler.handleGotoRaDec,save_view_as_image:this.messageHandler.handleSaveViewAsImage,add_fits:this.messageHandler.handleAddFits,add_catalog_from_URL:this.messageHandler.handleAddCatalogFromURL,add_MOC_from_URL:this.messageHandler.handleAddMOCFromURL,add_MOC_from_dict:this.messageHandler.handleAddMOCFromDict,add_overlay:this.messageHandler.handleAddOverlay,change_colormap:this.messageHandler.handleChangeColormap,get_JPG_thumbnail:this.messageHandler.handleGetJPGThumbnail,trigger_selection:this.messageHandler.handleTriggerSelection,add_table:this.messageHandler.handleAddTable},this.model.on(\"msg:custom\",(t,o)=>{let d=t.event_name,c=this.eventHandlers[d];if(c)c.call(this,t,o);else throw new Error(`Unknown event name: ${d}`)})}unsubscribeAll(){this.model.off(\"change:_target\"),this.model.off(\"change:_fov\"),this.model.off(\"change:_height\"),this.model.off(\"change:coo_frame\"),this.model.off(\"change:survey\"),this.model.off(\"change:overlay_survey\"),this.model.off(\"change:overlay_survey_opacity\"),this.model.off(\"change:trigger_event\"),this.model.off(\"msg:custom\")}};function C(n,e){f(g+1);let a=n.get(\"_init_options\"),s={};for(let l in a)s[v(l)]=a[l];let i=document.createElement(\"div\");i.classList.add(\"aladin-widget\"),_(n.get(\"_height\"),i),i.id=`aladin-lite-div-${g}`;let t=new r.aladin(i,s);e.appendChild(i);let o=n.get(\"_target\").split(\" \");t.gotoRaDec(o[0],o[1]);let d={...t.getFov()};n.set(\"_fov_xy\",{x:d[0],y:d[1]});let c={...t.getViewWCS()};return n.set(\"_wcs\",c),n.set(\"_is_loaded\",!0),n.save_changes(),{aladin:t,aladinDiv:i}}async function k({model:n}){await r.init}function w({model:n,el:e}){let{aladin:a,aladinDiv:s}=C(n,e),i=new u(a,s,n);return i.subscribeAll(),()=>{i.unsubscribeAll()}}var W={initialize:k,render:w};export{W as default};\n",
       "_fov": 0.3,
       "_fov_xy": {},
       "_height": 400,
       "_init_options": {
        "fov": 0.3,
        "show_context_menu": true,
        "show_coo_grid_control": true,
        "show_fullscreen_control": false,
        "show_projection_control": false,
        "show_settings_control": true,
        "show_simbad_pointer_control": true,
        "target": "M 81"
       },
       "_is_loaded": false,
       "_is_reduced": false,
       "_model_module": "anywidget",
       "_model_module_version": "~0.9.*",
       "_model_name": "AnyModel",
       "_ready": false,
       "_selected_objects": [],
       "_survey_body": "sky",
       "_target": "148.88821939854 69.06529514038",
       "_view_count": null,
       "_view_module": "anywidget",
       "_view_module_version": "~0.9.*",
       "_view_name": "AnyView",
       "_wcs": {},
       "clicked_object": {},
       "coo_frame": "ICRS",
       "layout": "IPY_MODEL_c88771003e874ad3baff8e2cf23b0899",
       "overlay_survey": "",
       "overlay_survey_opacity": 0.0,
       "projection": "SIN",
       "survey": "https://alaskybis.unistra.fr/DSS/DSSColor",
       "tabbable": null,
       "tooltip": null
      }
     },
     "46965b84b0d64c45983cf444b68b5461": {
      "model_module": "@jupyter-widgets/controls",
      "model_module_version": "2.0.0",
      "model_name": "LinkModel",
      "state": {
       "_model_module": "@jupyter-widgets/controls",
       "_model_module_version": "2.0.0",
       "_model_name": "LinkModel",
       "_view_count": null,
       "_view_module": "@jupyter-widgets/controls",
       "_view_module_version": "2.0.0",
       "_view_name": null,
       "source": [
        "IPY_MODEL_de804b6b9e594457a8fb6627a43046ec",
        "_fov"
       ],
       "target": [
        "IPY_MODEL_bab5a38fe9db44e184ba52e6813aab23",
        "_fov"
       ]
      }
     },
     "51cc2171d58a48ff976f0d5fc723c08c": {
      "model_module": "@jupyter-widgets/controls",
      "model_module_version": "2.0.0",
      "model_name": "LinkModel",
      "state": {
       "_model_module": "@jupyter-widgets/controls",
       "_model_module_version": "2.0.0",
       "_model_name": "LinkModel",
       "_view_count": null,
       "_view_module": "@jupyter-widgets/controls",
       "_view_module_version": "2.0.0",
       "_view_name": null,
       "source": [
        "IPY_MODEL_de804b6b9e594457a8fb6627a43046ec",
        "_target"
       ],
       "target": [
        "IPY_MODEL_bab5a38fe9db44e184ba52e6813aab23",
        "_target"
       ]
      }
     },
     "6db7d6343b734236820ec5154ef03628": {
      "model_module": "@jupyter-widgets/base",
      "model_module_version": "2.0.0",
      "model_name": "LayoutModel",
      "state": {
       "_model_module": "@jupyter-widgets/base",
       "_model_module_version": "2.0.0",
       "_model_name": "LayoutModel",
       "_view_count": null,
       "_view_module": "@jupyter-widgets/base",
       "_view_module_version": "2.0.0",
       "_view_name": "LayoutView",
       "align_content": null,
       "align_items": "stretch",
       "align_self": null,
       "border_bottom": "solid",
       "border_left": "solid",
       "border_right": "solid",
       "border_top": "solid",
       "bottom": null,
       "display": "flex",
       "flex": null,
       "flex_flow": "row",
       "grid_area": null,
       "grid_auto_columns": null,
       "grid_auto_flow": null,
       "grid_auto_rows": null,
       "grid_column": null,
       "grid_gap": null,
       "grid_row": null,
       "grid_template_areas": null,
       "grid_template_columns": null,
       "grid_template_rows": null,
       "height": null,
       "justify_content": null,
       "justify_items": null,
       "left": null,
       "margin": null,
       "max_height": null,
       "max_width": null,
       "min_height": null,
       "min_width": null,
       "object_fit": null,
       "object_position": null,
       "order": null,
       "overflow": null,
       "padding": null,
       "right": null,
       "top": null,
       "visibility": null,
       "width": "100%"
      }
     },
     "787cdee5dfd94f37b4fa786c7819db29": {
      "model_module": "@jupyter-widgets/controls",
      "model_module_version": "2.0.0",
      "model_name": "LinkModel",
      "state": {
       "_model_module": "@jupyter-widgets/controls",
       "_model_module_version": "2.0.0",
       "_model_name": "LinkModel",
       "_view_count": null,
       "_view_module": "@jupyter-widgets/controls",
       "_view_module_version": "2.0.0",
       "_view_name": null,
       "source": [
        "IPY_MODEL_3d3957aa58ba494f99437da5ad324a3d",
        "_target"
       ],
       "target": [
        "IPY_MODEL_de804b6b9e594457a8fb6627a43046ec",
        "_target"
       ]
      }
     },
     "bab5a38fe9db44e184ba52e6813aab23": {
      "model_module": "anywidget",
      "model_module_version": "~0.9.*",
      "model_name": "AnyModel",
      "state": {
       "_anywidget_id": "ipyaladin.widget.Aladin",
       "_base_layer_last_view": "https://alaskybis.unistra.fr/DSS/DSSColor",
       "_css": ".cell-output-ipywidget-background{background:transparent}.jp-OutputArea-output,.aladin-widget{background-color:transparent}.aladin-widget .aladin-measurement-div{max-height:100px}\n",
       "_dom_classes": [],
       "_esm": "function v(n){n.charAt(0)===\"_\"&&(n=n.slice(1));let e=n.split(\"_\");for(let a=1;a<e.length;a++)e[a]=e[a].charAt(0).toUpperCase()+e[a].slice(1);return e.join(\"\")}function h(n){let e={};for(let a in n)e[v(a)]=n[a];return e}var m=class{locked=!1;unlock(){this.locked=!1}lock(){this.locked=!0}},g=-1;function f(n){g=n}function _(n,e){n==-1?e.style.height=\"100%\":e.style.height=`${n}px`}import y from\"https://esm.sh/aladin-lite@3.5.1-beta\";var r=y;var b=0,p=class{constructor(e,a){this.aladin=e,this.model=a}handleAddMarker(e){let a=h(e.options||{});a.name||(a.name=\"markers\");let s=r.catalog(a);this.aladin.addCatalog(s);let i=e.markers,t=[];for(let o of i)t.push(r.marker(o.lon,o.lat,{popupTitle:o.title,popupDesc:o.description}));s.addSources(t)}handleChangeFoV(e){this.aladin.setFoV(e.fov)}handleGotoRaDec(e){this.aladin.gotoRaDec(e.ra,e.dec)}async handleSaveViewAsImage(e){let a=e.path,s=e.format,i=e.with_logo,t=await this.aladin.getViewData(\"arraybuffer\",`image/${s}`,i);this.model.send({event_type:\"save_view_as_image\",path:a},null,[t])}handleAddFits(e,a){let s=h(e.options||{});s.name||(s.name=`image_${String(++b).padStart(3,\"0\")}`);let i=a[0],t=new Blob([i],{type:\"application/octet-stream\"}),o=URL.createObjectURL(t),d=this.aladin.createImageFITS(o,s,(c,l)=>{this.aladin.gotoRaDec(c,l),console.info(`FITS located at ra: ${c}, dec: ${l}`),URL.revokeObjectURL(o)});this.aladin.setOverlayImageLayer(d,s.name)}handleAddCatalogFromURL(e){let a=h(e.options||{});this.aladin.addCatalog(r.catalogFromURL(e.votable_URL,a))}handleAddMOCFromURL(e){let a=h(e.options||{});this.aladin.addMOC(r.MOCFromURL(e.moc_URL,a))}handleAddMOCFromDict(e){let a=h(e.options||{});this.aladin.addMOC(r.MOCFromJSON(e.moc_dict,a))}handleAddOverlay(e){let a=e.regions_infos,s=h(e.graphic_options||{});s.color||(s.color=\"red\");let i=r.graphicOverlay(s);this.aladin.addOverlay(i);for(let t of a){let o=t.infos;switch(t.region_type){case\"stcs\":i.addFootprints(r.footprintsFromSTCS(o.stcs,t.options));break;case\"circle\":i.add(r.circle(o.ra,o.dec,o.radius,t.options));break;case\"ellipse\":i.add(r.ellipse(o.ra,o.dec,o.a,o.b,o.theta,t.options));break;case\"line\":t.options.lineWidth=t.options.lineWidth||3,i.add(r.vector(o.ra1,o.dec1,o.ra2,o.dec2,t.options));break;case\"polygon\":i.add(r.polygon(o.vertices,t.options));break}}}handleChangeColormap(e){this.aladin.getBaseImageLayer().setColormap(e.colormap)}handleGetJPGThumbnail(){this.aladin.exportAsPNG()}handleTriggerSelection(e){let a=e.selection_type;a===\"rectangle\"?a=\"rect\":a===\"polygon\"&&(a=\"poly\"),this.aladin.select(a)}handleAddTable(e,a){let s=h(e.options||{}),i=a[0].buffer,t=new TextDecoder(\"utf-8\"),o=new Blob([t.decode(i)]),d=URL.createObjectURL(o);r.catalogFromURL(d,Object.assign(s,{onClick:\"showTable\"}),c=>{this.aladin.addCatalog(c)},!1),URL.revokeObjectURL(d)}};var u=class{constructor(e,a,s){this.aladin=e,this.aladinDiv=a,this.model=s,this.messageHandler=new p(e,s),this.currentDivNumber=parseInt(a.id.split(\"-\").pop())}isLastDiv(){if(this.currentDivNumber===g)return!0;let e=g;for(let a=e;a>=0;a--){let s=document.getElementById(`aladin-lite-div-${a}`);if(s&&s.style.display!==\"none\"){e=a;break}}return f(e),this.currentDivNumber===e}updateWCS(){this.isLastDiv()&&this.model.set(\"_wcs\",this.aladin.getViewWCS())}update2AxisFoV(){if(!this.isLastDiv())return;let e=this.aladin.getFov();this.model.set(\"_fov_xy\",{x:e[0],y:e[1]})}subscribeAll(){let e=new m,a=new m;this.aladin.on(\"positionChanged\",t=>{if(a.locked){a.unlock();return}e.lock();let o=[t.ra,t.dec];this.updateWCS(),this.model.set(\"_target\",`${o[0]} ${o[1]}`),this.model.save_changes()}),this.model.on(\"change:_target\",()=>{if(e.locked){e.unlock();return}a.lock();let t=this.model.get(\"_target\"),[o,d]=t.split(\" \");this.aladin.gotoRaDec(o,d)});let s=new m,i=new m;this.aladin.on(\"zoomChanged\",t=>{if(i.locked){i.unlock();return}s.lock(),this.updateWCS(),this.update2AxisFoV(),this.model.set(\"_fov\",parseFloat(t.toFixed(5))),this.model.save_changes()}),this.model.on(\"change:_fov\",()=>{if(s.locked){s.unlock();return}i.lock();let t=this.model.get(\"_fov\");this.aladin.setFoV(t)}),this.model.on(\"change:_height\",()=>{_(this.model.get(\"_height\"),this.aladinDiv),this.updateWCS(),this.update2AxisFoV(),this.model.save_changes()}),this.aladin.on(\"cooFrameChanged\",()=>{this.updateWCS(),this.model.save_changes()}),this.aladin.on(\"projectionChanged\",()=>{this.updateWCS(),this.model.save_changes()}),this.aladin.on(\"layerChanged\",(t,o,d)=>{o===\"base\"&&this.model.set(\"_survey_body\",t.hipsBody||\"sky\"),!(o!==\"base\"||d!==\"ADDED\")&&(this.updateWCS(),this.model.set(\"_base_layer_last_view\",t.id),this.model.save_changes())}),this.aladin.on(\"resizeChanged\",(t,o)=>{if(t===1&&o===1){this.model.set(\"_is_reduced\",!0),this.model.save_changes();return}else this.model.set(\"_is_reduced\",!1);this.updateWCS(),this.update2AxisFoV(),this.model.set(\"_height\",o),this.model.save_changes()}),this.aladin.on(\"objectHovered\",t=>{t.data!==void 0&&this.model.send({event_type:\"object_hovered\",content:{ra:t.ra,dec:t.dec}})}),this.aladin.on(\"objectClicked\",t=>{if(t){let o={ra:t.ra,dec:t.dec};t.data!==void 0&&(o.data=t.data),this.model.set(\"clicked_object\",o),this.model.send({event_type:\"object_clicked\",content:o}),this.model.save_changes()}}),this.aladin.on(\"click\",t=>{this.model.send({event_type:\"click\",content:t})}),this.aladin.on(\"select\",t=>{let o=t.map(c=>c.map(l=>({ra:l.ra,dec:l.dec,data:l.data,x:l.x,y:l.y})));this.model.set(\"_selected_objects\",o),this.model.save_changes();let d=[];t.forEach(c=>{c.forEach(l=>{d.push({ra:l.ra,dec:l.dec,data:l.data,x:l.x,y:l.y})})}),this.model.send({event_type:\"select\",content:d})}),this.model.on(\"change:coo_frame\",()=>{this.aladin.setFrame(this.model.get(\"coo_frame\"))}),this.model.on(\"change:survey\",()=>{this.aladin.setImageSurvey(this.model.get(\"survey\"))}),this.model.on(\"change:overlay_survey\",()=>{this.aladin.setOverlayImageLayer(this.model.get(\"overlay_survey\"))}),this.model.on(\"change:overlay_survey_opacity\",()=>{this.aladin.getOverlayImageLayer().setAlpha(this.model.get(\"overlay_survey_opacity\"))}),this.eventHandlers={add_marker:this.messageHandler.handleAddMarker,change_fov:this.messageHandler.handleChangeFoV,goto_ra_dec:this.messageHandler.handleGotoRaDec,save_view_as_image:this.messageHandler.handleSaveViewAsImage,add_fits:this.messageHandler.handleAddFits,add_catalog_from_URL:this.messageHandler.handleAddCatalogFromURL,add_MOC_from_URL:this.messageHandler.handleAddMOCFromURL,add_MOC_from_dict:this.messageHandler.handleAddMOCFromDict,add_overlay:this.messageHandler.handleAddOverlay,change_colormap:this.messageHandler.handleChangeColormap,get_JPG_thumbnail:this.messageHandler.handleGetJPGThumbnail,trigger_selection:this.messageHandler.handleTriggerSelection,add_table:this.messageHandler.handleAddTable},this.model.on(\"msg:custom\",(t,o)=>{let d=t.event_name,c=this.eventHandlers[d];if(c)c.call(this,t,o);else throw new Error(`Unknown event name: ${d}`)})}unsubscribeAll(){this.model.off(\"change:_target\"),this.model.off(\"change:_fov\"),this.model.off(\"change:_height\"),this.model.off(\"change:coo_frame\"),this.model.off(\"change:survey\"),this.model.off(\"change:overlay_survey\"),this.model.off(\"change:overlay_survey_opacity\"),this.model.off(\"change:trigger_event\"),this.model.off(\"msg:custom\")}};function C(n,e){f(g+1);let a=n.get(\"_init_options\"),s={};for(let l in a)s[v(l)]=a[l];let i=document.createElement(\"div\");i.classList.add(\"aladin-widget\"),_(n.get(\"_height\"),i),i.id=`aladin-lite-div-${g}`;let t=new r.aladin(i,s);e.appendChild(i);let o=n.get(\"_target\").split(\" \");t.gotoRaDec(o[0],o[1]);let d={...t.getFov()};n.set(\"_fov_xy\",{x:d[0],y:d[1]});let c={...t.getViewWCS()};return n.set(\"_wcs\",c),n.set(\"_is_loaded\",!0),n.save_changes(),{aladin:t,aladinDiv:i}}async function k({model:n}){await r.init}function w({model:n,el:e}){let{aladin:a,aladinDiv:s}=C(n,e),i=new u(a,s,n);return i.subscribeAll(),()=>{i.unsubscribeAll()}}var W={initialize:k,render:w};export{W as default};\n",
       "_fov": 60.0,
       "_fov_xy": {},
       "_height": 400,
       "_init_options": {
        "show_context_menu": true,
        "show_coo_grid_control": true,
        "show_fullscreen_control": false,
        "show_projection_control": false,
        "show_settings_control": true,
        "show_simbad_pointer_control": true,
        "survey": "P/2MASS/color"
       },
       "_is_loaded": false,
       "_is_reduced": false,
       "_model_module": "anywidget",
       "_model_module_version": "~0.9.*",
       "_model_name": "AnyModel",
       "_ready": false,
       "_selected_objects": [],
       "_survey_body": "sky",
       "_target": "0.0 0.0",
       "_view_count": null,
       "_view_module": "anywidget",
       "_view_module_version": "~0.9.*",
       "_view_name": "AnyView",
       "_wcs": {},
       "clicked_object": {},
       "coo_frame": "ICRS",
       "layout": "IPY_MODEL_1116292fd47e481db28247613d7c9648",
       "overlay_survey": "",
       "overlay_survey_opacity": 0.0,
       "projection": "SIN",
       "survey": "P/2MASS/color",
       "tabbable": null,
       "tooltip": null
      }
     },
     "bab8ee38adc7488b9909fc7392171859": {
      "model_module": "@jupyter-widgets/controls",
      "model_module_version": "2.0.0",
      "model_name": "LinkModel",
      "state": {
       "_model_module": "@jupyter-widgets/controls",
       "_model_module_version": "2.0.0",
       "_model_name": "LinkModel",
       "_view_count": null,
       "_view_module": "@jupyter-widgets/controls",
       "_view_module_version": "2.0.0",
       "_view_name": null,
       "source": [
        "IPY_MODEL_3d3957aa58ba494f99437da5ad324a3d",
        "_fov"
       ],
       "target": [
        "IPY_MODEL_de804b6b9e594457a8fb6627a43046ec",
        "_fov"
       ]
      }
     },
     "c88771003e874ad3baff8e2cf23b0899": {
      "model_module": "@jupyter-widgets/base",
      "model_module_version": "2.0.0",
      "model_name": "LayoutModel",
      "state": {
       "_model_module": "@jupyter-widgets/base",
       "_model_module_version": "2.0.0",
       "_model_name": "LayoutModel",
       "_view_count": null,
       "_view_module": "@jupyter-widgets/base",
       "_view_module_version": "2.0.0",
       "_view_name": "LayoutView",
       "align_content": null,
       "align_items": null,
       "align_self": null,
       "border_bottom": null,
       "border_left": null,
       "border_right": null,
       "border_top": null,
       "bottom": null,
       "display": null,
       "flex": null,
       "flex_flow": null,
       "grid_area": null,
       "grid_auto_columns": null,
       "grid_auto_flow": null,
       "grid_auto_rows": null,
       "grid_column": null,
       "grid_gap": null,
       "grid_row": null,
       "grid_template_areas": null,
       "grid_template_columns": null,
       "grid_template_rows": null,
       "height": null,
       "justify_content": null,
       "justify_items": null,
       "left": null,
       "margin": null,
       "max_height": null,
       "max_width": null,
       "min_height": null,
       "min_width": null,
       "object_fit": null,
       "object_position": null,
       "order": null,
       "overflow": null,
       "padding": null,
       "right": null,
       "top": null,
       "visibility": null,
       "width": "33.33%"
      }
     },
     "c89e30e915da4876abcc2d479d7cb218": {
      "model_module": "@jupyter-widgets/base",
      "model_module_version": "2.0.0",
      "model_name": "LayoutModel",
      "state": {
       "_model_module": "@jupyter-widgets/base",
       "_model_module_version": "2.0.0",
       "_model_name": "LayoutModel",
       "_view_count": null,
       "_view_module": "@jupyter-widgets/base",
       "_view_module_version": "2.0.0",
       "_view_name": "LayoutView",
       "align_content": null,
       "align_items": null,
       "align_self": null,
       "border_bottom": null,
       "border_left": null,
       "border_right": null,
       "border_top": null,
       "bottom": null,
       "display": null,
       "flex": null,
       "flex_flow": null,
       "grid_area": null,
       "grid_auto_columns": null,
       "grid_auto_flow": null,
       "grid_auto_rows": null,
       "grid_column": null,
       "grid_gap": null,
       "grid_row": null,
       "grid_template_areas": null,
       "grid_template_columns": null,
       "grid_template_rows": null,
       "height": null,
       "justify_content": null,
       "justify_items": null,
       "left": null,
       "margin": null,
       "max_height": null,
       "max_width": null,
       "min_height": null,
       "min_width": null,
       "object_fit": null,
       "object_position": null,
       "order": null,
       "overflow": null,
       "padding": null,
       "right": null,
       "top": null,
       "visibility": null,
       "width": "33.33%"
      }
     },
     "de804b6b9e594457a8fb6627a43046ec": {
      "model_module": "anywidget",
      "model_module_version": "~0.9.*",
      "model_name": "AnyModel",
      "state": {
       "_anywidget_id": "ipyaladin.widget.Aladin",
       "_base_layer_last_view": "https://alaskybis.unistra.fr/DSS/DSSColor",
       "_css": ".cell-output-ipywidget-background{background:transparent}.jp-OutputArea-output,.aladin-widget{background-color:transparent}.aladin-widget .aladin-measurement-div{max-height:100px}\n",
       "_dom_classes": [],
       "_esm": "function v(n){n.charAt(0)===\"_\"&&(n=n.slice(1));let e=n.split(\"_\");for(let a=1;a<e.length;a++)e[a]=e[a].charAt(0).toUpperCase()+e[a].slice(1);return e.join(\"\")}function h(n){let e={};for(let a in n)e[v(a)]=n[a];return e}var m=class{locked=!1;unlock(){this.locked=!1}lock(){this.locked=!0}},g=-1;function f(n){g=n}function _(n,e){n==-1?e.style.height=\"100%\":e.style.height=`${n}px`}import y from\"https://esm.sh/aladin-lite@3.5.1-beta\";var r=y;var b=0,p=class{constructor(e,a){this.aladin=e,this.model=a}handleAddMarker(e){let a=h(e.options||{});a.name||(a.name=\"markers\");let s=r.catalog(a);this.aladin.addCatalog(s);let i=e.markers,t=[];for(let o of i)t.push(r.marker(o.lon,o.lat,{popupTitle:o.title,popupDesc:o.description}));s.addSources(t)}handleChangeFoV(e){this.aladin.setFoV(e.fov)}handleGotoRaDec(e){this.aladin.gotoRaDec(e.ra,e.dec)}async handleSaveViewAsImage(e){let a=e.path,s=e.format,i=e.with_logo,t=await this.aladin.getViewData(\"arraybuffer\",`image/${s}`,i);this.model.send({event_type:\"save_view_as_image\",path:a},null,[t])}handleAddFits(e,a){let s=h(e.options||{});s.name||(s.name=`image_${String(++b).padStart(3,\"0\")}`);let i=a[0],t=new Blob([i],{type:\"application/octet-stream\"}),o=URL.createObjectURL(t),d=this.aladin.createImageFITS(o,s,(c,l)=>{this.aladin.gotoRaDec(c,l),console.info(`FITS located at ra: ${c}, dec: ${l}`),URL.revokeObjectURL(o)});this.aladin.setOverlayImageLayer(d,s.name)}handleAddCatalogFromURL(e){let a=h(e.options||{});this.aladin.addCatalog(r.catalogFromURL(e.votable_URL,a))}handleAddMOCFromURL(e){let a=h(e.options||{});this.aladin.addMOC(r.MOCFromURL(e.moc_URL,a))}handleAddMOCFromDict(e){let a=h(e.options||{});this.aladin.addMOC(r.MOCFromJSON(e.moc_dict,a))}handleAddOverlay(e){let a=e.regions_infos,s=h(e.graphic_options||{});s.color||(s.color=\"red\");let i=r.graphicOverlay(s);this.aladin.addOverlay(i);for(let t of a){let o=t.infos;switch(t.region_type){case\"stcs\":i.addFootprints(r.footprintsFromSTCS(o.stcs,t.options));break;case\"circle\":i.add(r.circle(o.ra,o.dec,o.radius,t.options));break;case\"ellipse\":i.add(r.ellipse(o.ra,o.dec,o.a,o.b,o.theta,t.options));break;case\"line\":t.options.lineWidth=t.options.lineWidth||3,i.add(r.vector(o.ra1,o.dec1,o.ra2,o.dec2,t.options));break;case\"polygon\":i.add(r.polygon(o.vertices,t.options));break}}}handleChangeColormap(e){this.aladin.getBaseImageLayer().setColormap(e.colormap)}handleGetJPGThumbnail(){this.aladin.exportAsPNG()}handleTriggerSelection(e){let a=e.selection_type;a===\"rectangle\"?a=\"rect\":a===\"polygon\"&&(a=\"poly\"),this.aladin.select(a)}handleAddTable(e,a){let s=h(e.options||{}),i=a[0].buffer,t=new TextDecoder(\"utf-8\"),o=new Blob([t.decode(i)]),d=URL.createObjectURL(o);r.catalogFromURL(d,Object.assign(s,{onClick:\"showTable\"}),c=>{this.aladin.addCatalog(c)},!1),URL.revokeObjectURL(d)}};var u=class{constructor(e,a,s){this.aladin=e,this.aladinDiv=a,this.model=s,this.messageHandler=new p(e,s),this.currentDivNumber=parseInt(a.id.split(\"-\").pop())}isLastDiv(){if(this.currentDivNumber===g)return!0;let e=g;for(let a=e;a>=0;a--){let s=document.getElementById(`aladin-lite-div-${a}`);if(s&&s.style.display!==\"none\"){e=a;break}}return f(e),this.currentDivNumber===e}updateWCS(){this.isLastDiv()&&this.model.set(\"_wcs\",this.aladin.getViewWCS())}update2AxisFoV(){if(!this.isLastDiv())return;let e=this.aladin.getFov();this.model.set(\"_fov_xy\",{x:e[0],y:e[1]})}subscribeAll(){let e=new m,a=new m;this.aladin.on(\"positionChanged\",t=>{if(a.locked){a.unlock();return}e.lock();let o=[t.ra,t.dec];this.updateWCS(),this.model.set(\"_target\",`${o[0]} ${o[1]}`),this.model.save_changes()}),this.model.on(\"change:_target\",()=>{if(e.locked){e.unlock();return}a.lock();let t=this.model.get(\"_target\"),[o,d]=t.split(\" \");this.aladin.gotoRaDec(o,d)});let s=new m,i=new m;this.aladin.on(\"zoomChanged\",t=>{if(i.locked){i.unlock();return}s.lock(),this.updateWCS(),this.update2AxisFoV(),this.model.set(\"_fov\",parseFloat(t.toFixed(5))),this.model.save_changes()}),this.model.on(\"change:_fov\",()=>{if(s.locked){s.unlock();return}i.lock();let t=this.model.get(\"_fov\");this.aladin.setFoV(t)}),this.model.on(\"change:_height\",()=>{_(this.model.get(\"_height\"),this.aladinDiv),this.updateWCS(),this.update2AxisFoV(),this.model.save_changes()}),this.aladin.on(\"cooFrameChanged\",()=>{this.updateWCS(),this.model.save_changes()}),this.aladin.on(\"projectionChanged\",()=>{this.updateWCS(),this.model.save_changes()}),this.aladin.on(\"layerChanged\",(t,o,d)=>{o===\"base\"&&this.model.set(\"_survey_body\",t.hipsBody||\"sky\"),!(o!==\"base\"||d!==\"ADDED\")&&(this.updateWCS(),this.model.set(\"_base_layer_last_view\",t.id),this.model.save_changes())}),this.aladin.on(\"resizeChanged\",(t,o)=>{if(t===1&&o===1){this.model.set(\"_is_reduced\",!0),this.model.save_changes();return}else this.model.set(\"_is_reduced\",!1);this.updateWCS(),this.update2AxisFoV(),this.model.set(\"_height\",o),this.model.save_changes()}),this.aladin.on(\"objectHovered\",t=>{t.data!==void 0&&this.model.send({event_type:\"object_hovered\",content:{ra:t.ra,dec:t.dec}})}),this.aladin.on(\"objectClicked\",t=>{if(t){let o={ra:t.ra,dec:t.dec};t.data!==void 0&&(o.data=t.data),this.model.set(\"clicked_object\",o),this.model.send({event_type:\"object_clicked\",content:o}),this.model.save_changes()}}),this.aladin.on(\"click\",t=>{this.model.send({event_type:\"click\",content:t})}),this.aladin.on(\"select\",t=>{let o=t.map(c=>c.map(l=>({ra:l.ra,dec:l.dec,data:l.data,x:l.x,y:l.y})));this.model.set(\"_selected_objects\",o),this.model.save_changes();let d=[];t.forEach(c=>{c.forEach(l=>{d.push({ra:l.ra,dec:l.dec,data:l.data,x:l.x,y:l.y})})}),this.model.send({event_type:\"select\",content:d})}),this.model.on(\"change:coo_frame\",()=>{this.aladin.setFrame(this.model.get(\"coo_frame\"))}),this.model.on(\"change:survey\",()=>{this.aladin.setImageSurvey(this.model.get(\"survey\"))}),this.model.on(\"change:overlay_survey\",()=>{this.aladin.setOverlayImageLayer(this.model.get(\"overlay_survey\"))}),this.model.on(\"change:overlay_survey_opacity\",()=>{this.aladin.getOverlayImageLayer().setAlpha(this.model.get(\"overlay_survey_opacity\"))}),this.eventHandlers={add_marker:this.messageHandler.handleAddMarker,change_fov:this.messageHandler.handleChangeFoV,goto_ra_dec:this.messageHandler.handleGotoRaDec,save_view_as_image:this.messageHandler.handleSaveViewAsImage,add_fits:this.messageHandler.handleAddFits,add_catalog_from_URL:this.messageHandler.handleAddCatalogFromURL,add_MOC_from_URL:this.messageHandler.handleAddMOCFromURL,add_MOC_from_dict:this.messageHandler.handleAddMOCFromDict,add_overlay:this.messageHandler.handleAddOverlay,change_colormap:this.messageHandler.handleChangeColormap,get_JPG_thumbnail:this.messageHandler.handleGetJPGThumbnail,trigger_selection:this.messageHandler.handleTriggerSelection,add_table:this.messageHandler.handleAddTable},this.model.on(\"msg:custom\",(t,o)=>{let d=t.event_name,c=this.eventHandlers[d];if(c)c.call(this,t,o);else throw new Error(`Unknown event name: ${d}`)})}unsubscribeAll(){this.model.off(\"change:_target\"),this.model.off(\"change:_fov\"),this.model.off(\"change:_height\"),this.model.off(\"change:coo_frame\"),this.model.off(\"change:survey\"),this.model.off(\"change:overlay_survey\"),this.model.off(\"change:overlay_survey_opacity\"),this.model.off(\"change:trigger_event\"),this.model.off(\"msg:custom\")}};function C(n,e){f(g+1);let a=n.get(\"_init_options\"),s={};for(let l in a)s[v(l)]=a[l];let i=document.createElement(\"div\");i.classList.add(\"aladin-widget\"),_(n.get(\"_height\"),i),i.id=`aladin-lite-div-${g}`;let t=new r.aladin(i,s);e.appendChild(i);let o=n.get(\"_target\").split(\" \");t.gotoRaDec(o[0],o[1]);let d={...t.getFov()};n.set(\"_fov_xy\",{x:d[0],y:d[1]});let c={...t.getViewWCS()};return n.set(\"_wcs\",c),n.set(\"_is_loaded\",!0),n.save_changes(),{aladin:t,aladinDiv:i}}async function k({model:n}){await r.init}function w({model:n,el:e}){let{aladin:a,aladinDiv:s}=C(n,e),i=new u(a,s,n);return i.subscribeAll(),()=>{i.unsubscribeAll()}}var W={initialize:k,render:w};export{W as default};\n",
       "_fov": 60.0,
       "_fov_xy": {},
       "_height": 400,
       "_init_options": {
        "show_context_menu": true,
        "show_coo_grid_control": true,
        "show_fullscreen_control": false,
        "show_projection_control": false,
        "show_settings_control": true,
        "show_simbad_pointer_control": true,
        "survey": "P/DSS2/red"
       },
       "_is_loaded": false,
       "_is_reduced": false,
       "_model_module": "anywidget",
       "_model_module_version": "~0.9.*",
       "_model_name": "AnyModel",
       "_ready": false,
       "_selected_objects": [],
       "_survey_body": "sky",
       "_target": "0.0 0.0",
       "_view_count": null,
       "_view_module": "anywidget",
       "_view_module_version": "~0.9.*",
       "_view_name": "AnyView",
       "_wcs": {},
       "clicked_object": {},
       "coo_frame": "ICRS",
       "layout": "IPY_MODEL_c89e30e915da4876abcc2d479d7cb218",
       "overlay_survey": "",
       "overlay_survey_opacity": 0.0,
       "projection": "SIN",
       "survey": "P/DSS2/red",
       "tabbable": null,
       "tooltip": null
      }
     }
    },
    "version_major": 2,
    "version_minor": 0
   }
  }
 },
 "nbformat": 4,
 "nbformat_minor": 4
}
