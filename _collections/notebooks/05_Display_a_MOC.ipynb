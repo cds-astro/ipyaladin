{
 "cells": [
  {
   "attachments": {},
   "cell_type": "markdown",
   "metadata": {},
   "source": [
    "# Display of a Multi Order Coverage (MOC)"
   ]
  },
  {
   "cell_type": "code",
   "execution_count": 1,
   "metadata": {
    "execution": {
     "iopub.execute_input": "2024-11-21T09:56:13.414946Z",
     "iopub.status.busy": "2024-11-21T09:56:13.414762Z",
     "iopub.status.idle": "2024-11-21T09:56:14.200470Z",
     "shell.execute_reply": "2024-11-21T09:56:14.199937Z"
    }
   },
   "outputs": [
    {
     "data": {
      "application/vnd.jupyter.widget-view+json": {
       "model_id": "b72c2cc1bca040cca6daab91e6795ddf",
       "version_major": 2,
       "version_minor": 1
      },
      "text/plain": [
       "Aladin(survey='P/Mellinger/color')"
      ]
     },
     "execution_count": 1,
     "metadata": {},
     "output_type": "execute_result"
    }
   ],
   "source": [
    "from ipyaladin import Aladin\n",
    "from mocpy import MOC\n",
    "import astropy.units as u\n",
    "\n",
    "aladin = Aladin(target=\"15 26 20.534 -57 02 14.74\", fov=135, survey=\"P/Mellinger/color\")\n",
    "aladin"
   ]
  },
  {
   "attachments": {},
   "cell_type": "markdown",
   "metadata": {},
   "source": [
    "## From an URL"
   ]
  },
  {
   "cell_type": "code",
   "execution_count": 2,
   "metadata": {
    "execution": {
     "iopub.execute_input": "2024-11-21T09:56:14.202541Z",
     "iopub.status.busy": "2024-11-21T09:56:14.202101Z",
     "iopub.status.idle": "2024-11-21T09:56:14.305724Z",
     "shell.execute_reply": "2024-11-21T09:56:14.305189Z"
    }
   },
   "outputs": [],
   "source": [
    "aladin.add_moc(\n",
    "    \"https://alasky.u-strasbg.fr/footprints/tables/vizier/II_337_vvv1/MOC?nside=256\",\n",
    "    color=\"violet\",\n",
    "    opacity=0.3,\n",
    ")"
   ]
  },
  {
   "attachments": {},
   "cell_type": "markdown",
   "metadata": {},
   "source": [
    "## From a dictionnary"
   ]
  },
  {
   "cell_type": "code",
   "execution_count": 3,
   "metadata": {
    "execution": {
     "iopub.execute_input": "2024-11-21T09:56:14.307425Z",
     "iopub.status.busy": "2024-11-21T09:56:14.307096Z",
     "iopub.status.idle": "2024-11-21T09:56:14.312818Z",
     "shell.execute_reply": "2024-11-21T09:56:14.312339Z"
    }
   },
   "outputs": [],
   "source": [
    "moc = {\n",
    "    \"4\": [\n",
    "        32,\n",
    "        33,\n",
    "        36,\n",
    "        51,\n",
    "        54,\n",
    "        55,\n",
    "        98,\n",
    "        99,\n",
    "        102,\n",
    "        112,\n",
    "        113,\n",
    "        116,\n",
    "        117,\n",
    "        1101,\n",
    "        1118,\n",
    "        1600,\n",
    "        1638,\n",
    "        2581,\n",
    "        2582,\n",
    "        2588,\n",
    "        2590,\n",
    "        2612,\n",
    "        2614,\n",
    "        2620,\n",
    "        2622,\n",
    "        2708,\n",
    "        2710,\n",
    "        2716,\n",
    "        2718,\n",
    "        2749,\n",
    "    ],\n",
    "    \"5\": [\n",
    "        42,\n",
    "        43,\n",
    "        150,\n",
    "        151,\n",
    "        152,\n",
    "        153,\n",
    "        156,\n",
    "        157,\n",
    "        194,\n",
    "        195,\n",
    "        198,\n",
    "        199,\n",
    "        200,\n",
    "        201,\n",
    "        203,\n",
    "        210,\n",
    "        378,\n",
    "        379,\n",
    "        382,\n",
    "        383,\n",
    "        387,\n",
    "        390,\n",
    "        391,\n",
    "        402,\n",
    "        403,\n",
    "        406,\n",
    "        407,\n",
    "        412,\n",
    "        413,\n",
    "        456,\n",
    "        457,\n",
    "        460,\n",
    "        461,\n",
    "        472,\n",
    "        1470,\n",
    "        1751,\n",
    "        1755,\n",
    "        1756,\n",
    "        1757,\n",
    "        1758,\n",
    "        1766,\n",
    "        1767,\n",
    "        1769,\n",
    "        1770,\n",
    "        1771,\n",
    "        1772,\n",
    "        1773,\n",
    "        1776,\n",
    "        1777,\n",
    "        1778,\n",
    "        1811,\n",
    "        1817,\n",
    "        1818,\n",
    "        1831,\n",
    "        1835,\n",
    "        1836,\n",
    "        1838,\n",
    "        1840,\n",
    "        1920,\n",
    "        1921,\n",
    "        1922,\n",
    "        4188,\n",
    "        4189,\n",
    "        4363,\n",
    "        4366,\n",
    "        4367,\n",
    "        4389,\n",
    "        4400,\n",
    "        4401,\n",
    "        4450,\n",
    "        4451,\n",
    "        4454,\n",
    "        4456,\n",
    "        4457,\n",
    "        4460,\n",
    "        4461,\n",
    "        4463,\n",
    "        4476,\n",
    "        4478,\n",
    "        4479,\n",
    "        4561,\n",
    "        4564,\n",
    "        4565,\n",
    "        6229,\n",
    "        6408,\n",
    "        6409,\n",
    "        6411,\n",
    "        6412,\n",
    "        6414,\n",
    "        6433,\n",
    "        6436,\n",
    "        6438,\n",
    "        6439,\n",
    "        6444,\n",
    "        6445,\n",
    "        6447,\n",
    "        6533,\n",
    "        6544,\n",
    "        6546,\n",
    "        6577,\n",
    "        6579,\n",
    "        6582,\n",
    "        6588,\n",
    "        6590,\n",
    "        6591,\n",
    "        6933,\n",
    "        6935,\n",
    "        6984,\n",
    "        6986,\n",
    "        7008,\n",
    "        7011,\n",
    "        7017,\n",
    "        10321,\n",
    "        10323,\n",
    "        10332,\n",
    "        10333,\n",
    "        10334,\n",
    "        10356,\n",
    "        10358,\n",
    "        10364,\n",
    "        10366,\n",
    "        10445,\n",
    "        10447,\n",
    "        10469,\n",
    "        10477,\n",
    "        10479,\n",
    "        10821,\n",
    "        10823,\n",
    "        10878,\n",
    "        10960,\n",
    "        10961,\n",
    "        10963,\n",
    "        10964,\n",
    "        10966,\n",
    "        10969,\n",
    "        10971,\n",
    "        10972,\n",
    "        10974,\n",
    "        10975,\n",
    "        11004,\n",
    "        11005,\n",
    "        11007,\n",
    "        11176,\n",
    "        11178,\n",
    "        11370,\n",
    "        11373,\n",
    "        11405,\n",
    "        11406,\n",
    "        11407,\n",
    "        11410,\n",
    "        11411,\n",
    "        11412,\n",
    "        11413,\n",
    "        11414,\n",
    "        11416,\n",
    "        11425,\n",
    "        11426,\n",
    "        11427,\n",
    "        11428,\n",
    "        11432,\n",
    "    ],\n",
    "}"
   ]
  },
  {
   "cell_type": "code",
   "execution_count": 4,
   "metadata": {
    "execution": {
     "iopub.execute_input": "2024-11-21T09:56:14.314368Z",
     "iopub.status.busy": "2024-11-21T09:56:14.314198Z",
     "iopub.status.idle": "2024-11-21T09:56:14.316909Z",
     "shell.execute_reply": "2024-11-21T09:56:14.316454Z"
    }
   },
   "outputs": [],
   "source": [
    "aladin.add_moc(moc)"
   ]
  },
  {
   "cell_type": "markdown",
   "metadata": {},
   "source": [
    "## From a mocpy object"
   ]
  },
  {
   "cell_type": "code",
   "execution_count": 5,
   "metadata": {
    "execution": {
     "iopub.execute_input": "2024-11-21T09:56:14.318648Z",
     "iopub.status.busy": "2024-11-21T09:56:14.318319Z",
     "iopub.status.idle": "2024-11-21T09:56:15.064539Z",
     "shell.execute_reply": "2024-11-21T09:56:15.063838Z"
    }
   },
   "outputs": [],
   "source": [
    "moc = MOC.from_ring(\n",
    "    lon=231.5855583 * u.deg,\n",
    "    lat=-57.03742777 * u.deg,\n",
    "    internal_radius=10 * u.deg,\n",
    "    external_radius=20 * u.deg,\n",
    "    max_depth=16,\n",
    ")\n",
    "aladin.add_moc(\n",
    "    moc, color=\"teal\", edge=True, line_width=3, fill_color=\"teal\", opacity=0.5\n",
    ")"
   ]
  }
 ],
 "metadata": {
  "kernelspec": {
   "display_name": "base",
   "language": "python",
   "name": "python3"
  },
  "language_info": {
   "codemirror_mode": {
    "name": "ipython",
    "version": 3
   },
   "file_extension": ".py",
   "mimetype": "text/x-python",
   "name": "python",
   "nbconvert_exporter": "python",
   "pygments_lexer": "ipython3",
   "version": "3.12.7"
  },
  "toc": {
   "base_numbering": 1,
   "nav_menu": {},
   "number_sections": false,
   "sideBar": false,
   "skip_h1_title": false,
   "title_cell": "Table of Contents",
   "title_sidebar": "Contents",
   "toc_cell": false,
   "toc_position": {},
   "toc_section_display": false,
   "toc_window_display": false
  },
  "vscode": {
   "interpreter": {
    "hash": "85bb43f988bdbdc027a50b6d744a62eda8a76617af1f4f9b115d38242716dbac"
   }
  },
  "widgets": {
   "application/vnd.jupyter.widget-state+json": {
    "state": {
     "6a03af5c35f1498e80577a3a98bf6fa3": {
      "model_module": "@jupyter-widgets/base",
      "model_module_version": "2.0.0",
      "model_name": "LayoutModel",
      "state": {
       "_model_module": "@jupyter-widgets/base",
       "_model_module_version": "2.0.0",
       "_model_name": "LayoutModel",
       "_view_count": null,
       "_view_module": "@jupyter-widgets/base",
       "_view_module_version": "2.0.0",
       "_view_name": "LayoutView",
       "align_content": null,
       "align_items": null,
       "align_self": null,
       "border_bottom": null,
       "border_left": null,
       "border_right": null,
       "border_top": null,
       "bottom": null,
       "display": null,
       "flex": null,
       "flex_flow": null,
       "grid_area": null,
       "grid_auto_columns": null,
       "grid_auto_flow": null,
       "grid_auto_rows": null,
       "grid_column": null,
       "grid_gap": null,
       "grid_row": null,
       "grid_template_areas": null,
       "grid_template_columns": null,
       "grid_template_rows": null,
       "height": null,
       "justify_content": null,
       "justify_items": null,
       "left": null,
       "margin": null,
       "max_height": null,
       "max_width": null,
       "min_height": null,
       "min_width": null,
       "object_fit": null,
       "object_position": null,
       "order": null,
       "overflow": null,
       "padding": null,
       "right": null,
       "top": null,
       "visibility": null,
       "width": null
      }
     },
     "b72c2cc1bca040cca6daab91e6795ddf": {
      "model_module": "anywidget",
      "model_module_version": "~0.9.*",
      "model_name": "AnyModel",
      "state": {
       "_anywidget_id": "ipyaladin.widget.Aladin",
       "_base_layer_last_view": "https://alaskybis.unistra.fr/DSS/DSSColor",
       "_css": ".cell-output-ipywidget-background{background:transparent}.jp-OutputArea-output,.aladin-widget{background-color:transparent}.aladin-widget .aladin-measurement-div{max-height:100px}\n",
       "_dom_classes": [],
       "_esm": "function v(n){n.charAt(0)===\"_\"&&(n=n.slice(1));let e=n.split(\"_\");for(let a=1;a<e.length;a++)e[a]=e[a].charAt(0).toUpperCase()+e[a].slice(1);return e.join(\"\")}function h(n){let e={};for(let a in n)e[v(a)]=n[a];return e}var m=class{locked=!1;unlock(){this.locked=!1}lock(){this.locked=!0}},g=-1;function f(n){g=n}function _(n,e){n==-1?e.style.height=\"100%\":e.style.height=`${n}px`}import y from\"https://esm.sh/aladin-lite@3.5.1-beta\";var r=y;var b=0,p=class{constructor(e,a){this.aladin=e,this.model=a}handleAddMarker(e){let a=h(e.options||{});a.name||(a.name=\"markers\");let s=r.catalog(a);this.aladin.addCatalog(s);let i=e.markers,t=[];for(let o of i)t.push(r.marker(o.lon,o.lat,{useMarkerDefaultIcon:a.useMarkerDefaultIcon|!1,popupTitle:o.title,popupDesc:o.description}));s.addSources(t)}handleChangeFoV(e){this.aladin.setFoV(e.fov)}handleGotoRaDec(e){this.aladin.gotoRaDec(e.ra,e.dec)}async handleSaveViewAsImage(e){let a=e.path,s=e.format,i=e.with_logo,t=await this.aladin.getViewData(\"arraybuffer\",`image/${s}`,i);this.model.send({event_type:\"save_view_as_image\",path:a},null,[t])}handleAddFits(e,a){let s=h(e.options||{});s.name||(s.name=`image_${String(++b).padStart(3,\"0\")}`);let i=a[0],t=new Blob([i],{type:\"application/octet-stream\"}),o=URL.createObjectURL(t),d=this.aladin.createImageFITS(o,s,(c,l)=>{this.aladin.gotoRaDec(c,l),console.info(`FITS located at ra: ${c}, dec: ${l}`),URL.revokeObjectURL(o)});this.aladin.setOverlayImageLayer(d,s.name)}handleAddCatalogFromURL(e){let a=h(e.options||{});this.aladin.addCatalog(r.catalogFromURL(e.votable_URL,a))}handleAddMOCFromURL(e){let a=h(e.options||{});this.aladin.addMOC(r.MOCFromURL(e.moc_URL,a))}handleAddMOCFromDict(e){let a=h(e.options||{});this.aladin.addMOC(r.MOCFromJSON(e.moc_dict,a))}handleAddOverlay(e){let a=e.regions_infos,s=h(e.graphic_options||{});s.color||(s.color=\"red\");let i=r.graphicOverlay(s);this.aladin.addOverlay(i);for(let t of a){let o=t.infos;switch(t.region_type){case\"stcs\":i.addFootprints(r.footprintsFromSTCS(o.stcs,t.options));break;case\"circle\":i.add(r.circle(o.ra,o.dec,o.radius,t.options));break;case\"ellipse\":i.add(r.ellipse(o.ra,o.dec,o.a,o.b,o.theta,t.options));break;case\"line\":t.options.lineWidth=t.options.lineWidth||3,i.add(r.vector(o.ra1,o.dec1,o.ra2,o.dec2,t.options));break;case\"polygon\":i.add(r.polygon(o.vertices,t.options));break}}}handleChangeColormap(e){this.aladin.getBaseImageLayer().setColormap(e.colormap)}handleGetJPGThumbnail(){this.aladin.exportAsPNG()}handleTriggerSelection(e){let a=e.selection_type;a===\"rectangle\"?a=\"rect\":a===\"polygon\"&&(a=\"poly\"),this.aladin.select(a)}handleAddTable(e,a){let s=h(e.options||{}),i=a[0].buffer,t=new TextDecoder(\"utf-8\"),o=new Blob([t.decode(i)]),d=URL.createObjectURL(o);r.catalogFromURL(d,Object.assign(s,{onClick:\"showTable\"}),c=>{this.aladin.addCatalog(c)},!1),URL.revokeObjectURL(d)}};var u=class{constructor(e,a,s){this.aladin=e,this.aladinDiv=a,this.model=s,this.messageHandler=new p(e,s),this.currentDivNumber=parseInt(a.id.split(\"-\").pop())}isLastDiv(){if(this.currentDivNumber===g)return!0;let e=g;for(let a=e;a>=0;a--){let s=document.getElementById(`aladin-lite-div-${a}`);if(s&&s.style.display!==\"none\"){e=a;break}}return f(e),this.currentDivNumber===e}updateWCS(){this.isLastDiv()&&this.model.set(\"_wcs\",this.aladin.getViewWCS())}update2AxisFoV(){if(!this.isLastDiv())return;let e=this.aladin.getFov();this.model.set(\"_fov_xy\",{x:e[0],y:e[1]})}subscribeAll(){let e=new m,a=new m;this.aladin.on(\"positionChanged\",t=>{if(a.locked){a.unlock();return}e.lock();let o=[t.ra,t.dec];this.updateWCS(),this.model.set(\"_target\",`${o[0]} ${o[1]}`),this.model.save_changes()}),this.model.on(\"change:_target\",()=>{if(e.locked){e.unlock();return}a.lock();let t=this.model.get(\"_target\"),[o,d]=t.split(\" \");this.aladin.gotoRaDec(o,d)});let s=new m,i=new m;this.aladin.on(\"zoomChanged\",t=>{if(i.locked){i.unlock();return}s.lock(),this.updateWCS(),this.update2AxisFoV(),this.model.set(\"_fov\",parseFloat(t.toFixed(5))),this.model.save_changes()}),this.model.on(\"change:_fov\",()=>{if(s.locked){s.unlock();return}i.lock();let t=this.model.get(\"_fov\");this.aladin.setFoV(t)}),this.model.on(\"change:_height\",()=>{_(this.model.get(\"_height\"),this.aladinDiv),this.updateWCS(),this.update2AxisFoV(),this.model.save_changes()}),this.aladin.on(\"cooFrameChanged\",()=>{this.updateWCS(),this.model.save_changes()}),this.aladin.on(\"projectionChanged\",()=>{this.updateWCS(),this.model.save_changes()}),this.aladin.on(\"layerChanged\",(t,o,d)=>{o===\"base\"&&this.model.set(\"_survey_body\",t.hipsBody||\"sky\"),!(o!==\"base\"||d!==\"ADDED\")&&(this.updateWCS(),this.model.set(\"_base_layer_last_view\",t.id),this.model.save_changes())}),this.aladin.on(\"resizeChanged\",(t,o)=>{if(t===1&&o===1){this.model.set(\"_is_reduced\",!0),this.model.save_changes();return}else this.model.set(\"_is_reduced\",!1);this.updateWCS(),this.update2AxisFoV(),this.model.set(\"_height\",o),this.model.save_changes()}),this.aladin.on(\"objectHovered\",t=>{t.data!==void 0&&this.model.send({event_type:\"object_hovered\",content:{ra:t.ra,dec:t.dec}})}),this.aladin.on(\"objectClicked\",t=>{if(t){let o={ra:t.ra,dec:t.dec};t.data!==void 0&&(o.data=t.data),this.model.set(\"clicked_object\",o),this.model.send({event_type:\"object_clicked\",content:o}),this.model.save_changes()}}),this.aladin.on(\"click\",t=>{this.model.send({event_type:\"click\",content:t})}),this.aladin.on(\"select\",t=>{let o=t.map(c=>c.map(l=>({ra:l.ra,dec:l.dec,data:l.data,x:l.x,y:l.y})));this.model.set(\"_selected_objects\",o),this.model.save_changes();let d=[];t.forEach(c=>{c.forEach(l=>{d.push({ra:l.ra,dec:l.dec,data:l.data,x:l.x,y:l.y})})}),this.model.send({event_type:\"select\",content:d})}),this.model.on(\"change:coo_frame\",()=>{this.aladin.setFrame(this.model.get(\"coo_frame\"))}),this.model.on(\"change:survey\",()=>{this.aladin.setImageSurvey(this.model.get(\"survey\"))}),this.model.on(\"change:overlay_survey\",()=>{this.aladin.setOverlayImageLayer(this.model.get(\"overlay_survey\"))}),this.model.on(\"change:overlay_survey_opacity\",()=>{this.aladin.getOverlayImageLayer().setAlpha(this.model.get(\"overlay_survey_opacity\"))}),this.eventHandlers={add_marker:this.messageHandler.handleAddMarker,change_fov:this.messageHandler.handleChangeFoV,goto_ra_dec:this.messageHandler.handleGotoRaDec,save_view_as_image:this.messageHandler.handleSaveViewAsImage,add_fits:this.messageHandler.handleAddFits,add_catalog_from_URL:this.messageHandler.handleAddCatalogFromURL,add_MOC_from_URL:this.messageHandler.handleAddMOCFromURL,add_MOC_from_dict:this.messageHandler.handleAddMOCFromDict,add_overlay:this.messageHandler.handleAddOverlay,change_colormap:this.messageHandler.handleChangeColormap,get_JPG_thumbnail:this.messageHandler.handleGetJPGThumbnail,trigger_selection:this.messageHandler.handleTriggerSelection,add_table:this.messageHandler.handleAddTable},this.model.on(\"msg:custom\",(t,o)=>{let d=t.event_name,c=this.eventHandlers[d];if(c)c.call(this,t,o);else throw new Error(`Unknown event name: ${d}`)})}unsubscribeAll(){this.model.off(\"change:_target\"),this.model.off(\"change:_fov\"),this.model.off(\"change:_height\"),this.model.off(\"change:coo_frame\"),this.model.off(\"change:survey\"),this.model.off(\"change:overlay_survey\"),this.model.off(\"change:overlay_survey_opacity\"),this.model.off(\"change:trigger_event\"),this.model.off(\"msg:custom\")}};function C(n,e){f(g+1);let a=n.get(\"_init_options\"),s={};for(let l in a)s[v(l)]=a[l];let i=document.createElement(\"div\");i.classList.add(\"aladin-widget\"),_(n.get(\"_height\"),i),i.id=`aladin-lite-div-${g}`;let t=new r.aladin(i,s);e.appendChild(i);let o=n.get(\"_target\").split(\" \");t.gotoRaDec(o[0],o[1]);let d={...t.getFov()};n.set(\"_fov_xy\",{x:d[0],y:d[1]});let c={...t.getViewWCS()};return n.set(\"_wcs\",c),n.set(\"_is_loaded\",!0),n.save_changes(),{aladin:t,aladinDiv:i}}async function k({model:n}){await r.init}function w({model:n,el:e}){let{aladin:a,aladinDiv:s}=C(n,e),i=new u(a,s,n);return i.subscribeAll(),()=>{i.unsubscribeAll()}}var W={initialize:k,render:w};export{W as default};\n",
       "_fov": 135.0,
       "_fov_xy": {},
       "_height": 400,
       "_init_options": {
        "fov": 135,
        "show_context_menu": true,
        "show_coo_grid_control": true,
        "show_settings_control": true,
        "show_simbad_pointer_control": true,
        "survey": "P/Mellinger/color",
        "target": "15 26 20.534 -57 02 14.74"
       },
       "_is_loaded": true,
       "_is_reduced": false,
       "_model_module": "anywidget",
       "_model_module_version": "~0.9.*",
       "_model_name": "AnyModel",
       "_ready": false,
       "_selected_objects": [],
       "_survey_body": "sky",
       "_target": "231.5855583333333 -57.03742777777778",
       "_view_count": null,
       "_view_module": "anywidget",
       "_view_module_version": "~0.9.*",
       "_view_name": "AnyView",
       "_wcs": {},
       "clicked_object": {},
       "coo_frame": "ICRS",
       "layout": "IPY_MODEL_6a03af5c35f1498e80577a3a98bf6fa3",
       "overlay_survey": "",
       "overlay_survey_opacity": 0.0,
       "projection": "SIN",
       "survey": "P/Mellinger/color",
       "tabbable": null,
       "tooltip": null
      }
     }
    },
    "version_major": 2,
    "version_minor": 0
   }
  }
 },
 "nbformat": 4,
 "nbformat_minor": 4
}
