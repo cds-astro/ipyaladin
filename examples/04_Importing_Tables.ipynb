{
 "cells": [
  {
   "attachments": {},
   "cell_type": "markdown",
   "metadata": {},
   "source": [
    "# Display tables resulting from an astroquery request\n",
    "\n",
    "This example implements the addition of two tables :\n",
    "- one resulting from an astroquery request on the [Simbad](https://simbad.cds.unistra.fr/simbad/ \"https://simbad.cds.unistra.fr/simbad/\") database\n",
    "- the other is a table created locally"
   ]
  },
  {
   "cell_type": "code",
   "execution_count": null,
   "metadata": {},
   "outputs": [],
   "source": [
    "from ipyaladin import Aladin\n",
    "from astropy.table import QTable\n",
    "import astropy.units as u\n",
    "from astroquery.simbad import Simbad"
   ]
  },
  {
   "attachments": {},
   "cell_type": "markdown",
   "metadata": {},
   "source": [
    "## From a query"
   ]
  },
  {
   "cell_type": "code",
   "execution_count": null,
   "metadata": {},
   "outputs": [],
   "source": [
    "table = Simbad.query_region(\"Messier 1\", radius=0.03 * u.deg)\n",
    "table"
   ]
  },
  {
   "cell_type": "code",
   "execution_count": null,
   "metadata": {},
   "outputs": [],
   "source": [
    "aladin = Aladin(fov=0.4, target=\"Messier 1\")\n",
    "aladin"
   ]
  },
  {
   "cell_type": "code",
   "execution_count": null,
   "metadata": {},
   "outputs": [],
   "source": [
    "aladin.add_table(table, shape=\"rhomb\", color=\"lightskyblue\", source_size=20)\n",
    "# This line also works with camelCase instead of snake_case: sourceSize=20"
   ]
  },
  {
   "cell_type": "markdown",
   "metadata": {},
   "source": [
    "## Display Astropy table created from scratch"
   ]
  },
  {
   "cell_type": "code",
   "execution_count": null,
   "metadata": {},
   "outputs": [],
   "source": [
    "ra = [83.63451584700, 83.61368056017, 83.58780251600]\n",
    "dec = [22.05652591227, 21.97517807639, 21.99277764451]\n",
    "name = [\n",
    "    \"Gaia EDR3 3403818589184411648\",\n",
    "    \"Gaia EDR3 3403817661471500416\",\n",
    "    \"Gaia EDR3 3403817936349408000\",\n",
    "]\n",
    "parallax = [1.7703, 0.5112, 0.3735] * u.mas\n",
    "\n",
    "t = QTable(\n",
    "    [ra, dec, name, parallax],\n",
    "    names=(\"ra\", \"dec\", \"name\", \"parallax\"),\n",
    "    meta={\"name\": \"my sample table\"},\n",
    ")"
   ]
  },
  {
   "cell_type": "code",
   "execution_count": null,
   "metadata": {},
   "outputs": [],
   "source": [
    "aladin.add_table(t)"
   ]
  },
  {
   "cell_type": "markdown",
   "metadata": {},
   "source": [
    "## Display the table with the error approximations\n",
    "First, let's re-use the table from the Simbad query and specify the error columns and units, and the ellipse enclosed probability.\n",
    "### Note\n",
    "Ipyaladin only support oriented ellipse and radial errors for the moment.\n",
    "Radial error can be specified with the `r` column in the table."
   ]
  },
  {
   "cell_type": "code",
   "execution_count": null,
   "metadata": {},
   "outputs": [],
   "source": [
    "error_dict = {\n",
    "    \"smaj\": {\"col\": \"coo_err_maj\", \"unit\": u.mas},\n",
    "    \"smin\": {\"col\": \"coo_err_min\", \"unit\": u.mas},\n",
    "    \"pa\": {\"col\": \"coo_err_angle\", \"unit\": u.deg},\n",
    "    # Let's the default value for the ellipse enclosed probability\n",
    "    \"ellipse_enclosed_probability\": 0.39347,\n",
    "}"
   ]
  },
  {
   "cell_type": "markdown",
   "metadata": {},
   "source": [
    "And then add the table to the Aladin widget"
   ]
  },
  {
   "cell_type": "code",
   "execution_count": null,
   "metadata": {},
   "outputs": [],
   "source": [
    "aladin2 = Aladin(target=\"M1\", fov=0.2)\n",
    "aladin2"
   ]
  },
  {
   "cell_type": "code",
   "execution_count": null,
   "metadata": {},
   "outputs": [],
   "source": [
    "aladin2.add_table(table, error_dict=error_dict)"
   ]
  }
 ],
 "metadata": {},
 "nbformat": 4,
 "nbformat_minor": 4
}
