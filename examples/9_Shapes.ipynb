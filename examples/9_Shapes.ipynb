{
 "cells": [
  {
   "attachments": {},
   "cell_type": "markdown",
   "metadata": {},
   "source": [
    "# Add shapes from Space-Time Coordinates (STC)\n",
    "\n",
    "[STC](https://hea-www.harvard.edu/~arots/nvometa/STC/ \"https://hea-www.harvard.edu/~arots/nvometa/STC/\") are a standardised way of describing sky regions. They can also be represented in ipyaladin! "
   ]
  },
  {
   "cell_type": "code",
   "execution_count": null,
   "metadata": {},
   "outputs": [],
   "source": [
    "from ipyaladin import Aladin"
   ]
  },
  {
   "cell_type": "code",
   "execution_count": null,
   "metadata": {},
   "outputs": [],
   "source": [
    "a = Aladin(target=\"M 51\", fov=1.2)\n",
    "a"
   ]
  },
  {
   "cell_type": "code",
   "execution_count": null,
   "metadata": {},
   "outputs": [],
   "source": [
    "a.add_overlay(\n",
    "    \"\"\"Polygon ICRS 202.63748 47.24951 202.46382 47.32391 202.46379 47.32391 202.45459\n",
    "    47.32391 202.34527 47.20597 202.34527 47.20596 202.34529 47.19710 202.51870\n",
    "    47.12286 202.52789 47.12286 202.52791 47.12286 202.63746 47.24063 202.63749\n",
    "    47.24949\\nPolygon J2000 202.74977 47.36958 202.57592 47.44415 202.57585 47.44416\n",
    "    202.56666 47.44416 202.45683 47.32632 202.45683 47.31746 202.63051 47.24302\n",
    "    202.63970 47.24302 202.74978 47.36069 202.74982 47.36955\\nPolygon J2000 202.52540\n",
    "    47.12904 202.35192 47.20325 202.34273 47.20325 202.23391 47.08518 202.23395\n",
    "    47.07633 202.23398 47.07630 202.40715 47.00227 202.40721 47.00226 202.41640\n",
    "    47.00226 202.52539 47.12018\"\"\",\n",
    "    color=\"red\",\n",
    ")\n",
    "a.add_overlay(\"Circle ICRS 202.4656816 +47.1999842 0.04\", color=\"#4488ee\")"
   ]
  },
  {
   "cell_type": "markdown",
   "metadata": {},
   "source": "# Add shapes from regions objects"
  },
  {
   "cell_type": "code",
   "execution_count": null,
   "metadata": {},
   "outputs": [],
   "source": [
    "aladin = Aladin(\n",
    "    target=\"m31\",\n",
    "    fov=10,\n",
    ")\n",
    "aladin"
   ]
  },
  {
   "cell_type": "code",
   "execution_count": null,
   "metadata": {},
   "outputs": [],
   "source": [
    "from regions import (\n",
    "    CircleSkyRegion,\n",
    "    EllipseSkyRegion,\n",
    "    LineSkyRegion,\n",
    "    PolygonSkyRegion,\n",
    "    RectangleSkyRegion,\n",
    ")\n",
    "from astropy.coordinates import Angle, SkyCoord"
   ]
  },
  {
   "cell_type": "code",
   "execution_count": null,
   "metadata": {},
   "outputs": [],
   "source": [
    "circle = CircleSkyRegion(center=aladin.target, radius=Angle(0.5, \"deg\"))\n",
    "\n",
    "aladin.add_overlay(circle, color=\"red\")"
   ]
  },
  {
   "cell_type": "code",
   "execution_count": null,
   "metadata": {},
   "outputs": [],
   "source": [
    "ellipse = EllipseSkyRegion(\n",
    "    center=aladin.target,\n",
    "    height=Angle(0.5, \"deg\"),\n",
    "    width=Angle(1, \"deg\"),\n",
    "    angle=Angle(45, \"deg\"),\n",
    ")\n",
    "aladin.add_overlay(ellipse, color=\"blue\")"
   ]
  },
  {
   "cell_type": "code",
   "execution_count": null,
   "metadata": {},
   "outputs": [],
   "source": [
    "line = LineSkyRegion(\n",
    "    start=aladin.target,\n",
    "    end=aladin.target.directional_offset_by(Angle(0, \"deg\"), Angle(0.5, \"deg\")),\n",
    ")\n",
    "aladin.add_overlay(line, color=\"green\")"
   ]
  },
  {
   "cell_type": "code",
   "execution_count": null,
   "metadata": {},
   "outputs": [],
   "source": [
    "polygon = PolygonSkyRegion(\n",
    "    vertices=SkyCoord(\n",
    "        [\n",
    "            aladin.target.directional_offset_by(Angle(0, \"deg\"), Angle(0.5, \"deg\")),\n",
    "            aladin.target.directional_offset_by(Angle(90, \"deg\"), Angle(0.5, \"deg\")),\n",
    "            aladin.target.directional_offset_by(Angle(-90, \"deg\"), Angle(0.5, \"deg\")),\n",
    "        ],\n",
    "        frame=\"icrs\",\n",
    "        unit=\"deg\",\n",
    "    )\n",
    ")\n",
    "aladin.add_overlay(polygon, color=\"yellow\")"
   ]
  },
  {
   "cell_type": "code",
   "execution_count": null,
   "metadata": {},
   "outputs": [],
   "source": [
    "rectangle = RectangleSkyRegion(\n",
    "    center=aladin.target,\n",
    "    width=Angle(0.5, \"deg\"),\n",
    "    height=Angle(0.5, \"deg\"),\n",
    "    angle=Angle(45, \"deg\"),\n",
    ")\n",
    "aladin.add_overlay(rectangle, color=\"purple\")"
   ]
  }
 ],
 "metadata": {
  "kernelspec": {
   "display_name": "base",
   "language": "python",
   "name": "python3"
  },
  "language_info": {
   "codemirror_mode": {
    "name": "ipython",
    "version": 3
   },
   "file_extension": ".py",
   "mimetype": "text/x-python",
   "name": "python",
   "nbconvert_exporter": "python",
   "pygments_lexer": "ipython3",
   "version": "3.11.3"
  },
  "toc": {
   "base_numbering": 1,
   "nav_menu": {},
   "number_sections": false,
   "sideBar": false,
   "skip_h1_title": false,
   "title_cell": "Table of Contents",
   "title_sidebar": "Contents",
   "toc_cell": false,
   "toc_position": {},
   "toc_section_display": false,
   "toc_window_display": false
  },
  "vscode": {
   "interpreter": {
    "hash": "85bb43f988bdbdc027a50b6d744a62eda8a76617af1f4f9b115d38242716dbac"
   }
  }
 },
 "nbformat": 4,
 "nbformat_minor": 4
}
