{
 "cells": [
  {
   "cell_type": "code",
   "execution_count": 20,
   "id": "initial_id",
   "metadata": {
    "ExecuteTime": {
     "end_time": "2024-07-15T09:19:49.859887Z",
     "start_time": "2024-07-15T09:19:49.856897Z"
    },
    "collapsed": true
   },
   "outputs": [],
   "source": [
    "from ipyaladin import Aladin"
   ]
  },
  {
   "cell_type": "code",
   "execution_count": 21,
   "id": "2e62d34eb8543145",
   "metadata": {
    "ExecuteTime": {
     "end_time": "2024-07-15T09:19:50.731329Z",
     "start_time": "2024-07-15T09:19:50.706131Z"
    }
   },
   "outputs": [
    {
     "data": {
      "application/vnd.jupyter.widget-view+json": {
       "model_id": "1bd7729f085f4d4e8874464da6aa7bec",
       "version_major": 2,
       "version_minor": 0
      },
      "text/plain": [
       "Aladin(height=600, init_options=['_fov', '_target', 'background_color', 'coo_frame', 'full_screen', 'grid_colo…"
      ]
     },
     "execution_count": 21,
     "metadata": {},
     "output_type": "execute_result"
    }
   ],
   "source": [
    "aladin = Aladin(fov=5, height=600, target=\"M31\")\n",
    "aladin"
   ]
  },
  {
   "cell_type": "markdown",
   "id": "54a2d7bb2777de3b",
   "metadata": {},
   "source": [
    "# Values Recovery\n",
    "## Recover current values\n",
    "Currently, ipyaladin allow you to recover some values from the Aladin Lite instance. These values are:\n",
    "- The World Coordinate System (WCS)\n",
    "- The field of view for the x and y axis\n",
    "You can recover these values by calling the corresponding attribute."
   ]
  },
  {
   "cell_type": "code",
   "execution_count": 22,
   "id": "84153657cb7cd837",
   "metadata": {
    "ExecuteTime": {
     "end_time": "2024-07-15T09:19:53.288584Z",
     "start_time": "2024-07-15T09:19:53.270738Z"
    }
   },
   "outputs": [
    {
     "data": {
      "text/plain": [
       "WCS Keywords\n",
       "\n",
       "Number of WCS axes: 2\n",
       "CTYPE : 'RA---SIN' 'DEC--SIN' \n",
       "CRVAL : 10.684708330000005 41.26875 \n",
       "CRPIX : 639.5 300.5 \n",
       "PC1_1 PC1_2  : 1.0 0.0 \n",
       "PC2_1 PC2_2  : 0.0 1.0 \n",
       "CDELT : 0.003912363067292645 0.003912363067292645 \n",
       "NAXIS : 1278  600"
      ]
     },
     "execution_count": 22,
     "metadata": {},
     "output_type": "execute_result"
    }
   ],
   "source": [
    "aladin.wcs  # Recover the current WCS"
   ]
  },
  {
   "cell_type": "code",
   "execution_count": 23,
   "id": "9595ae02388b245a",
   "metadata": {
    "ExecuteTime": {
     "end_time": "2024-07-15T09:19:54.416080Z",
     "start_time": "2024-07-15T09:19:54.405967Z"
    }
   },
   "outputs": [
    {
     "data": {
      "text/plain": [
       "(<Angle 5. deg>, <Angle 2.34741784 deg>)"
      ]
     },
     "execution_count": 23,
     "metadata": {},
     "output_type": "execute_result"
    }
   ],
   "source": [
    "aladin.fov_xy  # Recover the current field of view for the x and y axis"
   ]
  },
  {
   "cell_type": "markdown",
   "id": "870935d9c4e2aaa",
   "metadata": {},
   "source": [
    "## Recover values after changing\n",
    "In case you are changing a value like the target or the field of view, you need to recover one of these values in the next cell."
   ]
  },
  {
   "cell_type": "code",
   "execution_count": 24,
   "id": "dfdc3a54019d7e34",
   "metadata": {
    "ExecuteTime": {
     "end_time": "2024-07-15T09:19:56.582921Z",
     "start_time": "2024-07-15T09:19:56.566380Z"
    }
   },
   "outputs": [
    {
     "data": {
      "text/plain": [
       "WCS Keywords\n",
       "\n",
       "Number of WCS axes: 2\n",
       "CTYPE : 'RA---SIN' 'DEC--SIN' \n",
       "CRVAL : 10.684708330000005 41.26875 \n",
       "CRPIX : 639.5 300.5 \n",
       "PC1_1 PC1_2  : 1.0 0.0 \n",
       "PC2_1 PC2_2  : 0.0 1.0 \n",
       "CDELT : 0.003912363067292645 0.003912363067292645 \n",
       "NAXIS : 1278  600"
      ]
     },
     "execution_count": 24,
     "metadata": {},
     "output_type": "execute_result"
    }
   ],
   "source": [
    "aladin.target = \"M33\"\n",
    "aladin.fov = 2\n",
    "aladin.wcs  # This will display the previous WCS"
   ]
  },
  {
   "cell_type": "code",
   "execution_count": 25,
   "id": "ad62fb2664e45a30",
   "metadata": {
    "ExecuteTime": {
     "end_time": "2024-07-15T09:19:57.772224Z",
     "start_time": "2024-07-15T09:19:57.763011Z"
    }
   },
   "outputs": [
    {
     "data": {
      "text/plain": [
       "WCS Keywords\n",
       "\n",
       "Number of WCS axes: 2\n",
       "CTYPE : 'RA---SIN' 'DEC--SIN' \n",
       "CRVAL : 23.462069062180003 30.660175111980003 \n",
       "CRPIX : 639.5 300.5 \n",
       "PC1_1 PC1_2  : 1.0 0.0 \n",
       "PC2_1 PC2_2  : 0.0 1.0 \n",
       "CDELT : 0.001564945226917058 0.001564945226917058 \n",
       "NAXIS : 1278  600"
      ]
     },
     "execution_count": 25,
     "metadata": {},
     "output_type": "execute_result"
    }
   ],
   "source": [
    "aladin.wcs  # This will represent the new WCS"
   ]
  },
  {
   "cell_type": "code",
   "execution_count": null,
   "id": "281941943a948d7b",
   "metadata": {},
   "outputs": [],
   "source": []
  }
 ],
 "metadata": {
  "kernelspec": {
   "display_name": "Python 3",
   "language": "python",
   "name": "python3"
  },
  "language_info": {
   "codemirror_mode": {
    "name": "ipython",
    "version": 2
   },
   "file_extension": ".py",
   "mimetype": "text/x-python",
   "name": "python",
   "nbconvert_exporter": "python",
   "pygments_lexer": "ipython2",
   "version": "2.7.6"
  }
 },
 "nbformat": 4,
 "nbformat_minor": 5
}
