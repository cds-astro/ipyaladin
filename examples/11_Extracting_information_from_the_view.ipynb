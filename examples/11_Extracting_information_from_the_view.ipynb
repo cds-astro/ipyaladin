{
 "cells": [
  {
   "cell_type": "code",
   "id": "initial_id",
   "metadata": {
    "collapsed": true
   },
   "source": [
    "from ipyaladin import Aladin"
   ],
   "outputs": [],
   "execution_count": null
  },
  {
   "cell_type": "code",
   "id": "2e62d34eb8543145",
   "metadata": {},
   "source": [
    "aladin = Aladin(fov=5, height=600, target=\"M31\")\n",
    "aladin"
   ],
   "outputs": [],
   "execution_count": null
  },
  {
   "cell_type": "markdown",
   "id": "54a2d7bb2777de3b",
   "metadata": {},
   "source": [
    "# Extracting information from the view\n",
    "## Extracting values\n",
    "Currently, ipyaladin allow you to recover some values from the Aladin Lite instance. These values are:\n",
    "- The World Coordinate System (WCS)\n",
    "- The field of view for the x and y axis\n",
    "You can recover these values by calling the corresponding attribute."
   ]
  },
  {
   "cell_type": "code",
   "id": "84153657cb7cd837",
   "metadata": {},
   "source": [
    "aladin.wcs  # Recover the current WCS"
   ],
   "outputs": [],
   "execution_count": null
  },
  {
   "cell_type": "code",
   "id": "9595ae02388b245a",
   "metadata": {},
   "source": [
    "aladin.fov_xy  # Recover the current field of view for the x and y axis"
   ],
   "outputs": [],
   "execution_count": null
  },
  {
   "cell_type": "markdown",
   "id": "870935d9c4e2aaa",
   "metadata": {},
   "source": [
    "## Changing values\n",
    "If you change a value that affects the value you want to extract, you need to extract this value in the next cell."
   ]
  },
  {
   "cell_type": "code",
   "id": "dfdc3a54019d7e34",
   "metadata": {},
   "source": [
    "aladin.target = \"M33\"\n",
    "aladin.fov = 2"
   ],
   "outputs": [],
   "execution_count": null
  },
  {
   "cell_type": "code",
   "id": "ad62fb2664e45a30",
   "metadata": {},
   "source": [
    "aladin.wcs  # This will represent the new WCS"
   ],
   "outputs": [],
   "execution_count": null
  }
 ],
 "metadata": {
  "kernelspec": {
   "display_name": "Python 3",
   "language": "python",
   "name": "python3"
  },
  "language_info": {
   "codemirror_mode": {
    "name": "ipython",
    "version": 2
   },
   "file_extension": ".py",
   "mimetype": "text/x-python",
   "name": "python",
   "nbconvert_exporter": "python",
   "pygments_lexer": "ipython2",
   "version": "2.7.6"
  }
 },
 "nbformat": 4,
 "nbformat_minor": 5
}
