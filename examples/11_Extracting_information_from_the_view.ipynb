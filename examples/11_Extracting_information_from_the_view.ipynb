{
 "cells": [
  {
   "cell_type": "markdown",
   "id": "98601fdf-e2df-46c9-b039-710e45aabfdc",
   "metadata": {},
   "source": [
    "# Retrieving data from the current widget's view\n",
    "\n",
    "So far, we've seen how to send information (tables, MOCs, ...) into the widget. The other way also works! Here are a list of methods to extract diverse information about the current view:"
   ]
  },
  {
   "cell_type": "code",
   "execution_count": 1,
   "id": "initial_id",
   "metadata": {},
   "outputs": [],
   "source": [
    "from ipyaladin import Aladin"
   ]
  },
  {
   "cell_type": "code",
   "execution_count": 2,
   "id": "2e62d34eb8543145",
   "metadata": {},
   "outputs": [
    {
     "data": {
      "application/vnd.jupyter.widget-view+json": {
       "model_id": "8609c7b19f7644acb71ce3a258199fd9",
       "version_major": 2,
       "version_minor": 1
      },
      "text/plain": [
       "Aladin(init_options=['_fov', '_height', '_target', 'background_color', 'coo_frame', 'full_screen', 'grid_color…"
      ]
     },
     "execution_count": 2,
     "metadata": {},
     "output_type": "execute_result"
    }
   ],
   "source": [
    "aladin = Aladin(fov=5, height=600, target=\"M31\")\n",
    "aladin"
   ]
  },
  {
   "cell_type": "markdown",
   "id": "ae0a5496-d621-49ef-a11a-3578c272ce92",
   "metadata": {},
   "source": [
    "## Getting the current WCS\n",
    "\n",
    "The World Coordinates System (WCS) describes the field of view, the projection, and it's rotation. It is returned as an `astropy.coordinates.WCS` object."
   ]
  },
  {
   "cell_type": "code",
   "execution_count": 3,
   "id": "84153657cb7cd837",
   "metadata": {},
   "outputs": [
    {
     "data": {
      "text/plain": [
       "WCS Keywords\n",
       "\n",
       "Number of WCS axes: 2\n",
       "CTYPE : 'RA---SIN' 'DEC--SIN' \n",
       "CRVAL : 10.6847083 41.26875 \n",
       "CRPIX : 929.0 300.5 \n",
       "PC1_1 PC1_2  : 1.0 0.0 \n",
       "PC2_1 PC2_2  : 0.0 1.0 \n",
       "CDELT : -0.00269251480883144 0.002692514808831448 \n",
       "NAXIS : 1857  600"
      ]
     },
     "execution_count": 3,
     "metadata": {},
     "output_type": "execute_result"
    }
   ],
   "source": [
    "aladin.wcs  # Recover the current WCS"
   ]
  },
  {
   "cell_type": "markdown",
   "id": "998def1f-3963-405b-8be2-6d4ef4012634",
   "metadata": {},
   "source": [
    "If you edit the view either by modifiing the widget through its interface, or programmatically: "
   ]
  },
  {
   "cell_type": "code",
   "execution_count": 4,
   "id": "a63f210b-3a64-4860-8e70-42a4c66378fa",
   "metadata": {},
   "outputs": [],
   "source": [
    "aladin.height = 800\n",
    "aladin.survey = \"CDS/P/PLANCK/R2/HFI/color\"\n",
    "aladin.target = \"LMC\"\n",
    "aladin.fov = 50"
   ]
  },
  {
   "cell_type": "markdown",
   "id": "9c2221f3-6ecc-46d6-9d53-5dbefa71326d",
   "metadata": {},
   "source": [
    "The wcs is updated and you can print its new value in the **next cell**:"
   ]
  },
  {
   "cell_type": "code",
   "execution_count": 5,
   "id": "2ddc9637-b5c3-4412-8435-2302b6d86816",
   "metadata": {},
   "outputs": [
    {
     "data": {
      "text/plain": [
       "WCS Keywords\n",
       "\n",
       "Number of WCS axes: 2\n",
       "CTYPE : 'RA---SIN' 'DEC--SIN' \n",
       "CRVAL : 80.89416999999995 -69.75611 \n",
       "CRPIX : 929.0 400.5 \n",
       "PC1_1 PC1_2  : 1.0 0.0 \n",
       "PC2_1 PC2_2  : 0.0 1.0 \n",
       "CDELT : -0.00269251480883144 0.002692514808831449 \n",
       "NAXIS : 1857  800"
      ]
     },
     "execution_count": 5,
     "metadata": {},
     "output_type": "execute_result"
    }
   ],
   "source": [
    "aladin.wcs"
   ]
  },
  {
   "cell_type": "markdown",
   "id": "f5add3a2-be30-488e-86df-426338b98f5d",
   "metadata": {},
   "source": [
    "If you try to recover the value in the same cell, you'll get a `WidgetCommunicationError` error. This is because the calculation of the WCS is done by Aladin Lite *between* cell exceutions. \n",
    "\n",
    "## Getting the field of view\n",
    "\n",
    "The field of view is printed in the bottom left corner of the view. You can grab the two values with:"
   ]
  },
  {
   "cell_type": "code",
   "execution_count": 6,
   "id": "9595ae02388b245a",
   "metadata": {},
   "outputs": [
    {
     "data": {
      "text/plain": [
       "(<Angle 5. deg>, <Angle 2.15401185 deg>)"
      ]
     },
     "execution_count": 6,
     "metadata": {},
     "output_type": "execute_result"
    }
   ],
   "source": [
    "aladin.fov_xy  # Recover the current field of view for the x and y axis"
   ]
  }
 ],
 "metadata": {
  "kernelspec": {
   "display_name": "Python 3 (ipykernel)",
   "language": "python",
   "name": "python3"
  },
  "language_info": {
   "codemirror_mode": {
    "name": "ipython",
    "version": 3
   },
   "file_extension": ".py",
   "mimetype": "text/x-python",
   "name": "python",
   "nbconvert_exporter": "python",
   "pygments_lexer": "ipython3",
   "version": "3.11.8"
  },
  "widgets": {
   "application/vnd.jupyter.widget-state+json": {
    "state": {
     "8609c7b19f7644acb71ce3a258199fd9": {
      "model_module": "anywidget",
      "model_module_version": "0.9.10",
      "model_name": "AnyModel",
      "state": {
       "_anywidget_id": "ipyaladin.widget.Aladin",
       "_css": ".cell-output-ipywidget-background{background:transparent}.jp-OutputArea-output,.aladin-widget{background-color:transparent}.aladin-widget .aladin-measurement-div{max-height:100px}\n/*# sourceMappingURL=data:application/json;base64,ewogICJ2ZXJzaW9uIjogMywKICAic291cmNlcyI6IFsiLi4vLi4vLi4vanMvd2lkZ2V0LmNzcyJdLAogICJzb3VyY2VzQ29udGVudCI6IFsiLmNlbGwtb3V0cHV0LWlweXdpZGdldC1iYWNrZ3JvdW5kIHtcbiAgYmFja2dyb3VuZDogdHJhbnNwYXJlbnQ7XG59XG4uanAtT3V0cHV0QXJlYS1vdXRwdXQge1xuICBiYWNrZ3JvdW5kLWNvbG9yOiB0cmFuc3BhcmVudDtcbn1cbi5hbGFkaW4td2lkZ2V0IHtcbiAgYmFja2dyb3VuZC1jb2xvcjogdHJhbnNwYXJlbnQ7XG59XG4uYWxhZGluLXdpZGdldCAuYWxhZGluLW1lYXN1cmVtZW50LWRpdiB7XG4gIG1heC1oZWlnaHQ6IDEwMHB4O1xufVxuIl0sCiAgIm1hcHBpbmdzIjogIkFBQUEsQ0FBQyxpQ0FDQyxXQUFZLFdBQ2QsQ0FDQSxDQUFDLHFCQUdELENBQUMsY0FGQyxpQkFBa0IsV0FDcEIsQ0FJQSxDQUhDLGNBR2MsQ0FBQyx1QkFDZCxXQUFZLEtBQ2QiLAogICJuYW1lcyI6IFtdCn0K */\n",
       "_esm": "function f(s){s.charAt(0)===\"_\"&&(s=s.slice(1));let e=s.split(\"_\");for(let a=1;a<e.length;a++)e[a]=e[a].charAt(0).toUpperCase()+e[a].slice(1);return e.join(\"\")}function h(s){let e={};for(let a in s)e[f(a)]=s[a];return e}var c=class{locked=!1;unlock(){this.locked=!1}lock(){this.locked=!0}},m=-1;function u(s){m=s}import _ from\"https://esm.sh/aladin-lite@3.4.5-beta\";var l=_;var y=0,g=class{constructor(e,a){this.aladin=e,this.model=a}handleChangeFoV(e){this.aladin.setFoV(e.fov)}handleGotoRaDec(e){this.aladin.gotoRaDec(e.ra,e.dec)}handleAddFits(e,a){let i=h(e.options||{});i.name||(i.name=`image_${String(++y).padStart(3,\"0\")}`);let n=a[0],t=new Blob([n],{type:\"application/octet-stream\"}),o=URL.createObjectURL(t),d=this.aladin.createImageFITS(o,i,(r,v)=>{this.aladin.gotoRaDec(r,v),console.info(`FITS located at ra: ${r}, dec: ${v}`),URL.revokeObjectURL(o)});this.aladin.setOverlayImageLayer(d,i.name)}handleAddCatalogFromURL(e){let a=h(e.options||{});this.aladin.addCatalog(l.catalogFromURL(e.votable_URL,a))}handleAddMOCFromURL(e){let a=h(e.options||{});this.aladin.addMOC(l.MOCFromURL(e.moc_URL,a))}handleAddMOCFromDict(e){let a=h(e.options||{});this.aladin.addMOC(l.MOCFromJSON(e.moc_dict,a))}handleAddOverlay(e){let a=e.regions_infos,i=h(e.graphic_options||{});i.color||(i.color=\"red\");let n=l.graphicOverlay(i);this.aladin.addOverlay(n);for(let t of a){let o=t.infos;switch(t.region_type){case\"stcs\":n.addFootprints(l.footprintsFromSTCS(o.stcs,t.options));break;case\"circle\":n.add(l.circle(o.ra,o.dec,o.radius,t.options));break;case\"ellipse\":n.add(l.ellipse(o.ra,o.dec,o.a,o.b,o.theta,t.options));break;case\"line\":t.options.lineWidth=t.options.lineWidth||3,n.add(l.vector(o.ra1,o.dec1,o.ra2,o.dec2,t.options));break;case\"polygon\":n.add(l.polygon(o.vertices,t.options));break}}}handleChangeColormap(e){this.aladin.getBaseImageLayer().setColormap(e.colormap)}handleGetJPGThumbnail(){this.aladin.exportAsPNG()}handleTriggerRectangularSelection(){this.aladin.select()}handleAddTable(e,a){let i=h(e.options||{}),n=a[0].buffer,t=new TextDecoder(\"utf-8\"),o=new Blob([t.decode(n)]),d=URL.createObjectURL(o);l.catalogFromURL(d,Object.assign(i,{onClick:\"showTable\"}),r=>{this.aladin.addCatalog(r)},!1),URL.revokeObjectURL(d)}};var p=class{constructor(e,a,i){this.aladin=e,this.aladinDiv=a,this.model=i,this.messageHandler=new g(e,i)}isLastDiv(){let e=parseInt(this.aladinDiv.id.split(\"-\").pop());if(e===m)return!0;let a=m;for(let i=a;i>=0;i--){let n=document.getElementById(`aladin-lite-div-${i}`);if(n&&n.style.display!==\"none\"){a=i;break}}return u(a),e===a}updateWCS(){this.isLastDiv()&&this.model.set(\"_wcs\",this.aladin.getViewWCS())}update2AxisFoV(){if(!this.isLastDiv())return;let e=this.aladin.getFov();this.model.set(\"_fov_xy\",{x:e[0],y:e[1]})}subscribeAll(){let e=new c,a=new c;this.aladin.on(\"positionChanged\",t=>{if(a.locked){a.unlock();return}e.lock();let o=[t.ra,t.dec];this.updateWCS(),this.model.set(\"_target\",`${o[0]} ${o[1]}`),this.model.save_changes()}),this.model.on(\"change:_target\",()=>{if(e.locked){e.unlock();return}a.lock();let t=this.model.get(\"_target\"),[o,d]=t.split(\" \");this.aladin.gotoRaDec(o,d)});let i=new c,n=new c;this.aladin.on(\"zoomChanged\",t=>{if(n.locked){n.unlock();return}i.lock(),this.updateWCS(),this.update2AxisFoV(),this.model.set(\"_fov\",parseFloat(t.toFixed(5))),this.model.save_changes()}),this.model.on(\"change:_fov\",()=>{if(i.locked){i.unlock();return}n.lock();let t=this.model.get(\"_fov\");this.aladin.setFoV(t)}),this.model.on(\"change:_height\",()=>{let t=this.model.get(\"_height\");this.aladinDiv.style.height=`${t}px`,this.updateWCS(),this.update2AxisFoV(),this.model.save_changes()}),this.aladin.on(\"cooFrameChanged\",()=>{this.updateWCS(),this.model.save_changes()}),this.aladin.on(\"projectionChanged\",()=>{this.updateWCS(),this.model.save_changes()}),this.aladin.on(\"layerChanged\",(t,o,d)=>{o!==\"base\"||d!==\"ADDED\"||(this.updateWCS(),this.model.save_changes())}),this.aladin.on(\"resizeChanged\",()=>{this.updateWCS(),this.update2AxisFoV(),this.model.save_changes()}),this.aladin.on(\"objectHovered\",t=>{t.data!==void 0&&this.model.send({event_type:\"object_hovered\",content:{ra:t.ra,dec:t.dec}})}),this.aladin.on(\"objectClicked\",t=>{if(t){let o={ra:t.ra,dec:t.dec};t.data!==void 0&&(o.data=t.data),this.model.set(\"clicked_object\",o),this.model.send({event_type:\"object_clicked\",content:o}),this.model.save_changes()}}),this.aladin.on(\"click\",t=>{this.model.send({event_type:\"click\",content:t})}),this.aladin.on(\"select\",t=>{let o=[];t.forEach(d=>{d.forEach(r=>{o.push({ra:r.ra,dec:r.dec,data:r.data,x:r.x,y:r.y})})}),this.model.send({event_type:\"select\",content:o})}),this.model.on(\"change:coo_frame\",()=>{this.aladin.setFrame(this.model.get(\"coo_frame\"))}),this.model.on(\"change:survey\",()=>{this.aladin.setImageSurvey(this.model.get(\"survey\"))}),this.model.on(\"change:overlay_survey\",()=>{this.aladin.setOverlayImageLayer(this.model.get(\"overlay_survey\"))}),this.model.on(\"change:overlay_survey_opacity\",()=>{this.aladin.getOverlayImageLayer().setAlpha(this.model.get(\"overlay_survey_opacity\"))}),this.eventHandlers={change_fov:this.messageHandler.handleChangeFoV,goto_ra_dec:this.messageHandler.handleGotoRaDec,add_fits:this.messageHandler.handleAddFits,add_catalog_from_URL:this.messageHandler.handleAddCatalogFromURL,add_MOC_from_URL:this.messageHandler.handleAddMOCFromURL,add_MOC_from_dict:this.messageHandler.handleAddMOCFromDict,add_overlay:this.messageHandler.handleAddOverlay,change_colormap:this.messageHandler.handleChangeColormap,get_JPG_thumbnail:this.messageHandler.handleGetJPGThumbnail,trigger_rectangular_selection:this.messageHandler.handleTriggerRectangularSelection,add_table:this.messageHandler.handleAddTable},this.model.on(\"msg:custom\",(t,o)=>{let d=t.event_name,r=this.eventHandlers[d];if(r)r.call(this,t,o);else throw new Error(`Unknown event name: ${d}`)})}unsubscribeAll(){this.model.off(\"change:_target\"),this.model.off(\"change:_fov\"),this.model.off(\"change:_height\"),this.model.off(\"change:coo_frame\"),this.model.off(\"change:survey\"),this.model.off(\"change:overlay_survey\"),this.model.off(\"change:overlay_survey_opacity\"),this.model.off(\"change:trigger_event\"),this.model.off(\"msg:custom\")}};function C(s,e){u(m+1);let a={};s.get(\"init_options\").forEach(d=>{a[f(d)]=s.get(d)});let i=document.createElement(\"div\");i.classList.add(\"aladin-widget\"),i.style.height=`${a.height}px`,i.id=`aladin-lite-div-${m}`;let n=new l.aladin(i,a),t=a.target.split(\" \");n.gotoRaDec(t[0],t[1]);let o=n.getFov();return s.set(\"_fov_xy\",{x:o[0],y:o[1]}),s.set(\"_wcs\",n.getViewWCS()),s.save_changes(),e.appendChild(i),{aladin:n,aladinDiv:i}}async function b({model:s}){await l.init}function k({model:s,el:e}){let{aladin:a,aladinDiv:i}=C(s,e),n=new p(a,i,s);return n.subscribeAll(),()=>{n.unsubscribeAll()}}var j={initialize:b,render:k};export{j as default};\n//# sourceMappingURL=data:application/json;base64,ewogICJ2ZXJzaW9uIjogMywKICAic291cmNlcyI6IFsiLi4vLi4vLi4vanMvdXRpbHMuanMiLCAiLi4vLi4vLi4vanMvYWxhZGluX2xpdGUuanMiLCAiLi4vLi4vLi4vanMvbW9kZWxzL21lc3NhZ2VfaGFuZGxlci5qcyIsICIuLi8uLi8uLi9qcy9tb2RlbHMvZXZlbnRfaGFuZGxlci5qcyIsICIuLi8uLi8uLi9qcy93aWRnZXQuanMiXSwKICAic291cmNlc0NvbnRlbnQiOiBbIi8qKlxuICogQ29udmVydHMgYSBzdHJpbmcgZnJvbSBjYW1lbENhc2UgdG8gc25ha2VfY2FzZS5cbiAqIEBwYXJhbSB7c3RyaW5nfSBzbmFrZUNhc2VTdHIgLSBUaGUgc3RyaW5nIHRvIGNvbnZlcnQuXG4gKiBAcmV0dXJucyB7c3RyaW5nfSBUaGUgc3RyaW5nIGNvbnZlcnRlZCB0byBzbmFrZV9jYXNlLlxuICovXG5mdW5jdGlvbiBzbmFrZUNhc2VUb0NhbWVsQ2FzZShzbmFrZUNhc2VTdHIpIHtcbiAgaWYgKHNuYWtlQ2FzZVN0ci5jaGFyQXQoMCkgPT09IFwiX1wiKSBzbmFrZUNhc2VTdHIgPSBzbmFrZUNhc2VTdHIuc2xpY2UoMSk7XG4gIGxldCB0ZW1wID0gc25ha2VDYXNlU3RyLnNwbGl0KFwiX1wiKTtcbiAgZm9yIChsZXQgaSA9IDE7IGkgPCB0ZW1wLmxlbmd0aDsgaSsrKVxuICAgIHRlbXBbaV0gPSB0ZW1wW2ldLmNoYXJBdCgwKS50b1VwcGVyQ2FzZSgpICsgdGVtcFtpXS5zbGljZSgxKTtcbiAgcmV0dXJuIHRlbXAuam9pbihcIlwiKTtcbn1cblxuLyoqXG4gKiBDb252ZXJ0cyBvcHRpb24gbmFtZXMgaW4gYW4gb2JqZWN0IGZyb20gc25ha2VfY2FzZSB0byBjYW1lbENhc2UuXG4gKiBAcGFyYW0ge09iamVjdH0gb3B0aW9ucyAtIFRoZSBvcHRpb25zIG9iamVjdCB3aXRoIHNuYWtlX2Nhc2UgcHJvcGVydHkgbmFtZXMuXG4gKiBAcmV0dXJucyB7T2JqZWN0fSBBbiBvYmplY3Qgd2l0aCBwcm9wZXJ0eSBuYW1lcyBjb252ZXJ0ZWQgdG8gY2FtZWxDYXNlLlxuICovXG5mdW5jdGlvbiBjb252ZXJ0T3B0aW9uTmFtZXNUb0NhbWVsQ2FzZShvcHRpb25zKSB7XG4gIGNvbnN0IG5ld09wdGlvbnMgPSB7fTtcbiAgZm9yIChjb25zdCBvcHRpb25OYW1lIGluIG9wdGlvbnMpXG4gICAgbmV3T3B0aW9uc1tzbmFrZUNhc2VUb0NhbWVsQ2FzZShvcHRpb25OYW1lKV0gPSBvcHRpb25zW29wdGlvbk5hbWVdO1xuICByZXR1cm4gbmV3T3B0aW9ucztcbn1cblxuY2xhc3MgTG9jayB7XG4gIGxvY2tlZCA9IGZhbHNlO1xuXG4gIC8qKlxuICAgKiBVbmxvY2tzIHRoZSBvYmplY3RcbiAgICovXG4gIHVubG9jaygpIHtcbiAgICB0aGlzLmxvY2tlZCA9IGZhbHNlO1xuICB9XG5cbiAgLyoqXG4gICAqIExvY2tzIHRoZSBvYmplY3RcbiAgICovXG4gIGxvY2soKSB7XG4gICAgdGhpcy5sb2NrZWQgPSB0cnVlO1xuICB9XG59XG5cbmxldCBkaXZOdW1iZXIgPSAtMTtcbmZ1bmN0aW9uIHNldERpdk51bWJlcihudW0pIHtcbiAgZGl2TnVtYmVyID0gbnVtO1xufVxuXG5leHBvcnQge1xuICBzbmFrZUNhc2VUb0NhbWVsQ2FzZSxcbiAgY29udmVydE9wdGlvbk5hbWVzVG9DYW1lbENhc2UsXG4gIExvY2ssXG4gIGRpdk51bWJlcixcbiAgc2V0RGl2TnVtYmVyLFxufTtcbiIsICJpbXBvcnQgQSBmcm9tIFwiaHR0cHM6Ly9lc20uc2gvYWxhZGluLWxpdGVAMy40LjUtYmV0YVwiO1xuXG5leHBvcnQgZGVmYXVsdCBBO1xuIiwgImltcG9ydCB7IGNvbnZlcnRPcHRpb25OYW1lc1RvQ2FtZWxDYXNlIH0gZnJvbSBcIi4uL3V0aWxzXCI7XG5pbXBvcnQgQSBmcm9tIFwiLi4vYWxhZGluX2xpdGVcIjtcblxubGV0IGltYWdlQ291bnQgPSAwO1xuXG5leHBvcnQgZGVmYXVsdCBjbGFzcyBNZXNzYWdlSGFuZGxlciB7XG4gIGNvbnN0cnVjdG9yKGFsYWRpbiwgbW9kZWwpIHtcbiAgICB0aGlzLmFsYWRpbiA9IGFsYWRpbjtcbiAgICB0aGlzLm1vZGVsID0gbW9kZWw7XG4gIH1cblxuICBoYW5kbGVDaGFuZ2VGb1YobXNnKSB7XG4gICAgdGhpcy5hbGFkaW4uc2V0Rm9WKG1zZ1tcImZvdlwiXSk7XG4gIH1cblxuICBoYW5kbGVHb3RvUmFEZWMobXNnKSB7XG4gICAgdGhpcy5hbGFkaW4uZ290b1JhRGVjKG1zZ1tcInJhXCJdLCBtc2dbXCJkZWNcIl0pO1xuICB9XG5cbiAgaGFuZGxlQWRkRml0cyhtc2csIGJ1ZmZlcnMpIHtcbiAgICBjb25zdCBvcHRpb25zID0gY29udmVydE9wdGlvbk5hbWVzVG9DYW1lbENhc2UobXNnW1wib3B0aW9uc1wiXSB8fCB7fSk7XG4gICAgaWYgKCFvcHRpb25zLm5hbWUpXG4gICAgICBvcHRpb25zLm5hbWUgPSBgaW1hZ2VfJHtTdHJpbmcoKytpbWFnZUNvdW50KS5wYWRTdGFydCgzLCBcIjBcIil9YDtcbiAgICBjb25zdCBidWZmZXIgPSBidWZmZXJzWzBdO1xuICAgIGNvbnN0IGJsb2IgPSBuZXcgQmxvYihbYnVmZmVyXSwgeyB0eXBlOiBcImFwcGxpY2F0aW9uL29jdGV0LXN0cmVhbVwiIH0pO1xuICAgIGNvbnN0IHVybCA9IFVSTC5jcmVhdGVPYmplY3RVUkwoYmxvYik7XG4gICAgY29uc3QgaW1hZ2UgPSB0aGlzLmFsYWRpbi5jcmVhdGVJbWFnZUZJVFModXJsLCBvcHRpb25zLCAocmEsIGRlYykgPT4ge1xuICAgICAgdGhpcy5hbGFkaW4uZ290b1JhRGVjKHJhLCBkZWMpO1xuICAgICAgY29uc29sZS5pbmZvKGBGSVRTIGxvY2F0ZWQgYXQgcmE6ICR7cmF9LCBkZWM6ICR7ZGVjfWApO1xuICAgICAgVVJMLnJldm9rZU9iamVjdFVSTCh1cmwpO1xuICAgIH0pO1xuICAgIHRoaXMuYWxhZGluLnNldE92ZXJsYXlJbWFnZUxheWVyKGltYWdlLCBvcHRpb25zLm5hbWUpO1xuICB9XG5cbiAgaGFuZGxlQWRkQ2F0YWxvZ0Zyb21VUkwobXNnKSB7XG4gICAgY29uc3Qgb3B0aW9ucyA9IGNvbnZlcnRPcHRpb25OYW1lc1RvQ2FtZWxDYXNlKG1zZ1tcIm9wdGlvbnNcIl0gfHwge30pO1xuICAgIHRoaXMuYWxhZGluLmFkZENhdGFsb2coQS5jYXRhbG9nRnJvbVVSTChtc2dbXCJ2b3RhYmxlX1VSTFwiXSwgb3B0aW9ucykpO1xuICB9XG5cbiAgaGFuZGxlQWRkTU9DRnJvbVVSTChtc2cpIHtcbiAgICBjb25zdCBvcHRpb25zID0gY29udmVydE9wdGlvbk5hbWVzVG9DYW1lbENhc2UobXNnW1wib3B0aW9uc1wiXSB8fCB7fSk7XG4gICAgdGhpcy5hbGFkaW4uYWRkTU9DKEEuTU9DRnJvbVVSTChtc2dbXCJtb2NfVVJMXCJdLCBvcHRpb25zKSk7XG4gIH1cblxuICBoYW5kbGVBZGRNT0NGcm9tRGljdChtc2cpIHtcbiAgICBjb25zdCBvcHRpb25zID0gY29udmVydE9wdGlvbk5hbWVzVG9DYW1lbENhc2UobXNnW1wib3B0aW9uc1wiXSB8fCB7fSk7XG4gICAgdGhpcy5hbGFkaW4uYWRkTU9DKEEuTU9DRnJvbUpTT04obXNnW1wibW9jX2RpY3RcIl0sIG9wdGlvbnMpKTtcbiAgfVxuXG4gIGhhbmRsZUFkZE92ZXJsYXkobXNnKSB7XG4gICAgY29uc3QgcmVnaW9ucyA9IG1zZ1tcInJlZ2lvbnNfaW5mb3NcIl07XG4gICAgY29uc3QgZ3JhcGhpY19vcHRpb25zID0gY29udmVydE9wdGlvbk5hbWVzVG9DYW1lbENhc2UoXG4gICAgICBtc2dbXCJncmFwaGljX29wdGlvbnNcIl0gfHwge30sXG4gICAgKTtcbiAgICBpZiAoIWdyYXBoaWNfb3B0aW9uc1tcImNvbG9yXCJdKSBncmFwaGljX29wdGlvbnNbXCJjb2xvclwiXSA9IFwicmVkXCI7XG4gICAgY29uc3Qgb3ZlcmxheSA9IEEuZ3JhcGhpY092ZXJsYXkoZ3JhcGhpY19vcHRpb25zKTtcbiAgICB0aGlzLmFsYWRpbi5hZGRPdmVybGF5KG92ZXJsYXkpO1xuICAgIGZvciAoY29uc3QgcmVnaW9uIG9mIHJlZ2lvbnMpIHtcbiAgICAgIGNvbnN0IGluZm9zID0gcmVnaW9uW1wiaW5mb3NcIl07XG4gICAgICBzd2l0Y2ggKHJlZ2lvbltcInJlZ2lvbl90eXBlXCJdKSB7XG4gICAgICAgIGNhc2UgXCJzdGNzXCI6XG4gICAgICAgICAgb3ZlcmxheS5hZGRGb290cHJpbnRzKFxuICAgICAgICAgICAgQS5mb290cHJpbnRzRnJvbVNUQ1MoaW5mb3Muc3RjcywgcmVnaW9uLm9wdGlvbnMpLFxuICAgICAgICAgICk7XG4gICAgICAgICAgYnJlYWs7XG4gICAgICAgIGNhc2UgXCJjaXJjbGVcIjpcbiAgICAgICAgICBvdmVybGF5LmFkZChcbiAgICAgICAgICAgIEEuY2lyY2xlKGluZm9zLnJhLCBpbmZvcy5kZWMsIGluZm9zLnJhZGl1cywgcmVnaW9uLm9wdGlvbnMpLFxuICAgICAgICAgICk7XG4gICAgICAgICAgYnJlYWs7XG4gICAgICAgIGNhc2UgXCJlbGxpcHNlXCI6XG4gICAgICAgICAgb3ZlcmxheS5hZGQoXG4gICAgICAgICAgICBBLmVsbGlwc2UoXG4gICAgICAgICAgICAgIGluZm9zLnJhLFxuICAgICAgICAgICAgICBpbmZvcy5kZWMsXG4gICAgICAgICAgICAgIGluZm9zLmEsXG4gICAgICAgICAgICAgIGluZm9zLmIsXG4gICAgICAgICAgICAgIGluZm9zLnRoZXRhLFxuICAgICAgICAgICAgICByZWdpb24ub3B0aW9ucyxcbiAgICAgICAgICAgICksXG4gICAgICAgICAgKTtcbiAgICAgICAgICBicmVhaztcbiAgICAgICAgY2FzZSBcImxpbmVcIjpcbiAgICAgICAgICAvLyByZW1vdmUgZGVmYXVsdCBsaW5lV2lkdGggd2hlbiB3ZSBzd2l0Y2ggdG8gQUwgPiAzLjQuNFxuICAgICAgICAgIHJlZ2lvbi5vcHRpb25zLmxpbmVXaWR0aCA9IHJlZ2lvbi5vcHRpb25zLmxpbmVXaWR0aCB8fCAzO1xuICAgICAgICAgIG92ZXJsYXkuYWRkKFxuICAgICAgICAgICAgQS52ZWN0b3IoXG4gICAgICAgICAgICAgIGluZm9zLnJhMSxcbiAgICAgICAgICAgICAgaW5mb3MuZGVjMSxcbiAgICAgICAgICAgICAgaW5mb3MucmEyLFxuICAgICAgICAgICAgICBpbmZvcy5kZWMyLFxuICAgICAgICAgICAgICByZWdpb24ub3B0aW9ucyxcbiAgICAgICAgICAgICksXG4gICAgICAgICAgKTtcbiAgICAgICAgICBicmVhaztcbiAgICAgICAgY2FzZSBcInBvbHlnb25cIjpcbiAgICAgICAgICBvdmVybGF5LmFkZChBLnBvbHlnb24oaW5mb3MudmVydGljZXMsIHJlZ2lvbi5vcHRpb25zKSk7XG4gICAgICAgICAgYnJlYWs7XG4gICAgICB9XG4gICAgfVxuICB9XG5cbiAgaGFuZGxlQ2hhbmdlQ29sb3JtYXAobXNnKSB7XG4gICAgdGhpcy5hbGFkaW4uZ2V0QmFzZUltYWdlTGF5ZXIoKS5zZXRDb2xvcm1hcChtc2dbXCJjb2xvcm1hcFwiXSk7XG4gIH1cblxuICBoYW5kbGVHZXRKUEdUaHVtYm5haWwoKSB7XG4gICAgdGhpcy5hbGFkaW4uZXhwb3J0QXNQTkcoKTtcbiAgfVxuXG4gIGhhbmRsZVRyaWdnZXJSZWN0YW5ndWxhclNlbGVjdGlvbigpIHtcbiAgICB0aGlzLmFsYWRpbi5zZWxlY3QoKTtcbiAgfVxuXG4gIGhhbmRsZUFkZFRhYmxlKG1zZywgYnVmZmVycykge1xuICAgIGNvbnN0IG9wdGlvbnMgPSBjb252ZXJ0T3B0aW9uTmFtZXNUb0NhbWVsQ2FzZShtc2dbXCJvcHRpb25zXCJdIHx8IHt9KTtcbiAgICBjb25zdCBidWZmZXIgPSBidWZmZXJzWzBdLmJ1ZmZlcjtcbiAgICBjb25zdCBkZWNvZGVyID0gbmV3IFRleHREZWNvZGVyKFwidXRmLThcIik7XG4gICAgY29uc3QgYmxvYiA9IG5ldyBCbG9iKFtkZWNvZGVyLmRlY29kZShidWZmZXIpXSk7XG4gICAgY29uc3QgdXJsID0gVVJMLmNyZWF0ZU9iamVjdFVSTChibG9iKTtcbiAgICBBLmNhdGFsb2dGcm9tVVJMKFxuICAgICAgdXJsLFxuICAgICAgT2JqZWN0LmFzc2lnbihvcHRpb25zLCB7IG9uQ2xpY2s6IFwic2hvd1RhYmxlXCIgfSksXG4gICAgICAoY2F0YWxvZykgPT4ge1xuICAgICAgICB0aGlzLmFsYWRpbi5hZGRDYXRhbG9nKGNhdGFsb2cpO1xuICAgICAgfSxcbiAgICAgIGZhbHNlLFxuICAgICk7XG4gICAgVVJMLnJldm9rZU9iamVjdFVSTCh1cmwpO1xuICB9XG59XG4iLCAiaW1wb3J0IE1lc3NhZ2VIYW5kbGVyIGZyb20gXCIuL21lc3NhZ2VfaGFuZGxlclwiO1xuaW1wb3J0IHsgZGl2TnVtYmVyLCBzZXREaXZOdW1iZXIsIExvY2sgfSBmcm9tIFwiLi4vdXRpbHNcIjtcblxuZXhwb3J0IGRlZmF1bHQgY2xhc3MgRXZlbnRIYW5kbGVyIHtcbiAgLyoqXG4gICAqIENvbnN0cnVjdG9yIGZvciB0aGUgRXZlbnRIYW5kbGVyIGNsYXNzLlxuICAgKiBAcGFyYW0gYWxhZGluIFRoZSBBbGFkaW4gaW5zdGFuY2VcbiAgICogQHBhcmFtIGFsYWRpbkRpdiBUaGUgQWxhZGluIGRpdlxuICAgKiBAcGFyYW0gbW9kZWwgVGhlIG1vZGVsIGluc3RhbmNlXG4gICAqL1xuICBjb25zdHJ1Y3RvcihhbGFkaW4sIGFsYWRpbkRpdiwgbW9kZWwpIHtcbiAgICB0aGlzLmFsYWRpbiA9IGFsYWRpbjtcbiAgICB0aGlzLmFsYWRpbkRpdiA9IGFsYWRpbkRpdjtcbiAgICB0aGlzLm1vZGVsID0gbW9kZWw7XG4gICAgdGhpcy5tZXNzYWdlSGFuZGxlciA9IG5ldyBNZXNzYWdlSGFuZGxlcihhbGFkaW4sIG1vZGVsKTtcbiAgfVxuXG4gIC8qKlxuICAgKiBDaGVja3MgaWYgdGhlIGN1cnJlbnQgZGl2IGlzIHRoZSBsYXN0IGFjdGl2ZSBkaXYuXG4gICAqIEByZXR1cm5zIHtib29sZWFufVxuICAgKi9cbiAgaXNMYXN0RGl2KCkge1xuICAgIGxldCBjdXJyZW50RGl2TnVtYmVyID0gcGFyc2VJbnQodGhpcy5hbGFkaW5EaXYuaWQuc3BsaXQoXCItXCIpLnBvcCgpKVxuICAgIGlmIChjdXJyZW50RGl2TnVtYmVyID09PSBkaXZOdW1iZXIpe1xuICAgICAgcmV0dXJuIHRydWVcbiAgICB9O1xuICAgIGxldCBtYXhEaXYgPSBkaXZOdW1iZXI7XG4gICAgZm9yIChsZXQgaSA9IG1heERpdjsgaSA+PSAwOyBpLS0pIHtcbiAgICAgIGNvbnN0IGFsRGl2ID0gZG9jdW1lbnQuZ2V0RWxlbWVudEJ5SWQoYGFsYWRpbi1saXRlLWRpdi0ke2l9YCk7XG4gICAgICBpZiAoIWFsRGl2KSBjb250aW51ZTtcbiAgICAgIGlmIChhbERpdi5zdHlsZS5kaXNwbGF5ICE9PSBcIm5vbmVcIikge1xuICAgICAgICBtYXhEaXYgPSBpO1xuICAgICAgICBicmVhaztcbiAgICAgIH1cbiAgICB9XG4gICAgc2V0RGl2TnVtYmVyKG1heERpdik7XG4gICAgcmV0dXJuIGN1cnJlbnREaXZOdW1iZXIgPT09IG1heERpdjtcbiAgfVxuXG4gIC8qKlxuICAgKiBVcGRhdGVzIHRoZSBXQ1MgY29vcmRpbmF0ZXMgaW4gdGhlIG1vZGVsLlxuICAgKiBXQVJOSU5HOiBUaGlzIG1ldGhvZCBkb24ndCBjYWxsIG1vZGVsLnNhdmVfY2hhbmdlcygpIVxuICAgKi9cbiAgdXBkYXRlV0NTKCkge1xuICAgIGlmICghdGhpcy5pc0xhc3REaXYoKSkgcmV0dXJuO1xuICAgIHRoaXMubW9kZWwuc2V0KFwiX3djc1wiLCB0aGlzLmFsYWRpbi5nZXRWaWV3V0NTKCkpO1xuICB9XG5cbiAgLyoqXG4gICAqIFVwZGF0ZXMgdGhlIDItYXhpcyBGb1YgaW4gdGhlIG1vZGVsLlxuICAgKiBXQVJOSU5HOiBUaGlzIG1ldGhvZCBkb24ndCBjYWxsIG1vZGVsLnNhdmVfY2hhbmdlcygpIVxuICAgKi9cbiAgdXBkYXRlMkF4aXNGb1YoKSB7XG4gICAgaWYgKCF0aGlzLmlzTGFzdERpdigpKSByZXR1cm47XG4gICAgY29uc3QgdHdvQXhpc0ZvViA9IHRoaXMuYWxhZGluLmdldEZvdigpO1xuICAgIHRoaXMubW9kZWwuc2V0KFwiX2Zvdl94eVwiLCB7XG4gICAgICB4OiB0d29BeGlzRm9WWzBdLFxuICAgICAgeTogdHdvQXhpc0ZvVlsxXSxcbiAgICB9KTtcbiAgfVxuXG4gIC8qKlxuICAgKiBTdWJzY3JpYmVzIHRvIGFsbCB0aGUgZXZlbnRzIG5lZWRlZCBmb3IgdGhlIEFsYWRpbiBMaXRlIHdpZGdldC5cbiAgICovXG4gIHN1YnNjcmliZUFsbCgpIHtcbiAgICAvKiAtLS0tLS0tLS0tLS0tLS0tLS0tICovXG4gICAgLyogTGlzdGVuZXJzIC0tLS0tLS0tLSAqL1xuICAgIC8qIC0tLS0tLS0tLS0tLS0tLS0tLS0gKi9cblxuICAgIC8qIFBvc2l0aW9uIENvbnRyb2wgKi9cbiAgICAvLyB0aGVyZSBhcmUgdHdvIHdheXMgb2YgY2hhbmdpbmcgdGhlIHRhcmdldCwgb25lIGZyb20gdGhlIGphdmFzY3JpcHQgc2lkZSwgYW5kXG4gICAgLy8gb25lIGZyb20gdGhlIHB5dGhvbiBzaWRlLiBXZSBoYXZlIHRvIGluc3RhbnRpYXRlIHR3byBsaXN0ZW5lcnMgZm9yIHRoZXNlLCBidXRcbiAgICAvLyB0aGUgZ290b09iamVjdCBjYWxsIHNob3VsZCBvbmx5IGhhcHBlbiBvbmNlLiBUaGUgdHdvIGJvb2xlYW5zIHByZXZlbnQgdGhlIHR3b1xuICAgIC8vIGxpc3RlbmVycyBmcm9tIHRyaWdnZXJpbmcgZWFjaCBvdGhlciBhbmQgY3JlYXRpbmcgYSBidWdneSBsb29wLiBUaGUgc2FtZSB0cmlja1xuICAgIC8vIGlzIGFsc28gbmVjZXNzYXJ5IGZvciB0aGUgZmllbGQgb2Ygdmlldy5cblxuICAgIC8qIFRhcmdldCBjb250cm9sICovXG4gICAgY29uc3QganNUYXJnZXRMb2NrID0gbmV3IExvY2soKTtcbiAgICBjb25zdCBweVRhcmdldExvY2sgPSBuZXcgTG9jaygpO1xuXG4gICAgLy8gRXZlbnQgdHJpZ2dlcmVkIHdoZW4gdGhlIHVzZXIgbW92ZXMgdGhlIG1hcCBpbiBBbGFkaW4gTGl0ZVxuICAgIHRoaXMuYWxhZGluLm9uKFwicG9zaXRpb25DaGFuZ2VkXCIsIChwb3NpdGlvbikgPT4ge1xuICAgICAgaWYgKHB5VGFyZ2V0TG9jay5sb2NrZWQpIHtcbiAgICAgICAgcHlUYXJnZXRMb2NrLnVubG9jaygpO1xuICAgICAgICByZXR1cm47XG4gICAgICB9XG4gICAgICBqc1RhcmdldExvY2subG9jaygpO1xuICAgICAgY29uc3QgcmFEZWMgPSBbcG9zaXRpb24ucmEsIHBvc2l0aW9uLmRlY107XG4gICAgICB0aGlzLnVwZGF0ZVdDUygpO1xuICAgICAgdGhpcy5tb2RlbC5zZXQoXCJfdGFyZ2V0XCIsIGAke3JhRGVjWzBdfSAke3JhRGVjWzFdfWApO1xuICAgICAgdGhpcy5tb2RlbC5zYXZlX2NoYW5nZXMoKTtcbiAgICB9KTtcblxuICAgIHRoaXMubW9kZWwub24oXCJjaGFuZ2U6X3RhcmdldFwiLCAoKSA9PiB7XG4gICAgICBpZiAoanNUYXJnZXRMb2NrLmxvY2tlZCkge1xuICAgICAgICBqc1RhcmdldExvY2sudW5sb2NrKCk7XG4gICAgICAgIHJldHVybjtcbiAgICAgIH1cbiAgICAgIHB5VGFyZ2V0TG9jay5sb2NrKCk7XG4gICAgICBsZXQgdGFyZ2V0ID0gdGhpcy5tb2RlbC5nZXQoXCJfdGFyZ2V0XCIpO1xuICAgICAgY29uc3QgW3JhLCBkZWNdID0gdGFyZ2V0LnNwbGl0KFwiIFwiKTtcbiAgICAgIHRoaXMuYWxhZGluLmdvdG9SYURlYyhyYSwgZGVjKTtcbiAgICB9KTtcblxuICAgIC8qIEZpZWxkIG9mIFZpZXcgY29udHJvbCAqL1xuICAgIGNvbnN0IGpzRm92TG9jayA9IG5ldyBMb2NrKCk7XG4gICAgY29uc3QgcHlGb3ZMb2NrID0gbmV3IExvY2soKTtcblxuICAgIHRoaXMuYWxhZGluLm9uKFwiem9vbUNoYW5nZWRcIiwgKGZvdikgPT4ge1xuICAgICAgaWYgKHB5Rm92TG9jay5sb2NrZWQpIHtcbiAgICAgICAgcHlGb3ZMb2NrLnVubG9jaygpO1xuICAgICAgICByZXR1cm47XG4gICAgICB9XG4gICAgICBqc0ZvdkxvY2subG9jaygpO1xuICAgICAgLy8gZm92IE1VU1QgYmUgY2FzdCBpbnRvIGZsb2F0IGluIG9yZGVyIHRvIGJlIHNlbnQgdG8gdGhlIG1vZGVsXG4gICAgICB0aGlzLnVwZGF0ZVdDUygpO1xuICAgICAgdGhpcy51cGRhdGUyQXhpc0ZvVigpO1xuICAgICAgdGhpcy5tb2RlbC5zZXQoXCJfZm92XCIsIHBhcnNlRmxvYXQoZm92LnRvRml4ZWQoNSkpKTtcbiAgICAgIHRoaXMubW9kZWwuc2F2ZV9jaGFuZ2VzKCk7XG4gICAgfSk7XG5cbiAgICB0aGlzLm1vZGVsLm9uKFwiY2hhbmdlOl9mb3ZcIiwgKCkgPT4ge1xuICAgICAgaWYgKGpzRm92TG9jay5sb2NrZWQpIHtcbiAgICAgICAganNGb3ZMb2NrLnVubG9jaygpO1xuICAgICAgICByZXR1cm47XG4gICAgICB9XG4gICAgICBweUZvdkxvY2subG9jaygpO1xuICAgICAgbGV0IGZvdiA9IHRoaXMubW9kZWwuZ2V0KFwiX2ZvdlwiKTtcbiAgICAgIHRoaXMuYWxhZGluLnNldEZvVihmb3YpO1xuICAgIH0pO1xuXG4gICAgLyogRGl2IGNvbnRyb2wgKi9cbiAgICB0aGlzLm1vZGVsLm9uKFwiY2hhbmdlOl9oZWlnaHRcIiwgKCkgPT4ge1xuICAgICAgbGV0IGhlaWdodCA9IHRoaXMubW9kZWwuZ2V0KFwiX2hlaWdodFwiKTtcbiAgICAgIHRoaXMuYWxhZGluRGl2LnN0eWxlLmhlaWdodCA9IGAke2hlaWdodH1weGA7XG4gICAgICAvLyBVcGRhdGUgV0NTIGFuZCBGb1Ygb25seSBpZiB0aGlzIGlzIHRoZSBsYXN0IGRpdlxuICAgICAgdGhpcy51cGRhdGVXQ1MoKTtcbiAgICAgIHRoaXMudXBkYXRlMkF4aXNGb1YoKTtcbiAgICAgIHRoaXMubW9kZWwuc2F2ZV9jaGFuZ2VzKCk7XG4gICAgfSk7XG5cbiAgICAvKiBBbGFkaW4gY2FsbGJhY2tzICovXG5cbiAgICB0aGlzLmFsYWRpbi5vbihcImNvb0ZyYW1lQ2hhbmdlZFwiLCAoKSA9PiB7XG4gICAgICB0aGlzLnVwZGF0ZVdDUygpO1xuICAgICAgdGhpcy5tb2RlbC5zYXZlX2NoYW5nZXMoKTtcbiAgICB9KTtcblxuICAgIHRoaXMuYWxhZGluLm9uKFwicHJvamVjdGlvbkNoYW5nZWRcIiwgKCkgPT4ge1xuICAgICAgdGhpcy51cGRhdGVXQ1MoKTtcbiAgICAgIHRoaXMubW9kZWwuc2F2ZV9jaGFuZ2VzKCk7XG4gICAgfSk7XG5cbiAgICB0aGlzLmFsYWRpbi5vbihcImxheWVyQ2hhbmdlZFwiLCAoXywgbGF5ZXJOYW1lLCBzdGF0ZSkgPT4ge1xuICAgICAgaWYgKGxheWVyTmFtZSAhPT0gXCJiYXNlXCIgfHwgc3RhdGUgIT09IFwiQURERURcIikgcmV0dXJuO1xuICAgICAgdGhpcy51cGRhdGVXQ1MoKTtcbiAgICAgIHRoaXMubW9kZWwuc2F2ZV9jaGFuZ2VzKCk7XG4gICAgfSk7XG5cbiAgICB0aGlzLmFsYWRpbi5vbihcInJlc2l6ZUNoYW5nZWRcIiwgKCkgPT4ge1xuICAgICAgdGhpcy51cGRhdGVXQ1MoKTtcbiAgICAgIHRoaXMudXBkYXRlMkF4aXNGb1YoKTtcbiAgICAgIHRoaXMubW9kZWwuc2F2ZV9jaGFuZ2VzKCk7XG4gICAgfSk7XG5cbiAgICB0aGlzLmFsYWRpbi5vbihcIm9iamVjdEhvdmVyZWRcIiwgKG9iamVjdCkgPT4ge1xuICAgICAgaWYgKG9iamVjdFtcImRhdGFcIl0gIT09IHVuZGVmaW5lZCkge1xuICAgICAgICB0aGlzLm1vZGVsLnNlbmQoe1xuICAgICAgICAgIGV2ZW50X3R5cGU6IFwib2JqZWN0X2hvdmVyZWRcIixcbiAgICAgICAgICBjb250ZW50OiB7XG4gICAgICAgICAgICByYTogb2JqZWN0W1wicmFcIl0sXG4gICAgICAgICAgICBkZWM6IG9iamVjdFtcImRlY1wiXSxcbiAgICAgICAgICB9LFxuICAgICAgICB9KTtcbiAgICAgIH1cbiAgICB9KTtcblxuICAgIHRoaXMuYWxhZGluLm9uKFwib2JqZWN0Q2xpY2tlZFwiLCAoY2xpY2tlZCkgPT4ge1xuICAgICAgaWYgKGNsaWNrZWQpIHtcbiAgICAgICAgbGV0IGNsaWNrZWRDb250ZW50ID0ge1xuICAgICAgICAgIHJhOiBjbGlja2VkW1wicmFcIl0sXG4gICAgICAgICAgZGVjOiBjbGlja2VkW1wiZGVjXCJdLFxuICAgICAgICB9O1xuICAgICAgICBpZiAoY2xpY2tlZFtcImRhdGFcIl0gIT09IHVuZGVmaW5lZCkge1xuICAgICAgICAgIGNsaWNrZWRDb250ZW50W1wiZGF0YVwiXSA9IGNsaWNrZWRbXCJkYXRhXCJdO1xuICAgICAgICB9XG4gICAgICAgIHRoaXMubW9kZWwuc2V0KFwiY2xpY2tlZF9vYmplY3RcIiwgY2xpY2tlZENvbnRlbnQpO1xuICAgICAgICAvLyBzZW5kIGEgY3VzdG9tIG1lc3NhZ2UgaW4gY2FzZSB0aGUgdXNlciB3YW50cyB0byBkZWZpbmUgdGhlaXIgb3duIGNhbGxiYWNrc1xuICAgICAgICB0aGlzLm1vZGVsLnNlbmQoe1xuICAgICAgICAgIGV2ZW50X3R5cGU6IFwib2JqZWN0X2NsaWNrZWRcIixcbiAgICAgICAgICBjb250ZW50OiBjbGlja2VkQ29udGVudCxcbiAgICAgICAgfSk7XG4gICAgICAgIHRoaXMubW9kZWwuc2F2ZV9jaGFuZ2VzKCk7XG4gICAgICB9XG4gICAgfSk7XG5cbiAgICB0aGlzLmFsYWRpbi5vbihcImNsaWNrXCIsIChjbGlja0NvbnRlbnQpID0+IHtcbiAgICAgIHRoaXMubW9kZWwuc2VuZCh7XG4gICAgICAgIGV2ZW50X3R5cGU6IFwiY2xpY2tcIixcbiAgICAgICAgY29udGVudDogY2xpY2tDb250ZW50LFxuICAgICAgfSk7XG4gICAgfSk7XG5cbiAgICB0aGlzLmFsYWRpbi5vbihcInNlbGVjdFwiLCAoY2F0YWxvZ3MpID0+IHtcbiAgICAgIGxldCBvYmplY3RzRGF0YSA9IFtdO1xuICAgICAgLy8gVE9ETzogdGhpcyBmbGF0dGVucyB0aGUgc2VsZWN0aW9uLiBFYWNoIG9iamVjdCBmcm9tIGRpZmZlcmVudFxuICAgICAgLy8gY2F0YWxvZ3MgYXJlIGVudGVyZWQgaW4gdGhlIGFycmF5LiBUbyBjaGFuZ2UgdGhpcywgbWF5YmUgY2hhbmdlXG4gICAgICAvLyB1cHN0cmVhbSB3aGF0IGlzIHJldHVybmVkIHVwb24gc2VsZWN0aW9uP1xuICAgICAgY2F0YWxvZ3MuZm9yRWFjaCgoY2F0YWxvZykgPT4ge1xuICAgICAgICBjYXRhbG9nLmZvckVhY2goKG9iamVjdCkgPT4ge1xuICAgICAgICAgIG9iamVjdHNEYXRhLnB1c2goe1xuICAgICAgICAgICAgcmE6IG9iamVjdC5yYSxcbiAgICAgICAgICAgIGRlYzogb2JqZWN0LmRlYyxcbiAgICAgICAgICAgIGRhdGE6IG9iamVjdC5kYXRhLFxuICAgICAgICAgICAgeDogb2JqZWN0LngsXG4gICAgICAgICAgICB5OiBvYmplY3QueSxcbiAgICAgICAgICB9KTtcbiAgICAgICAgfSk7XG4gICAgICB9KTtcbiAgICAgIHRoaXMubW9kZWwuc2VuZCh7XG4gICAgICAgIGV2ZW50X3R5cGU6IFwic2VsZWN0XCIsXG4gICAgICAgIGNvbnRlbnQ6IG9iamVjdHNEYXRhLFxuICAgICAgfSk7XG4gICAgfSk7XG5cbiAgICAvKiBBbGFkaW4gZnVuY3Rpb25hbGl0aWVzICovXG5cbiAgICB0aGlzLm1vZGVsLm9uKFwiY2hhbmdlOmNvb19mcmFtZVwiLCAoKSA9PiB7XG4gICAgICB0aGlzLmFsYWRpbi5zZXRGcmFtZSh0aGlzLm1vZGVsLmdldChcImNvb19mcmFtZVwiKSk7XG4gICAgfSk7XG5cbiAgICB0aGlzLm1vZGVsLm9uKFwiY2hhbmdlOnN1cnZleVwiLCAoKSA9PiB7XG4gICAgICB0aGlzLmFsYWRpbi5zZXRJbWFnZVN1cnZleSh0aGlzLm1vZGVsLmdldChcInN1cnZleVwiKSk7XG4gICAgfSk7XG5cbiAgICB0aGlzLm1vZGVsLm9uKFwiY2hhbmdlOm92ZXJsYXlfc3VydmV5XCIsICgpID0+IHtcbiAgICAgIHRoaXMuYWxhZGluLnNldE92ZXJsYXlJbWFnZUxheWVyKHRoaXMubW9kZWwuZ2V0KFwib3ZlcmxheV9zdXJ2ZXlcIikpO1xuICAgIH0pO1xuXG4gICAgdGhpcy5tb2RlbC5vbihcImNoYW5nZTpvdmVybGF5X3N1cnZleV9vcGFjaXR5XCIsICgpID0+IHtcbiAgICAgIHRoaXMuYWxhZGluXG4gICAgICAgIC5nZXRPdmVybGF5SW1hZ2VMYXllcigpXG4gICAgICAgIC5zZXRBbHBoYSh0aGlzLm1vZGVsLmdldChcIm92ZXJsYXlfc3VydmV5X29wYWNpdHlcIikpO1xuICAgIH0pO1xuXG4gICAgdGhpcy5ldmVudEhhbmRsZXJzID0ge1xuICAgICAgY2hhbmdlX2ZvdjogdGhpcy5tZXNzYWdlSGFuZGxlci5oYW5kbGVDaGFuZ2VGb1YsXG4gICAgICBnb3RvX3JhX2RlYzogdGhpcy5tZXNzYWdlSGFuZGxlci5oYW5kbGVHb3RvUmFEZWMsXG4gICAgICBhZGRfZml0czogdGhpcy5tZXNzYWdlSGFuZGxlci5oYW5kbGVBZGRGaXRzLFxuICAgICAgYWRkX2NhdGFsb2dfZnJvbV9VUkw6IHRoaXMubWVzc2FnZUhhbmRsZXIuaGFuZGxlQWRkQ2F0YWxvZ0Zyb21VUkwsXG4gICAgICBhZGRfTU9DX2Zyb21fVVJMOiB0aGlzLm1lc3NhZ2VIYW5kbGVyLmhhbmRsZUFkZE1PQ0Zyb21VUkwsXG4gICAgICBhZGRfTU9DX2Zyb21fZGljdDogdGhpcy5tZXNzYWdlSGFuZGxlci5oYW5kbGVBZGRNT0NGcm9tRGljdCxcbiAgICAgIGFkZF9vdmVybGF5OiB0aGlzLm1lc3NhZ2VIYW5kbGVyLmhhbmRsZUFkZE92ZXJsYXksXG4gICAgICBjaGFuZ2VfY29sb3JtYXA6IHRoaXMubWVzc2FnZUhhbmRsZXIuaGFuZGxlQ2hhbmdlQ29sb3JtYXAsXG4gICAgICBnZXRfSlBHX3RodW1ibmFpbDogdGhpcy5tZXNzYWdlSGFuZGxlci5oYW5kbGVHZXRKUEdUaHVtYm5haWwsXG4gICAgICB0cmlnZ2VyX3JlY3Rhbmd1bGFyX3NlbGVjdGlvbjpcbiAgICAgICAgdGhpcy5tZXNzYWdlSGFuZGxlci5oYW5kbGVUcmlnZ2VyUmVjdGFuZ3VsYXJTZWxlY3Rpb24sXG4gICAgICBhZGRfdGFibGU6IHRoaXMubWVzc2FnZUhhbmRsZXIuaGFuZGxlQWRkVGFibGUsXG4gICAgfTtcblxuICAgIHRoaXMubW9kZWwub24oXCJtc2c6Y3VzdG9tXCIsIChtc2csIGJ1ZmZlcnMpID0+IHtcbiAgICAgIGNvbnN0IGV2ZW50TmFtZSA9IG1zZ1tcImV2ZW50X25hbWVcIl07XG4gICAgICBjb25zdCBoYW5kbGVyID0gdGhpcy5ldmVudEhhbmRsZXJzW2V2ZW50TmFtZV07XG4gICAgICBpZiAoaGFuZGxlcikgaGFuZGxlci5jYWxsKHRoaXMsIG1zZywgYnVmZmVycyk7XG4gICAgICBlbHNlIHRocm93IG5ldyBFcnJvcihgVW5rbm93biBldmVudCBuYW1lOiAke2V2ZW50TmFtZX1gKTtcbiAgICB9KTtcbiAgfVxuXG4gIC8qKlxuICAgKiBVbnN1YnNjcmliZSBmcm9tIGFsbCB0aGUgbW9kZWwgZXZlbnRzLlxuICAgKiBUaGVyZSBpcyBubyBuZWVkIHRvIHVuc3Vic2NyaWJlIGZyb20gdGhlIEFsYWRpbiBMaXRlIGV2ZW50cy5cbiAgICovXG4gIHVuc3Vic2NyaWJlQWxsKCkge1xuICAgIHRoaXMubW9kZWwub2ZmKFwiY2hhbmdlOl90YXJnZXRcIik7XG4gICAgdGhpcy5tb2RlbC5vZmYoXCJjaGFuZ2U6X2ZvdlwiKTtcbiAgICB0aGlzLm1vZGVsLm9mZihcImNoYW5nZTpfaGVpZ2h0XCIpO1xuICAgIHRoaXMubW9kZWwub2ZmKFwiY2hhbmdlOmNvb19mcmFtZVwiKTtcbiAgICB0aGlzLm1vZGVsLm9mZihcImNoYW5nZTpzdXJ2ZXlcIik7XG4gICAgdGhpcy5tb2RlbC5vZmYoXCJjaGFuZ2U6b3ZlcmxheV9zdXJ2ZXlcIik7XG4gICAgdGhpcy5tb2RlbC5vZmYoXCJjaGFuZ2U6b3ZlcmxheV9zdXJ2ZXlfb3BhY2l0eVwiKTtcbiAgICB0aGlzLm1vZGVsLm9mZihcImNoYW5nZTp0cmlnZ2VyX2V2ZW50XCIpO1xuICAgIHRoaXMubW9kZWwub2ZmKFwibXNnOmN1c3RvbVwiKTtcbiAgfVxufVxuIiwgImltcG9ydCBcIi4vd2lkZ2V0LmNzc1wiO1xuaW1wb3J0IEV2ZW50SGFuZGxlciBmcm9tIFwiLi9tb2RlbHMvZXZlbnRfaGFuZGxlclwiO1xuaW1wb3J0IHtcbiAgZGl2TnVtYmVyLFxuICBzZXREaXZOdW1iZXIsXG4gIHNuYWtlQ2FzZVRvQ2FtZWxDYXNlLFxufSBmcm9tIFwiLi91dGlsc1wiO1xuaW1wb3J0IEEgZnJvbSBcIi4vYWxhZGluX2xpdGVcIjtcblxuZnVuY3Rpb24gaW5pdEFsYWRpbkxpdGUobW9kZWwsIGVsKSB7XG4gIHNldERpdk51bWJlcihkaXZOdW1iZXIgKyAxKTtcbiAgbGV0IGluaXRPcHRpb25zID0ge307XG4gIG1vZGVsLmdldChcImluaXRfb3B0aW9uc1wiKS5mb3JFYWNoKChvcHRpb25fbmFtZSkgPT4ge1xuICAgIGluaXRPcHRpb25zW3NuYWtlQ2FzZVRvQ2FtZWxDYXNlKG9wdGlvbl9uYW1lKV0gPSBtb2RlbC5nZXQob3B0aW9uX25hbWUpO1xuICB9KTtcblxuICBsZXQgYWxhZGluRGl2ID0gZG9jdW1lbnQuY3JlYXRlRWxlbWVudChcImRpdlwiKTtcbiAgYWxhZGluRGl2LmNsYXNzTGlzdC5hZGQoXCJhbGFkaW4td2lkZ2V0XCIpO1xuICBhbGFkaW5EaXYuc3R5bGUuaGVpZ2h0ID0gYCR7aW5pdE9wdGlvbnNbXCJoZWlnaHRcIl19cHhgO1xuXG4gIGFsYWRpbkRpdi5pZCA9IGBhbGFkaW4tbGl0ZS1kaXYtJHtkaXZOdW1iZXJ9YDtcbiAgbGV0IGFsYWRpbiA9IG5ldyBBLmFsYWRpbihhbGFkaW5EaXYsIGluaXRPcHRpb25zKTtcblxuICAvLyBTZXQgdGhlIHRhcmdldCBhZ2FpbiBhZnRlciB0aGUgaW5pdGlhbGl6YXRpb24gdG8gYmUgc3VyZSB0aGF0IHRoZSB0YXJnZXQgaXMgc2V0XG4gIC8vIGZyb20gaWNycyBjb29yZGluYXRlcyBiZWNhdXNlIG9mIHRoZSB1c2Ugb2YgZ290b09iamVjdCBpbiB0aGUgQWxhZGluIExpdGUgQVBJXG4gIGNvbnN0IHJhRGVjID0gaW5pdE9wdGlvbnNbXCJ0YXJnZXRcIl0uc3BsaXQoXCIgXCIpO1xuICBhbGFkaW4uZ290b1JhRGVjKHJhRGVjWzBdLCByYURlY1sxXSk7XG5cbiAgLy8gU2V0IGN1cnJlbnQgRm9WIGFuZCBXQ1NcbiAgY29uc3QgdHdvQXhpc0ZvViA9IGFsYWRpbi5nZXRGb3YoKTtcbiAgbW9kZWwuc2V0KFwiX2Zvdl94eVwiLCB7XG4gICAgeDogdHdvQXhpc0ZvVlswXSxcbiAgICB5OiB0d29BeGlzRm9WWzFdLFxuICB9KTtcbiAgbW9kZWwuc2V0KFwiX3djc1wiLCBhbGFkaW4uZ2V0Vmlld1dDUygpKTtcbiAgbW9kZWwuc2F2ZV9jaGFuZ2VzKCk7XG5cbiAgZWwuYXBwZW5kQ2hpbGQoYWxhZGluRGl2KTtcbiAgcmV0dXJuIHsgYWxhZGluLCBhbGFkaW5EaXYgfTtcbn1cblxuYXN5bmMgZnVuY3Rpb24gaW5pdGlhbGl6ZSh7IG1vZGVsIH0pIHtcbiAgYXdhaXQgQS5pbml0O1xufVxuXG5mdW5jdGlvbiByZW5kZXIoeyBtb2RlbCwgZWwgfSkge1xuICAvKiAtLS0tLS0tLS0tLS0tLS0tLS0tICovXG4gIC8qIFZpZXcgLS0tLS0tLS0tLS0tLS0gKi9cbiAgLyogLS0tLS0tLS0tLS0tLS0tLS0tLSAqL1xuXG4gIGNvbnN0IHsgYWxhZGluLCBhbGFkaW5EaXYgfSA9IGluaXRBbGFkaW5MaXRlKG1vZGVsLCBlbCk7XG5cbiAgY29uc3QgZXZlbnRIYW5kbGVyID0gbmV3IEV2ZW50SGFuZGxlcihhbGFkaW4sIGFsYWRpbkRpdiwgbW9kZWwpO1xuICBldmVudEhhbmRsZXIuc3Vic2NyaWJlQWxsKCk7XG5cbiAgcmV0dXJuICgpID0+IHtcbiAgICAvLyBOZWVkIHRvIHVuc3Vic2NyaWJlIHRoZSBsaXN0ZW5lcnNcbiAgICBldmVudEhhbmRsZXIudW5zdWJzY3JpYmVBbGwoKTtcbiAgfTtcbn1cblxuZXhwb3J0IGRlZmF1bHQgeyBpbml0aWFsaXplLCByZW5kZXIgfTtcbiJdLAogICJtYXBwaW5ncyI6ICJBQUtBLFNBQVNBLEVBQXFCQyxFQUFjLENBQ3RDQSxFQUFhLE9BQU8sQ0FBQyxJQUFNLE1BQUtBLEVBQWVBLEVBQWEsTUFBTSxDQUFDLEdBQ3ZFLElBQUlDLEVBQU9ELEVBQWEsTUFBTSxHQUFHLEVBQ2pDLFFBQVNFLEVBQUksRUFBR0EsRUFBSUQsRUFBSyxPQUFRQyxJQUMvQkQsRUFBS0MsQ0FBQyxFQUFJRCxFQUFLQyxDQUFDLEVBQUUsT0FBTyxDQUFDLEVBQUUsWUFBWSxFQUFJRCxFQUFLQyxDQUFDLEVBQUUsTUFBTSxDQUFDLEVBQzdELE9BQU9ELEVBQUssS0FBSyxFQUFFLENBQ3JCLENBT0EsU0FBU0UsRUFBOEJDLEVBQVMsQ0FDOUMsSUFBTUMsRUFBYSxDQUFDLEVBQ3BCLFFBQVdDLEtBQWNGLEVBQ3ZCQyxFQUFXTixFQUFxQk8sQ0FBVSxDQUFDLEVBQUlGLEVBQVFFLENBQVUsRUFDbkUsT0FBT0QsQ0FDVCxDQUVBLElBQU1FLEVBQU4sS0FBVyxDQUNULE9BQVMsR0FLVCxRQUFTLENBQ1AsS0FBSyxPQUFTLEVBQ2hCLENBS0EsTUFBTyxDQUNMLEtBQUssT0FBUyxFQUNoQixDQUNGLEVBRUlDLEVBQVksR0FDaEIsU0FBU0MsRUFBYUMsRUFBSyxDQUN6QkYsRUFBWUUsQ0FDZCxDQzlDQSxPQUFPQyxNQUFPLHdDQUVkLElBQU9DLEVBQVFELEVDQ2YsSUFBSUUsRUFBYSxFQUVJQyxFQUFyQixLQUFvQyxDQUNsQyxZQUFZQyxFQUFRQyxFQUFPLENBQ3pCLEtBQUssT0FBU0QsRUFDZCxLQUFLLE1BQVFDLENBQ2YsQ0FFQSxnQkFBZ0JDLEVBQUssQ0FDbkIsS0FBSyxPQUFPLE9BQU9BLEVBQUksR0FBTSxDQUMvQixDQUVBLGdCQUFnQkEsRUFBSyxDQUNuQixLQUFLLE9BQU8sVUFBVUEsRUFBSSxHQUFPQSxFQUFJLEdBQU0sQ0FDN0MsQ0FFQSxjQUFjQSxFQUFLQyxFQUFTLENBQzFCLElBQU1DLEVBQVVDLEVBQThCSCxFQUFJLFNBQWMsQ0FBQyxDQUFDLEVBQzdERSxFQUFRLE9BQ1hBLEVBQVEsS0FBTyxTQUFTLE9BQU8sRUFBRU4sQ0FBVSxFQUFFLFNBQVMsRUFBRyxHQUFHLENBQUMsSUFDL0QsSUFBTVEsRUFBU0gsRUFBUSxDQUFDLEVBQ2xCSSxFQUFPLElBQUksS0FBSyxDQUFDRCxDQUFNLEVBQUcsQ0FBRSxLQUFNLDBCQUEyQixDQUFDLEVBQzlERSxFQUFNLElBQUksZ0JBQWdCRCxDQUFJLEVBQzlCRSxFQUFRLEtBQUssT0FBTyxnQkFBZ0JELEVBQUtKLEVBQVMsQ0FBQ00sRUFBSUMsSUFBUSxDQUNuRSxLQUFLLE9BQU8sVUFBVUQsRUFBSUMsQ0FBRyxFQUM3QixRQUFRLEtBQUssdUJBQXVCRCxDQUFFLFVBQVVDLENBQUcsRUFBRSxFQUNyRCxJQUFJLGdCQUFnQkgsQ0FBRyxDQUN6QixDQUFDLEVBQ0QsS0FBSyxPQUFPLHFCQUFxQkMsRUFBT0wsRUFBUSxJQUFJLENBQ3RELENBRUEsd0JBQXdCRixFQUFLLENBQzNCLElBQU1FLEVBQVVDLEVBQThCSCxFQUFJLFNBQWMsQ0FBQyxDQUFDLEVBQ2xFLEtBQUssT0FBTyxXQUFXVSxFQUFFLGVBQWVWLEVBQUksWUFBZ0JFLENBQU8sQ0FBQyxDQUN0RSxDQUVBLG9CQUFvQkYsRUFBSyxDQUN2QixJQUFNRSxFQUFVQyxFQUE4QkgsRUFBSSxTQUFjLENBQUMsQ0FBQyxFQUNsRSxLQUFLLE9BQU8sT0FBT1UsRUFBRSxXQUFXVixFQUFJLFFBQVlFLENBQU8sQ0FBQyxDQUMxRCxDQUVBLHFCQUFxQkYsRUFBSyxDQUN4QixJQUFNRSxFQUFVQyxFQUE4QkgsRUFBSSxTQUFjLENBQUMsQ0FBQyxFQUNsRSxLQUFLLE9BQU8sT0FBT1UsRUFBRSxZQUFZVixFQUFJLFNBQWFFLENBQU8sQ0FBQyxDQUM1RCxDQUVBLGlCQUFpQkYsRUFBSyxDQUNwQixJQUFNVyxFQUFVWCxFQUFJLGNBQ2RZLEVBQWtCVCxFQUN0QkgsRUFBSSxpQkFBc0IsQ0FBQyxDQUM3QixFQUNLWSxFQUFnQixRQUFVQSxFQUFnQixNQUFXLE9BQzFELElBQU1DLEVBQVVILEVBQUUsZUFBZUUsQ0FBZSxFQUNoRCxLQUFLLE9BQU8sV0FBV0MsQ0FBTyxFQUM5QixRQUFXQyxLQUFVSCxFQUFTLENBQzVCLElBQU1JLEVBQVFELEVBQU8sTUFDckIsT0FBUUEsRUFBTyxZQUFnQixDQUM3QixJQUFLLE9BQ0hELEVBQVEsY0FDTkgsRUFBRSxtQkFBbUJLLEVBQU0sS0FBTUQsRUFBTyxPQUFPLENBQ2pELEVBQ0EsTUFDRixJQUFLLFNBQ0hELEVBQVEsSUFDTkgsRUFBRSxPQUFPSyxFQUFNLEdBQUlBLEVBQU0sSUFBS0EsRUFBTSxPQUFRRCxFQUFPLE9BQU8sQ0FDNUQsRUFDQSxNQUNGLElBQUssVUFDSEQsRUFBUSxJQUNOSCxFQUFFLFFBQ0FLLEVBQU0sR0FDTkEsRUFBTSxJQUNOQSxFQUFNLEVBQ05BLEVBQU0sRUFDTkEsRUFBTSxNQUNORCxFQUFPLE9BQ1QsQ0FDRixFQUNBLE1BQ0YsSUFBSyxPQUVIQSxFQUFPLFFBQVEsVUFBWUEsRUFBTyxRQUFRLFdBQWEsRUFDdkRELEVBQVEsSUFDTkgsRUFBRSxPQUNBSyxFQUFNLElBQ05BLEVBQU0sS0FDTkEsRUFBTSxJQUNOQSxFQUFNLEtBQ05ELEVBQU8sT0FDVCxDQUNGLEVBQ0EsTUFDRixJQUFLLFVBQ0hELEVBQVEsSUFBSUgsRUFBRSxRQUFRSyxFQUFNLFNBQVVELEVBQU8sT0FBTyxDQUFDLEVBQ3JELEtBQ0osQ0FDRixDQUNGLENBRUEscUJBQXFCZCxFQUFLLENBQ3hCLEtBQUssT0FBTyxrQkFBa0IsRUFBRSxZQUFZQSxFQUFJLFFBQVcsQ0FDN0QsQ0FFQSx1QkFBd0IsQ0FDdEIsS0FBSyxPQUFPLFlBQVksQ0FDMUIsQ0FFQSxtQ0FBb0MsQ0FDbEMsS0FBSyxPQUFPLE9BQU8sQ0FDckIsQ0FFQSxlQUFlQSxFQUFLQyxFQUFTLENBQzNCLElBQU1DLEVBQVVDLEVBQThCSCxFQUFJLFNBQWMsQ0FBQyxDQUFDLEVBQzVESSxFQUFTSCxFQUFRLENBQUMsRUFBRSxPQUNwQmUsRUFBVSxJQUFJLFlBQVksT0FBTyxFQUNqQ1gsRUFBTyxJQUFJLEtBQUssQ0FBQ1csRUFBUSxPQUFPWixDQUFNLENBQUMsQ0FBQyxFQUN4Q0UsRUFBTSxJQUFJLGdCQUFnQkQsQ0FBSSxFQUNwQ0ssRUFBRSxlQUNBSixFQUNBLE9BQU8sT0FBT0osRUFBUyxDQUFFLFFBQVMsV0FBWSxDQUFDLEVBQzlDZSxHQUFZLENBQ1gsS0FBSyxPQUFPLFdBQVdBLENBQU8sQ0FDaEMsRUFDQSxFQUNGLEVBQ0EsSUFBSSxnQkFBZ0JYLENBQUcsQ0FDekIsQ0FDRixFQy9IQSxJQUFxQlksRUFBckIsS0FBa0MsQ0FPaEMsWUFBWUMsRUFBUUMsRUFBV0MsRUFBTyxDQUNwQyxLQUFLLE9BQVNGLEVBQ2QsS0FBSyxVQUFZQyxFQUNqQixLQUFLLE1BQVFDLEVBQ2IsS0FBSyxlQUFpQixJQUFJQyxFQUFlSCxFQUFRRSxDQUFLLENBQ3hELENBTUEsV0FBWSxDQUNWLElBQUlFLEVBQW1CLFNBQVMsS0FBSyxVQUFVLEdBQUcsTUFBTSxHQUFHLEVBQUUsSUFBSSxDQUFDLEVBQ2xFLEdBQUlBLElBQXFCQyxFQUN2QixNQUFPLEdBRVQsSUFBSUMsRUFBU0QsRUFDYixRQUFTLEVBQUlDLEVBQVEsR0FBSyxFQUFHLElBQUssQ0FDaEMsSUFBTUMsRUFBUSxTQUFTLGVBQWUsbUJBQW1CLENBQUMsRUFBRSxFQUM1RCxHQUFLQSxHQUNEQSxFQUFNLE1BQU0sVUFBWSxPQUFRLENBQ2xDRCxFQUFTLEVBQ1QsS0FDRixDQUNGLENBQ0EsT0FBQUUsRUFBYUYsQ0FBTSxFQUNaRixJQUFxQkUsQ0FDOUIsQ0FNQSxXQUFZLENBQ0wsS0FBSyxVQUFVLEdBQ3BCLEtBQUssTUFBTSxJQUFJLE9BQVEsS0FBSyxPQUFPLFdBQVcsQ0FBQyxDQUNqRCxDQU1BLGdCQUFpQixDQUNmLEdBQUksQ0FBQyxLQUFLLFVBQVUsRUFBRyxPQUN2QixJQUFNRyxFQUFhLEtBQUssT0FBTyxPQUFPLEVBQ3RDLEtBQUssTUFBTSxJQUFJLFVBQVcsQ0FDeEIsRUFBR0EsRUFBVyxDQUFDLEVBQ2YsRUFBR0EsRUFBVyxDQUFDLENBQ2pCLENBQUMsQ0FDSCxDQUtBLGNBQWUsQ0FhYixJQUFNQyxFQUFlLElBQUlDLEVBQ25CQyxFQUFlLElBQUlELEVBR3pCLEtBQUssT0FBTyxHQUFHLGtCQUFvQkUsR0FBYSxDQUM5QyxHQUFJRCxFQUFhLE9BQVEsQ0FDdkJBLEVBQWEsT0FBTyxFQUNwQixNQUNGLENBQ0FGLEVBQWEsS0FBSyxFQUNsQixJQUFNSSxFQUFRLENBQUNELEVBQVMsR0FBSUEsRUFBUyxHQUFHLEVBQ3hDLEtBQUssVUFBVSxFQUNmLEtBQUssTUFBTSxJQUFJLFVBQVcsR0FBR0MsRUFBTSxDQUFDLENBQUMsSUFBSUEsRUFBTSxDQUFDLENBQUMsRUFBRSxFQUNuRCxLQUFLLE1BQU0sYUFBYSxDQUMxQixDQUFDLEVBRUQsS0FBSyxNQUFNLEdBQUcsaUJBQWtCLElBQU0sQ0FDcEMsR0FBSUosRUFBYSxPQUFRLENBQ3ZCQSxFQUFhLE9BQU8sRUFDcEIsTUFDRixDQUNBRSxFQUFhLEtBQUssRUFDbEIsSUFBSUcsRUFBUyxLQUFLLE1BQU0sSUFBSSxTQUFTLEVBQy9CLENBQUNDLEVBQUlDLENBQUcsRUFBSUYsRUFBTyxNQUFNLEdBQUcsRUFDbEMsS0FBSyxPQUFPLFVBQVVDLEVBQUlDLENBQUcsQ0FDL0IsQ0FBQyxFQUdELElBQU1DLEVBQVksSUFBSVAsRUFDaEJRLEVBQVksSUFBSVIsRUFFdEIsS0FBSyxPQUFPLEdBQUcsY0FBZ0JTLEdBQVEsQ0FDckMsR0FBSUQsRUFBVSxPQUFRLENBQ3BCQSxFQUFVLE9BQU8sRUFDakIsTUFDRixDQUNBRCxFQUFVLEtBQUssRUFFZixLQUFLLFVBQVUsRUFDZixLQUFLLGVBQWUsRUFDcEIsS0FBSyxNQUFNLElBQUksT0FBUSxXQUFXRSxFQUFJLFFBQVEsQ0FBQyxDQUFDLENBQUMsRUFDakQsS0FBSyxNQUFNLGFBQWEsQ0FDMUIsQ0FBQyxFQUVELEtBQUssTUFBTSxHQUFHLGNBQWUsSUFBTSxDQUNqQyxHQUFJRixFQUFVLE9BQVEsQ0FDcEJBLEVBQVUsT0FBTyxFQUNqQixNQUNGLENBQ0FDLEVBQVUsS0FBSyxFQUNmLElBQUlDLEVBQU0sS0FBSyxNQUFNLElBQUksTUFBTSxFQUMvQixLQUFLLE9BQU8sT0FBT0EsQ0FBRyxDQUN4QixDQUFDLEVBR0QsS0FBSyxNQUFNLEdBQUcsaUJBQWtCLElBQU0sQ0FDcEMsSUFBSUMsRUFBUyxLQUFLLE1BQU0sSUFBSSxTQUFTLEVBQ3JDLEtBQUssVUFBVSxNQUFNLE9BQVMsR0FBR0EsQ0FBTSxLQUV2QyxLQUFLLFVBQVUsRUFDZixLQUFLLGVBQWUsRUFDcEIsS0FBSyxNQUFNLGFBQWEsQ0FDMUIsQ0FBQyxFQUlELEtBQUssT0FBTyxHQUFHLGtCQUFtQixJQUFNLENBQ3RDLEtBQUssVUFBVSxFQUNmLEtBQUssTUFBTSxhQUFhLENBQzFCLENBQUMsRUFFRCxLQUFLLE9BQU8sR0FBRyxvQkFBcUIsSUFBTSxDQUN4QyxLQUFLLFVBQVUsRUFDZixLQUFLLE1BQU0sYUFBYSxDQUMxQixDQUFDLEVBRUQsS0FBSyxPQUFPLEdBQUcsZUFBZ0IsQ0FBQ0MsRUFBR0MsRUFBV0MsSUFBVSxDQUNsREQsSUFBYyxRQUFVQyxJQUFVLFVBQ3RDLEtBQUssVUFBVSxFQUNmLEtBQUssTUFBTSxhQUFhLEVBQzFCLENBQUMsRUFFRCxLQUFLLE9BQU8sR0FBRyxnQkFBaUIsSUFBTSxDQUNwQyxLQUFLLFVBQVUsRUFDZixLQUFLLGVBQWUsRUFDcEIsS0FBSyxNQUFNLGFBQWEsQ0FDMUIsQ0FBQyxFQUVELEtBQUssT0FBTyxHQUFHLGdCQUFrQkMsR0FBVyxDQUN0Q0EsRUFBTyxPQUFZLFFBQ3JCLEtBQUssTUFBTSxLQUFLLENBQ2QsV0FBWSxpQkFDWixRQUFTLENBQ1AsR0FBSUEsRUFBTyxHQUNYLElBQUtBLEVBQU8sR0FDZCxDQUNGLENBQUMsQ0FFTCxDQUFDLEVBRUQsS0FBSyxPQUFPLEdBQUcsZ0JBQWtCQyxHQUFZLENBQzNDLEdBQUlBLEVBQVMsQ0FDWCxJQUFJQyxFQUFpQixDQUNuQixHQUFJRCxFQUFRLEdBQ1osSUFBS0EsRUFBUSxHQUNmLEVBQ0lBLEVBQVEsT0FBWSxTQUN0QkMsRUFBZSxLQUFVRCxFQUFRLE1BRW5DLEtBQUssTUFBTSxJQUFJLGlCQUFrQkMsQ0FBYyxFQUUvQyxLQUFLLE1BQU0sS0FBSyxDQUNkLFdBQVksaUJBQ1osUUFBU0EsQ0FDWCxDQUFDLEVBQ0QsS0FBSyxNQUFNLGFBQWEsQ0FDMUIsQ0FDRixDQUFDLEVBRUQsS0FBSyxPQUFPLEdBQUcsUUFBVUMsR0FBaUIsQ0FDeEMsS0FBSyxNQUFNLEtBQUssQ0FDZCxXQUFZLFFBQ1osUUFBU0EsQ0FDWCxDQUFDLENBQ0gsQ0FBQyxFQUVELEtBQUssT0FBTyxHQUFHLFNBQVdDLEdBQWEsQ0FDckMsSUFBSUMsRUFBYyxDQUFDLEVBSW5CRCxFQUFTLFFBQVNFLEdBQVksQ0FDNUJBLEVBQVEsUUFBU04sR0FBVyxDQUMxQkssRUFBWSxLQUFLLENBQ2YsR0FBSUwsRUFBTyxHQUNYLElBQUtBLEVBQU8sSUFDWixLQUFNQSxFQUFPLEtBQ2IsRUFBR0EsRUFBTyxFQUNWLEVBQUdBLEVBQU8sQ0FDWixDQUFDLENBQ0gsQ0FBQyxDQUNILENBQUMsRUFDRCxLQUFLLE1BQU0sS0FBSyxDQUNkLFdBQVksU0FDWixRQUFTSyxDQUNYLENBQUMsQ0FDSCxDQUFDLEVBSUQsS0FBSyxNQUFNLEdBQUcsbUJBQW9CLElBQU0sQ0FDdEMsS0FBSyxPQUFPLFNBQVMsS0FBSyxNQUFNLElBQUksV0FBVyxDQUFDLENBQ2xELENBQUMsRUFFRCxLQUFLLE1BQU0sR0FBRyxnQkFBaUIsSUFBTSxDQUNuQyxLQUFLLE9BQU8sZUFBZSxLQUFLLE1BQU0sSUFBSSxRQUFRLENBQUMsQ0FDckQsQ0FBQyxFQUVELEtBQUssTUFBTSxHQUFHLHdCQUF5QixJQUFNLENBQzNDLEtBQUssT0FBTyxxQkFBcUIsS0FBSyxNQUFNLElBQUksZ0JBQWdCLENBQUMsQ0FDbkUsQ0FBQyxFQUVELEtBQUssTUFBTSxHQUFHLGdDQUFpQyxJQUFNLENBQ25ELEtBQUssT0FDRixxQkFBcUIsRUFDckIsU0FBUyxLQUFLLE1BQU0sSUFBSSx3QkFBd0IsQ0FBQyxDQUN0RCxDQUFDLEVBRUQsS0FBSyxjQUFnQixDQUNuQixXQUFZLEtBQUssZUFBZSxnQkFDaEMsWUFBYSxLQUFLLGVBQWUsZ0JBQ2pDLFNBQVUsS0FBSyxlQUFlLGNBQzlCLHFCQUFzQixLQUFLLGVBQWUsd0JBQzFDLGlCQUFrQixLQUFLLGVBQWUsb0JBQ3RDLGtCQUFtQixLQUFLLGVBQWUscUJBQ3ZDLFlBQWEsS0FBSyxlQUFlLGlCQUNqQyxnQkFBaUIsS0FBSyxlQUFlLHFCQUNyQyxrQkFBbUIsS0FBSyxlQUFlLHNCQUN2Qyw4QkFDRSxLQUFLLGVBQWUsa0NBQ3RCLFVBQVcsS0FBSyxlQUFlLGNBQ2pDLEVBRUEsS0FBSyxNQUFNLEdBQUcsYUFBYyxDQUFDRSxFQUFLQyxJQUFZLENBQzVDLElBQU1DLEVBQVlGLEVBQUksV0FDaEJHLEVBQVUsS0FBSyxjQUFjRCxDQUFTLEVBQzVDLEdBQUlDLEVBQVNBLEVBQVEsS0FBSyxLQUFNSCxFQUFLQyxDQUFPLE1BQ3ZDLE9BQU0sSUFBSSxNQUFNLHVCQUF1QkMsQ0FBUyxFQUFFLENBQ3pELENBQUMsQ0FDSCxDQU1BLGdCQUFpQixDQUNmLEtBQUssTUFBTSxJQUFJLGdCQUFnQixFQUMvQixLQUFLLE1BQU0sSUFBSSxhQUFhLEVBQzVCLEtBQUssTUFBTSxJQUFJLGdCQUFnQixFQUMvQixLQUFLLE1BQU0sSUFBSSxrQkFBa0IsRUFDakMsS0FBSyxNQUFNLElBQUksZUFBZSxFQUM5QixLQUFLLE1BQU0sSUFBSSx1QkFBdUIsRUFDdEMsS0FBSyxNQUFNLElBQUksK0JBQStCLEVBQzlDLEtBQUssTUFBTSxJQUFJLHNCQUFzQixFQUNyQyxLQUFLLE1BQU0sSUFBSSxZQUFZLENBQzdCLENBQ0YsRUNsUkEsU0FBU0UsRUFBZUMsRUFBT0MsRUFBSSxDQUNqQ0MsRUFBYUMsRUFBWSxDQUFDLEVBQzFCLElBQUlDLEVBQWMsQ0FBQyxFQUNuQkosRUFBTSxJQUFJLGNBQWMsRUFBRSxRQUFTSyxHQUFnQixDQUNqREQsRUFBWUUsRUFBcUJELENBQVcsQ0FBQyxFQUFJTCxFQUFNLElBQUlLLENBQVcsQ0FDeEUsQ0FBQyxFQUVELElBQUlFLEVBQVksU0FBUyxjQUFjLEtBQUssRUFDNUNBLEVBQVUsVUFBVSxJQUFJLGVBQWUsRUFDdkNBLEVBQVUsTUFBTSxPQUFTLEdBQUdILEVBQVksTUFBUyxLQUVqREcsRUFBVSxHQUFLLG1CQUFtQkosQ0FBUyxHQUMzQyxJQUFJSyxFQUFTLElBQUlDLEVBQUUsT0FBT0YsRUFBV0gsQ0FBVyxFQUkxQ00sRUFBUU4sRUFBWSxPQUFVLE1BQU0sR0FBRyxFQUM3Q0ksRUFBTyxVQUFVRSxFQUFNLENBQUMsRUFBR0EsRUFBTSxDQUFDLENBQUMsRUFHbkMsSUFBTUMsRUFBYUgsRUFBTyxPQUFPLEVBQ2pDLE9BQUFSLEVBQU0sSUFBSSxVQUFXLENBQ25CLEVBQUdXLEVBQVcsQ0FBQyxFQUNmLEVBQUdBLEVBQVcsQ0FBQyxDQUNqQixDQUFDLEVBQ0RYLEVBQU0sSUFBSSxPQUFRUSxFQUFPLFdBQVcsQ0FBQyxFQUNyQ1IsRUFBTSxhQUFhLEVBRW5CQyxFQUFHLFlBQVlNLENBQVMsRUFDakIsQ0FBRSxPQUFBQyxFQUFRLFVBQUFELENBQVUsQ0FDN0IsQ0FFQSxlQUFlSyxFQUFXLENBQUUsTUFBQVosQ0FBTSxFQUFHLENBQ25DLE1BQU1TLEVBQUUsSUFDVixDQUVBLFNBQVNJLEVBQU8sQ0FBRSxNQUFBYixFQUFPLEdBQUFDLENBQUcsRUFBRyxDQUs3QixHQUFNLENBQUUsT0FBQU8sRUFBUSxVQUFBRCxDQUFVLEVBQUlSLEVBQWVDLEVBQU9DLENBQUUsRUFFaERhLEVBQWUsSUFBSUMsRUFBYVAsRUFBUUQsRUFBV1AsQ0FBSyxFQUM5RCxPQUFBYyxFQUFhLGFBQWEsRUFFbkIsSUFBTSxDQUVYQSxFQUFhLGVBQWUsQ0FDOUIsQ0FDRixDQUVBLElBQU9FLEVBQVEsQ0FBRSxXQUFBSixFQUFZLE9BQUFDLENBQU8iLAogICJuYW1lcyI6IFsic25ha2VDYXNlVG9DYW1lbENhc2UiLCAic25ha2VDYXNlU3RyIiwgInRlbXAiLCAiaSIsICJjb252ZXJ0T3B0aW9uTmFtZXNUb0NhbWVsQ2FzZSIsICJvcHRpb25zIiwgIm5ld09wdGlvbnMiLCAib3B0aW9uTmFtZSIsICJMb2NrIiwgImRpdk51bWJlciIsICJzZXREaXZOdW1iZXIiLCAibnVtIiwgIkEiLCAiYWxhZGluX2xpdGVfZGVmYXVsdCIsICJpbWFnZUNvdW50IiwgIk1lc3NhZ2VIYW5kbGVyIiwgImFsYWRpbiIsICJtb2RlbCIsICJtc2ciLCAiYnVmZmVycyIsICJvcHRpb25zIiwgImNvbnZlcnRPcHRpb25OYW1lc1RvQ2FtZWxDYXNlIiwgImJ1ZmZlciIsICJibG9iIiwgInVybCIsICJpbWFnZSIsICJyYSIsICJkZWMiLCAiYWxhZGluX2xpdGVfZGVmYXVsdCIsICJyZWdpb25zIiwgImdyYXBoaWNfb3B0aW9ucyIsICJvdmVybGF5IiwgInJlZ2lvbiIsICJpbmZvcyIsICJkZWNvZGVyIiwgImNhdGFsb2ciLCAiRXZlbnRIYW5kbGVyIiwgImFsYWRpbiIsICJhbGFkaW5EaXYiLCAibW9kZWwiLCAiTWVzc2FnZUhhbmRsZXIiLCAiY3VycmVudERpdk51bWJlciIsICJkaXZOdW1iZXIiLCAibWF4RGl2IiwgImFsRGl2IiwgInNldERpdk51bWJlciIsICJ0d29BeGlzRm9WIiwgImpzVGFyZ2V0TG9jayIsICJMb2NrIiwgInB5VGFyZ2V0TG9jayIsICJwb3NpdGlvbiIsICJyYURlYyIsICJ0YXJnZXQiLCAicmEiLCAiZGVjIiwgImpzRm92TG9jayIsICJweUZvdkxvY2siLCAiZm92IiwgImhlaWdodCIsICJfIiwgImxheWVyTmFtZSIsICJzdGF0ZSIsICJvYmplY3QiLCAiY2xpY2tlZCIsICJjbGlja2VkQ29udGVudCIsICJjbGlja0NvbnRlbnQiLCAiY2F0YWxvZ3MiLCAib2JqZWN0c0RhdGEiLCAiY2F0YWxvZyIsICJtc2ciLCAiYnVmZmVycyIsICJldmVudE5hbWUiLCAiaGFuZGxlciIsICJpbml0QWxhZGluTGl0ZSIsICJtb2RlbCIsICJlbCIsICJzZXREaXZOdW1iZXIiLCAiZGl2TnVtYmVyIiwgImluaXRPcHRpb25zIiwgIm9wdGlvbl9uYW1lIiwgInNuYWtlQ2FzZVRvQ2FtZWxDYXNlIiwgImFsYWRpbkRpdiIsICJhbGFkaW4iLCAiYWxhZGluX2xpdGVfZGVmYXVsdCIsICJyYURlYyIsICJ0d29BeGlzRm9WIiwgImluaXRpYWxpemUiLCAicmVuZGVyIiwgImV2ZW50SGFuZGxlciIsICJFdmVudEhhbmRsZXIiLCAid2lkZ2V0X2RlZmF1bHQiXQp9Cg==\n",
       "_fov": 5.60143,
       "_fov_xy": {
        "x": 5.60143396583755,
        "y": 5.60143396583755
       },
       "_height": 800,
       "_model_module": "anywidget",
       "_model_module_version": "0.9.10",
       "_model_name": "AnyModel",
       "_target": "10.684708299999999 41.268749999999976",
       "_view_module": "anywidget",
       "_view_module_version": "0.9.10",
       "_view_name": "AnyView",
       "_wcs": {
        "CDELT1": -5.60143396583755,
        "CDELT2": 5.60143396583755,
        "CRPIX1": 1,
        "CRPIX2": 1,
        "CRVAL1": 10.684708299999997,
        "CRVAL2": 41.26874999999998,
        "CTYPE1": "RA---SIN",
        "CTYPE2": "DEC--SIN",
        "CUNIT1": "deg     ",
        "CUNIT2": "deg     ",
        "LONPOLE": 180.00000000000006,
        "NAXIS": 2,
        "NAXIS1": 1,
        "NAXIS2": 1,
        "RADESYS": "ICRS    "
       },
       "background_color": "rgb(60, 60, 60)",
       "clicked_object": {},
       "coo_frame": "J2000",
       "full_screen": false,
       "grid_color": "rgb(178, 50, 178)",
       "grid_opacity": 0.5,
       "grid_options": {
        "color": {
         "b": 0.6980392156862745,
         "g": 0.19607843137254902,
         "r": 0.6980392156862745
        },
        "enabled": false,
        "labelSize": 15,
        "opacity": 0.5,
        "showLabels": true,
        "thickness": 2
       },
       "init_options": [
        "_fov",
        "_height",
        "_target",
        "background_color",
        "coo_frame",
        "full_screen",
        "grid_color",
        "grid_opacity",
        "grid_options",
        "overlay_survey",
        "overlay_survey_opacity",
        "projection",
        "reticle_color",
        "reticle_size",
        "samp",
        "show_catalog",
        "show_context_menu",
        "show_coo_grid",
        "show_coo_grid_control",
        "show_coo_location",
        "show_fov",
        "show_frame",
        "show_fullscreen_control",
        "show_layers_control",
        "show_overlay_stack_control",
        "show_projection_control",
        "show_reticle",
        "show_settings_control",
        "show_share_control",
        "show_simbad_pointer_control",
        "show_status_bar",
        "show_zoom_control",
        "survey"
       ],
       "layout": "IPY_MODEL_963ac6a600854d92a585c08214f76219",
       "overlay_survey": "",
       "overlay_survey_opacity": 0,
       "projection": "SIN",
       "reticle_color": "rgb(178, 50, 178)",
       "reticle_size": 20,
       "samp": false,
       "show_catalog": true,
       "show_context_menu": true,
       "show_coo_grid": false,
       "show_coo_grid_control": true,
       "show_coo_location": true,
       "show_fov": true,
       "show_frame": true,
       "show_fullscreen_control": true,
       "show_layers_control": true,
       "show_overlay_stack_control": true,
       "show_projection_control": true,
       "show_reticle": true,
       "show_settings_control": true,
       "show_share_control": false,
       "show_simbad_pointer_control": true,
       "show_status_bar": true,
       "show_zoom_control": false,
       "survey": "CDS/P/PLANCK/R2/HFI/color"
      }
     },
     "963ac6a600854d92a585c08214f76219": {
      "model_module": "@jupyter-widgets/base",
      "model_module_version": "2.0.0",
      "model_name": "LayoutModel",
      "state": {}
     }
    },
    "version_major": 2,
    "version_minor": 0
   }
  }
 },
 "nbformat": 4,
 "nbformat_minor": 5
}
